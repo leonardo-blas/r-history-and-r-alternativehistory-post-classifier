{
 "cells": [
  {
   "cell_type": "markdown",
   "id": "34f9a274-6711-41af-9f55-fbacc6ae2a1d",
   "metadata": {},
   "source": [
    "# Creating the datasets"
   ]
  },
  {
   "cell_type": "markdown",
   "id": "9d004313-c7d2-49e2-b446-73a67ff2b61e",
   "metadata": {
    "jp-MarkdownHeadingCollapsed": true
   },
   "source": [
    "## Preparations"
   ]
  },
  {
   "cell_type": "code",
   "execution_count": 1,
   "id": "02f71eb6-b3c4-4fcf-b350-8a4f3b1d157d",
   "metadata": {},
   "outputs": [],
   "source": [
    "import praw\n",
    "import pandas as pd\n",
    "from sklearn.model_selection import train_test_split"
   ]
  },
  {
   "cell_type": "markdown",
   "id": "e818d258-c82c-4526-b8b3-f7a9c82fdba0",
   "metadata": {
    "jp-MarkdownHeadingCollapsed": true
   },
   "source": [
    "## Scraping"
   ]
  },
  {
   "cell_type": "code",
   "execution_count": 2,
   "id": "af42b924-df62-4561-9544-6b1635addaa6",
   "metadata": {},
   "outputs": [],
   "source": [
    "client = praw.Reddit(\n",
    "    client_id=\"i_udbZWZSLclxMehwev7OA\",\n",
    "    client_secret=\"Nt-DzC6e6_jZtisW33oGNGRGHiDZDg\",\n",
    "    user_agent=\"agent\",\n",
    "    username=\"Wapencio\",\n",
    "    password=\"PztBJR!7!w2E!am\"\n",
    ")"
   ]
  },
  {
   "cell_type": "code",
   "execution_count": 3,
   "id": "22ebc85f-7502-43e2-916b-fcc998be347a",
   "metadata": {},
   "outputs": [],
   "source": [
    "history_client = client.subreddit(\"History\")"
   ]
  },
  {
   "cell_type": "code",
   "execution_count": 4,
   "id": "a9e4e453-5497-47ef-a268-af31945298d7",
   "metadata": {},
   "outputs": [],
   "source": [
    "history_submissions = set()"
   ]
  },
  {
   "cell_type": "code",
   "execution_count": 5,
   "id": "896c255c-de08-490d-82fd-5f8fb0f681e6",
   "metadata": {},
   "outputs": [],
   "source": [
    "for submission in history_client.new(limit=1000):\n",
    "    history_submissions.add(submission)\n",
    "for submission in history_client.hot(limit=1000):\n",
    "    history_submissions.add(submission)\n",
    "for submission in history_client.top(limit=1000):\n",
    "    history_submissions.add(submission)\n",
    "for submission in history_client.rising(limit=1000):\n",
    "    history_submissions.add(submission)"
   ]
  },
  {
   "cell_type": "code",
   "execution_count": 6,
   "id": "b7b7b785-4c27-47ae-8f44-ef6be5740da6",
   "metadata": {},
   "outputs": [
    {
     "data": {
      "text/plain": [
       "1935"
      ]
     },
     "execution_count": 6,
     "metadata": {},
     "output_type": "execute_result"
    }
   ],
   "source": [
    "len(history_submissions)"
   ]
  },
  {
   "cell_type": "code",
   "execution_count": 7,
   "id": "db046760-48af-4556-8a08-10ae42c28443",
   "metadata": {},
   "outputs": [],
   "source": [
    "alternative_history_client = client.subreddit(\"alternativehistory\")"
   ]
  },
  {
   "cell_type": "code",
   "execution_count": 8,
   "id": "ed295c37-5963-4414-b7f0-64fd5d74db69",
   "metadata": {},
   "outputs": [],
   "source": [
    "alternative_history_submissions = set()"
   ]
  },
  {
   "cell_type": "code",
   "execution_count": 9,
   "id": "3fe3696b-79b9-4848-a4bc-577b62e931e4",
   "metadata": {},
   "outputs": [],
   "source": [
    "for submission in alternative_history_client.new(limit=1000):\n",
    "    alternative_history_submissions.add(submission)\n",
    "for submission in alternative_history_client.hot(limit=1000):\n",
    "    alternative_history_submissions.add(submission)\n",
    "for submission in alternative_history_client.top(limit=1000):\n",
    "    alternative_history_submissions.add(submission)\n",
    "for submission in alternative_history_client.rising(limit=1000):\n",
    "    alternative_history_submissions.add(submission)"
   ]
  },
  {
   "cell_type": "code",
   "execution_count": 10,
   "id": "15e2b763-71ca-4d58-9431-19d478f64d20",
   "metadata": {},
   "outputs": [
    {
     "data": {
      "text/plain": [
       "1905"
      ]
     },
     "execution_count": 10,
     "metadata": {},
     "output_type": "execute_result"
    }
   ],
   "source": [
    "len(alternative_history_submissions)"
   ]
  },
  {
   "cell_type": "markdown",
   "id": "ada602ef-b7fa-48aa-910d-81ea84246efe",
   "metadata": {},
   "source": [
    "Notice how we use sets to prevent duplicate rows"
   ]
  },
  {
   "cell_type": "markdown",
   "id": "5d3f6e97-2797-4a3c-879d-3118ea48175e",
   "metadata": {
    "jp-MarkdownHeadingCollapsed": true
   },
   "source": [
    "## `Submission` to `DataFrame`"
   ]
  },
  {
   "cell_type": "markdown",
   "id": "5d3065c0-be18-485e-b0c9-636df00fc2f9",
   "metadata": {},
   "source": [
    "We have `Submission` objects and we want `DataFrame` objects, and later, `csv` files."
   ]
  },
  {
   "cell_type": "code",
   "execution_count": 11,
   "id": "2c522cd4-a22c-4451-8e28-a013c1147ef9",
   "metadata": {},
   "outputs": [],
   "source": [
    "history = []\n",
    "for submission in history_submissions:\n",
    "    parameters = {}\n",
    "    for parameter in vars(submission):\n",
    "        parameters[parameter] = getattr(submission, parameter, None)\n",
    "    history.append(parameters)"
   ]
  },
  {
   "cell_type": "code",
   "execution_count": 12,
   "id": "3589c271-9229-454c-8804-ea7efc90071e",
   "metadata": {},
   "outputs": [],
   "source": [
    "history = pd.DataFrame(history)"
   ]
  },
  {
   "cell_type": "code",
   "execution_count": 13,
   "id": "f57908a8-15d7-4435-99cd-f93ab6b152ff",
   "metadata": {},
   "outputs": [
    {
     "name": "stdout",
     "output_type": "stream",
     "text": [
      "<class 'pandas.core.frame.DataFrame'>\n",
      "RangeIndex: 1935 entries, 0 to 1934\n",
      "Columns: 119 entries, comment_limit to crosspost_parent\n",
      "dtypes: bool(29), float64(5), int64(11), object(74)\n",
      "memory usage: 1.4+ MB\n"
     ]
    }
   ],
   "source": [
    "history.info()"
   ]
  },
  {
   "cell_type": "markdown",
   "id": "83251815-6051-41ff-8582-367fd7c4ca4d",
   "metadata": {},
   "source": [
    "And we repeat the same process with our other dataset."
   ]
  },
  {
   "cell_type": "code",
   "execution_count": 14,
   "id": "68d98f8a-4555-4c36-9ba0-b2c81194df74",
   "metadata": {},
   "outputs": [],
   "source": [
    "alternative_history = []\n",
    "for submission in alternative_history_submissions:\n",
    "    parameters = {}\n",
    "    for parameter in vars(submission):\n",
    "        parameters[parameter] = getattr(submission, parameter, None)\n",
    "    alternative_history.append(parameters)"
   ]
  },
  {
   "cell_type": "code",
   "execution_count": 15,
   "id": "a7ea3732-76a1-4472-aa8d-25727e489a97",
   "metadata": {},
   "outputs": [],
   "source": [
    "alternative_history = pd.DataFrame(alternative_history)"
   ]
  },
  {
   "cell_type": "code",
   "execution_count": 16,
   "id": "831b230c-0fd0-4eba-a577-af01e8609d54",
   "metadata": {},
   "outputs": [
    {
     "name": "stdout",
     "output_type": "stream",
     "text": [
      "<class 'pandas.core.frame.DataFrame'>\n",
      "RangeIndex: 1905 entries, 0 to 1904\n",
      "Columns: 123 entries, comment_limit to author_cakeday\n",
      "dtypes: bool(29), float64(5), int64(9), object(80)\n",
      "memory usage: 1.4+ MB\n"
     ]
    }
   ],
   "source": [
    "alternative_history.info()"
   ]
  },
  {
   "cell_type": "markdown",
   "id": "7a4901ae-13b3-481b-803c-c9e119de95cc",
   "metadata": {
    "jp-MarkdownHeadingCollapsed": true
   },
   "source": [
    "## Creating `history.csv` and `alternative_history.csv`"
   ]
  },
  {
   "cell_type": "code",
   "execution_count": 17,
   "id": "3fc453e5-61e7-49a1-a15d-76150d7cae4a",
   "metadata": {},
   "outputs": [],
   "source": [
    "history.to_csv(\"../data/history.csv\")\n",
    "alternative_history.to_csv(\"../data/alternative_history.csv\")"
   ]
  }
 ],
 "metadata": {
  "kernelspec": {
   "display_name": "Python 3 (ipykernel)",
   "language": "python",
   "name": "python3"
  },
  "language_info": {
   "codemirror_mode": {
    "name": "ipython",
    "version": 3
   },
   "file_extension": ".py",
   "mimetype": "text/x-python",
   "name": "python",
   "nbconvert_exporter": "python",
   "pygments_lexer": "ipython3",
   "version": "3.11.8"
  }
 },
 "nbformat": 4,
 "nbformat_minor": 5
}
