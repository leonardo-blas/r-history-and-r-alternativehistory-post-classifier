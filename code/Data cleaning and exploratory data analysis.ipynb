{
 "cells": [
  {
   "cell_type": "markdown",
   "id": "34d04ee5-06bf-41ab-947d-bed0e0423014",
   "metadata": {},
   "source": [
    "# Data cleaning and exploratory data analysis"
   ]
  },
  {
   "cell_type": "markdown",
   "id": "33383b87-5e48-48da-9649-36bc64fa5c20",
   "metadata": {
    "jp-MarkdownHeadingCollapsed": true
   },
   "source": [
    "## Preparations"
   ]
  },
  {
   "cell_type": "code",
   "execution_count": 1,
   "id": "b78413ba-073d-4ddb-89b1-61149cdf3530",
   "metadata": {},
   "outputs": [],
   "source": [
    "import pandas as pd\n",
    "from skimpy import skim"
   ]
  },
  {
   "cell_type": "code",
   "execution_count": 2,
   "id": "c3c07ff5-acb9-408f-9e84-58333f35ec05",
   "metadata": {},
   "outputs": [],
   "source": [
    "history = pd.read_csv(\"../data/history.csv\")\n",
    "alternative_history = pd.read_csv(\"../data/alternative_history.csv\")"
   ]
  },
  {
   "cell_type": "markdown",
   "id": "eae19104-df32-4963-99c2-d357099d2a26",
   "metadata": {
    "jp-MarkdownHeadingCollapsed": true
   },
   "source": [
    "## Common columns"
   ]
  },
  {
   "cell_type": "markdown",
   "id": "2e70d278-c38f-48d5-9165-5ff539575db7",
   "metadata": {},
   "source": [
    "Our databases do not have the same number of features--119 vs 123--and because some subreddits may moderate some features to be constant, we arbitrarily select only the columns we think are useful in this classification task.\n",
    "<br>\n",
    "Some examples of conflicting features in our datasets include the `removal_reason` and `author_flair_text` columns."
   ]
  },
  {
   "cell_type": "code",
   "execution_count": 3,
   "id": "e9063f25-341e-41eb-bcf0-2853a4ab4d5b",
   "metadata": {
    "scrolled": true
   },
   "outputs": [
    {
     "name": "stdout",
     "output_type": "stream",
     "text": [
      "[nan]\n",
      "[nan 'legal']\n"
     ]
    }
   ],
   "source": [
    "print(history[\"removal_reason\"].unique())\n",
    "print(alternative_history[\"removal_reason\"].unique())"
   ]
  },
  {
   "cell_type": "code",
   "execution_count": 4,
   "id": "e6c81c33-e140-4041-b75e-8a6cbc56ca36",
   "metadata": {
    "scrolled": true
   },
   "outputs": [
    {
     "name": "stdout",
     "output_type": "stream",
     "text": [
      "[\"I've been called many things, but never fun.\" nan\n",
      " 'Waiting for the Roman Empire to reform' 'Four Time Hero of /r/History'\n",
      " 'History of Witchcraft' 'Chief Technologist, Fleet Admiral '\n",
      " 'Probably the handsomest person here' 'Quite the arrogant one.'\n",
      " 'Supreme Allied Commander' 'What, were you expecting something witty?'\n",
      " 'history ' 'Hic sunt dracones' 'archaeologist of new, week 28']\n",
      "[nan]\n"
     ]
    }
   ],
   "source": [
    "print(history[\"author_flair_text\"].unique())\n",
    "print(alternative_history[\"author_flair_text\"].unique())"
   ]
  },
  {
   "cell_type": "markdown",
   "id": "c725d6f1-9dc1-4c76-bdf9-2bca0c07460c",
   "metadata": {},
   "source": [
    "Our selection of columns includes:"
   ]
  },
  {
   "cell_type": "code",
   "execution_count": 5,
   "id": "372549dd-1655-4711-aeee-d3aeb74ae048",
   "metadata": {},
   "outputs": [],
   "source": [
    "common_columns = [\n",
    "    \"selftext\",\n",
    "    \"gilded\",\n",
    "    \"title\",\n",
    "    \"downs\",\n",
    "    \"thumbnail_height\",\n",
    "    \"upvote_ratio\",\n",
    "    \"ups\",\n",
    "    \"thumbnail_width\",\n",
    "    \"score\",\n",
    "    \"author_premium\",\n",
    "    \"edited\",\n",
    "    \"is_self\",\n",
    "    \"created\",\n",
    "    \"domain\",\n",
    "    \"allow_live_comments\",\n",
    "    \"no_follow\",\n",
    "    \"over_18\",\n",
    "    \"spoiler\",\n",
    "    \"locked\",\n",
    "    \"distinguished\",\n",
    "    \"author\",\n",
    "    \"num_comments\",\n",
    "    \"send_replies\",\n",
    "    \"stickied\",\n",
    "    \"url\",\n",
    "    \"num_crossposts\"\n",
    "]"
   ]
  },
  {
   "cell_type": "markdown",
   "id": "397129fe-2eb9-4c3d-97de-c52a046edef0",
   "metadata": {},
   "source": [
    "And we check if we can use these columns in our analysis--in other words, we check if they have the same nominal and ordinal values and similar numeric values."
   ]
  },
  {
   "cell_type": "code",
   "execution_count": 6,
   "id": "eede3dc4-8fcf-48fe-b633-ebb5402f8409",
   "metadata": {},
   "outputs": [
    {
     "name": "stdout",
     "output_type": "stream",
     "text": [
      "selftext -- 511 -- 518\n",
      "gilded -- 7 -- 3\n",
      "title -- 1805 -- 1892\n",
      "downs -- 1 -- 1\n",
      "thumbnail_height -- 81 -- 86\n",
      "upvote_ratio -- 56 -- 80\n",
      "ups -- 1468 -- 588\n",
      "thumbnail_width -- 2 -- 2\n",
      "score -- 1468 -- 588\n",
      "author_premium -- 2 -- 2\n",
      "edited -- 221 -- 90\n",
      "is_self -- 2 -- 2\n",
      "created -- 1935 -- 1905\n",
      "domain -- 443 -- 160\n",
      "allow_live_comments -- 2 -- 2\n",
      "no_follow -- 2 -- 2\n",
      "over_18 -- 2 -- 2\n",
      "spoiler -- 2 -- 2\n",
      "locked -- 2 -- 2\n",
      "distinguished -- 1 -- 1\n",
      "author -- 921 -- 669\n",
      "num_comments -- 763 -- 264\n",
      "send_replies -- 2 -- 2\n",
      "stickied -- 2 -- 2\n",
      "url -- 1933 -- 1894\n",
      "num_crossposts -- 23 -- 12\n"
     ]
    }
   ],
   "source": [
    "for column in common_columns:\n",
    "    print(f\"{column} -- {history[column].nunique()} -- {alternative_history[column].nunique()}\")"
   ]
  },
  {
   "cell_type": "markdown",
   "id": "d3127590-9f52-49a4-b5dc-e6349bc404a6",
   "metadata": {},
   "source": [
    "For now, for further analysis, we reduce our datasets to only those columns. Later, we will use transformers to properly modify the datasets."
   ]
  },
  {
   "cell_type": "code",
   "execution_count": 7,
   "id": "cde609cf-d278-4020-8d45-8275fc4efbbd",
   "metadata": {},
   "outputs": [],
   "source": [
    "history = history[common_columns]\n",
    "alternative_history = alternative_history[common_columns]"
   ]
  },
  {
   "cell_type": "markdown",
   "id": "86002dc4-de94-4056-8587-6a9686397dcb",
   "metadata": {},
   "source": [
    "Next, we conduct a correlation analysis."
   ]
  },
  {
   "cell_type": "markdown",
   "id": "8bc42c47-35f7-46c0-a2be-aa6e96423504",
   "metadata": {
    "jp-MarkdownHeadingCollapsed": true
   },
   "source": [
    "## Correlation analysis"
   ]
  },
  {
   "cell_type": "code",
   "execution_count": 8,
   "id": "8e923653-d137-4d3c-9697-2ef0adc19ed5",
   "metadata": {},
   "outputs": [],
   "source": [
    "history_correlation_matrix = history.select_dtypes(\"number\").corr()\n",
    "alternative_history_correlation_matrix = alternative_history.select_dtypes(\"number\").corr()"
   ]
  },
  {
   "cell_type": "code",
   "execution_count": 9,
   "id": "ff962a1c-dea0-450c-ae47-ce4ad4cf0aec",
   "metadata": {},
   "outputs": [
    {
     "data": {
      "text/html": [
       "<div>\n",
       "<style scoped>\n",
       "    .dataframe tbody tr th:only-of-type {\n",
       "        vertical-align: middle;\n",
       "    }\n",
       "\n",
       "    .dataframe tbody tr th {\n",
       "        vertical-align: top;\n",
       "    }\n",
       "\n",
       "    .dataframe thead th {\n",
       "        text-align: right;\n",
       "    }\n",
       "</style>\n",
       "<table border=\"1\" class=\"dataframe\">\n",
       "  <thead>\n",
       "    <tr style=\"text-align: right;\">\n",
       "      <th></th>\n",
       "      <th>gilded</th>\n",
       "      <th>downs</th>\n",
       "      <th>thumbnail_height</th>\n",
       "      <th>upvote_ratio</th>\n",
       "      <th>ups</th>\n",
       "      <th>thumbnail_width</th>\n",
       "      <th>score</th>\n",
       "      <th>created</th>\n",
       "      <th>num_comments</th>\n",
       "      <th>num_crossposts</th>\n",
       "    </tr>\n",
       "  </thead>\n",
       "  <tbody>\n",
       "    <tr>\n",
       "      <th>gilded</th>\n",
       "      <td>1.000000</td>\n",
       "      <td>NaN</td>\n",
       "      <td>0.046968</td>\n",
       "      <td>0.051037</td>\n",
       "      <td>0.225373</td>\n",
       "      <td>0.007946</td>\n",
       "      <td>0.225373</td>\n",
       "      <td>-0.109017</td>\n",
       "      <td>0.142730</td>\n",
       "      <td>0.114415</td>\n",
       "    </tr>\n",
       "    <tr>\n",
       "      <th>downs</th>\n",
       "      <td>NaN</td>\n",
       "      <td>NaN</td>\n",
       "      <td>NaN</td>\n",
       "      <td>NaN</td>\n",
       "      <td>NaN</td>\n",
       "      <td>NaN</td>\n",
       "      <td>NaN</td>\n",
       "      <td>NaN</td>\n",
       "      <td>NaN</td>\n",
       "      <td>NaN</td>\n",
       "    </tr>\n",
       "    <tr>\n",
       "      <th>thumbnail_height</th>\n",
       "      <td>0.046968</td>\n",
       "      <td>NaN</td>\n",
       "      <td>1.000000</td>\n",
       "      <td>-0.064668</td>\n",
       "      <td>-0.102524</td>\n",
       "      <td>0.094070</td>\n",
       "      <td>-0.102524</td>\n",
       "      <td>0.092982</td>\n",
       "      <td>-0.113776</td>\n",
       "      <td>0.011264</td>\n",
       "    </tr>\n",
       "    <tr>\n",
       "      <th>upvote_ratio</th>\n",
       "      <td>0.051037</td>\n",
       "      <td>NaN</td>\n",
       "      <td>-0.064668</td>\n",
       "      <td>1.000000</td>\n",
       "      <td>0.150993</td>\n",
       "      <td>0.020325</td>\n",
       "      <td>0.150993</td>\n",
       "      <td>-0.150364</td>\n",
       "      <td>0.067520</td>\n",
       "      <td>0.128215</td>\n",
       "    </tr>\n",
       "    <tr>\n",
       "      <th>ups</th>\n",
       "      <td>0.225373</td>\n",
       "      <td>NaN</td>\n",
       "      <td>-0.102524</td>\n",
       "      <td>0.150993</td>\n",
       "      <td>1.000000</td>\n",
       "      <td>-0.044717</td>\n",
       "      <td>1.000000</td>\n",
       "      <td>-0.641972</td>\n",
       "      <td>0.508919</td>\n",
       "      <td>0.143386</td>\n",
       "    </tr>\n",
       "    <tr>\n",
       "      <th>thumbnail_width</th>\n",
       "      <td>0.007946</td>\n",
       "      <td>NaN</td>\n",
       "      <td>0.094070</td>\n",
       "      <td>0.020325</td>\n",
       "      <td>-0.044717</td>\n",
       "      <td>1.000000</td>\n",
       "      <td>-0.044717</td>\n",
       "      <td>0.039182</td>\n",
       "      <td>-0.011508</td>\n",
       "      <td>0.019635</td>\n",
       "    </tr>\n",
       "    <tr>\n",
       "      <th>score</th>\n",
       "      <td>0.225373</td>\n",
       "      <td>NaN</td>\n",
       "      <td>-0.102524</td>\n",
       "      <td>0.150993</td>\n",
       "      <td>1.000000</td>\n",
       "      <td>-0.044717</td>\n",
       "      <td>1.000000</td>\n",
       "      <td>-0.641972</td>\n",
       "      <td>0.508919</td>\n",
       "      <td>0.143386</td>\n",
       "    </tr>\n",
       "    <tr>\n",
       "      <th>created</th>\n",
       "      <td>-0.109017</td>\n",
       "      <td>NaN</td>\n",
       "      <td>0.092982</td>\n",
       "      <td>-0.150364</td>\n",
       "      <td>-0.641972</td>\n",
       "      <td>0.039182</td>\n",
       "      <td>-0.641972</td>\n",
       "      <td>1.000000</td>\n",
       "      <td>-0.596421</td>\n",
       "      <td>0.055959</td>\n",
       "    </tr>\n",
       "    <tr>\n",
       "      <th>num_comments</th>\n",
       "      <td>0.142730</td>\n",
       "      <td>NaN</td>\n",
       "      <td>-0.113776</td>\n",
       "      <td>0.067520</td>\n",
       "      <td>0.508919</td>\n",
       "      <td>-0.011508</td>\n",
       "      <td>0.508919</td>\n",
       "      <td>-0.596421</td>\n",
       "      <td>1.000000</td>\n",
       "      <td>-0.020672</td>\n",
       "    </tr>\n",
       "    <tr>\n",
       "      <th>num_crossposts</th>\n",
       "      <td>0.114415</td>\n",
       "      <td>NaN</td>\n",
       "      <td>0.011264</td>\n",
       "      <td>0.128215</td>\n",
       "      <td>0.143386</td>\n",
       "      <td>0.019635</td>\n",
       "      <td>0.143386</td>\n",
       "      <td>0.055959</td>\n",
       "      <td>-0.020672</td>\n",
       "      <td>1.000000</td>\n",
       "    </tr>\n",
       "  </tbody>\n",
       "</table>\n",
       "</div>"
      ],
      "text/plain": [
       "                    gilded  downs  thumbnail_height  upvote_ratio       ups  \\\n",
       "gilded            1.000000    NaN          0.046968      0.051037  0.225373   \n",
       "downs                  NaN    NaN               NaN           NaN       NaN   \n",
       "thumbnail_height  0.046968    NaN          1.000000     -0.064668 -0.102524   \n",
       "upvote_ratio      0.051037    NaN         -0.064668      1.000000  0.150993   \n",
       "ups               0.225373    NaN         -0.102524      0.150993  1.000000   \n",
       "thumbnail_width   0.007946    NaN          0.094070      0.020325 -0.044717   \n",
       "score             0.225373    NaN         -0.102524      0.150993  1.000000   \n",
       "created          -0.109017    NaN          0.092982     -0.150364 -0.641972   \n",
       "num_comments      0.142730    NaN         -0.113776      0.067520  0.508919   \n",
       "num_crossposts    0.114415    NaN          0.011264      0.128215  0.143386   \n",
       "\n",
       "                  thumbnail_width     score   created  num_comments  \\\n",
       "gilded                   0.007946  0.225373 -0.109017      0.142730   \n",
       "downs                         NaN       NaN       NaN           NaN   \n",
       "thumbnail_height         0.094070 -0.102524  0.092982     -0.113776   \n",
       "upvote_ratio             0.020325  0.150993 -0.150364      0.067520   \n",
       "ups                     -0.044717  1.000000 -0.641972      0.508919   \n",
       "thumbnail_width          1.000000 -0.044717  0.039182     -0.011508   \n",
       "score                   -0.044717  1.000000 -0.641972      0.508919   \n",
       "created                  0.039182 -0.641972  1.000000     -0.596421   \n",
       "num_comments            -0.011508  0.508919 -0.596421      1.000000   \n",
       "num_crossposts           0.019635  0.143386  0.055959     -0.020672   \n",
       "\n",
       "                  num_crossposts  \n",
       "gilded                  0.114415  \n",
       "downs                        NaN  \n",
       "thumbnail_height        0.011264  \n",
       "upvote_ratio            0.128215  \n",
       "ups                     0.143386  \n",
       "thumbnail_width         0.019635  \n",
       "score                   0.143386  \n",
       "created                 0.055959  \n",
       "num_comments           -0.020672  \n",
       "num_crossposts          1.000000  "
      ]
     },
     "execution_count": 9,
     "metadata": {},
     "output_type": "execute_result"
    }
   ],
   "source": [
    "history_correlation_matrix"
   ]
  },
  {
   "cell_type": "code",
   "execution_count": 10,
   "id": "8e559b51-c89b-4e79-bce9-a043ea8337a0",
   "metadata": {},
   "outputs": [
    {
     "data": {
      "text/html": [
       "<div>\n",
       "<style scoped>\n",
       "    .dataframe tbody tr th:only-of-type {\n",
       "        vertical-align: middle;\n",
       "    }\n",
       "\n",
       "    .dataframe tbody tr th {\n",
       "        vertical-align: top;\n",
       "    }\n",
       "\n",
       "    .dataframe thead th {\n",
       "        text-align: right;\n",
       "    }\n",
       "</style>\n",
       "<table border=\"1\" class=\"dataframe\">\n",
       "  <thead>\n",
       "    <tr style=\"text-align: right;\">\n",
       "      <th></th>\n",
       "      <th>gilded</th>\n",
       "      <th>downs</th>\n",
       "      <th>thumbnail_height</th>\n",
       "      <th>upvote_ratio</th>\n",
       "      <th>ups</th>\n",
       "      <th>thumbnail_width</th>\n",
       "      <th>score</th>\n",
       "      <th>created</th>\n",
       "      <th>num_comments</th>\n",
       "      <th>num_crossposts</th>\n",
       "    </tr>\n",
       "  </thead>\n",
       "  <tbody>\n",
       "    <tr>\n",
       "      <th>gilded</th>\n",
       "      <td>1.000000</td>\n",
       "      <td>NaN</td>\n",
       "      <td>0.000531</td>\n",
       "      <td>0.060992</td>\n",
       "      <td>0.087049</td>\n",
       "      <td>0.001603</td>\n",
       "      <td>0.087049</td>\n",
       "      <td>-0.078723</td>\n",
       "      <td>0.041897</td>\n",
       "      <td>0.096210</td>\n",
       "    </tr>\n",
       "    <tr>\n",
       "      <th>downs</th>\n",
       "      <td>NaN</td>\n",
       "      <td>NaN</td>\n",
       "      <td>NaN</td>\n",
       "      <td>NaN</td>\n",
       "      <td>NaN</td>\n",
       "      <td>NaN</td>\n",
       "      <td>NaN</td>\n",
       "      <td>NaN</td>\n",
       "      <td>NaN</td>\n",
       "      <td>NaN</td>\n",
       "    </tr>\n",
       "    <tr>\n",
       "      <th>thumbnail_height</th>\n",
       "      <td>0.000531</td>\n",
       "      <td>NaN</td>\n",
       "      <td>1.000000</td>\n",
       "      <td>0.098515</td>\n",
       "      <td>0.248920</td>\n",
       "      <td>0.041744</td>\n",
       "      <td>0.248920</td>\n",
       "      <td>-0.119981</td>\n",
       "      <td>0.148050</td>\n",
       "      <td>0.049409</td>\n",
       "    </tr>\n",
       "    <tr>\n",
       "      <th>upvote_ratio</th>\n",
       "      <td>0.060992</td>\n",
       "      <td>NaN</td>\n",
       "      <td>0.098515</td>\n",
       "      <td>1.000000</td>\n",
       "      <td>0.440137</td>\n",
       "      <td>-0.005284</td>\n",
       "      <td>0.440137</td>\n",
       "      <td>-0.563886</td>\n",
       "      <td>0.206804</td>\n",
       "      <td>0.180516</td>\n",
       "    </tr>\n",
       "    <tr>\n",
       "      <th>ups</th>\n",
       "      <td>0.087049</td>\n",
       "      <td>NaN</td>\n",
       "      <td>0.248920</td>\n",
       "      <td>0.440137</td>\n",
       "      <td>1.000000</td>\n",
       "      <td>0.017049</td>\n",
       "      <td>1.000000</td>\n",
       "      <td>-0.412276</td>\n",
       "      <td>0.538785</td>\n",
       "      <td>0.376692</td>\n",
       "    </tr>\n",
       "    <tr>\n",
       "      <th>thumbnail_width</th>\n",
       "      <td>0.001603</td>\n",
       "      <td>NaN</td>\n",
       "      <td>0.041744</td>\n",
       "      <td>-0.005284</td>\n",
       "      <td>0.017049</td>\n",
       "      <td>1.000000</td>\n",
       "      <td>0.017049</td>\n",
       "      <td>-0.018335</td>\n",
       "      <td>0.016421</td>\n",
       "      <td>0.011147</td>\n",
       "    </tr>\n",
       "    <tr>\n",
       "      <th>score</th>\n",
       "      <td>0.087049</td>\n",
       "      <td>NaN</td>\n",
       "      <td>0.248920</td>\n",
       "      <td>0.440137</td>\n",
       "      <td>1.000000</td>\n",
       "      <td>0.017049</td>\n",
       "      <td>1.000000</td>\n",
       "      <td>-0.412276</td>\n",
       "      <td>0.538785</td>\n",
       "      <td>0.376692</td>\n",
       "    </tr>\n",
       "    <tr>\n",
       "      <th>created</th>\n",
       "      <td>-0.078723</td>\n",
       "      <td>NaN</td>\n",
       "      <td>-0.119981</td>\n",
       "      <td>-0.563886</td>\n",
       "      <td>-0.412276</td>\n",
       "      <td>-0.018335</td>\n",
       "      <td>-0.412276</td>\n",
       "      <td>1.000000</td>\n",
       "      <td>-0.132865</td>\n",
       "      <td>-0.214778</td>\n",
       "    </tr>\n",
       "    <tr>\n",
       "      <th>num_comments</th>\n",
       "      <td>0.041897</td>\n",
       "      <td>NaN</td>\n",
       "      <td>0.148050</td>\n",
       "      <td>0.206804</td>\n",
       "      <td>0.538785</td>\n",
       "      <td>0.016421</td>\n",
       "      <td>0.538785</td>\n",
       "      <td>-0.132865</td>\n",
       "      <td>1.000000</td>\n",
       "      <td>0.293982</td>\n",
       "    </tr>\n",
       "    <tr>\n",
       "      <th>num_crossposts</th>\n",
       "      <td>0.096210</td>\n",
       "      <td>NaN</td>\n",
       "      <td>0.049409</td>\n",
       "      <td>0.180516</td>\n",
       "      <td>0.376692</td>\n",
       "      <td>0.011147</td>\n",
       "      <td>0.376692</td>\n",
       "      <td>-0.214778</td>\n",
       "      <td>0.293982</td>\n",
       "      <td>1.000000</td>\n",
       "    </tr>\n",
       "  </tbody>\n",
       "</table>\n",
       "</div>"
      ],
      "text/plain": [
       "                    gilded  downs  thumbnail_height  upvote_ratio       ups  \\\n",
       "gilded            1.000000    NaN          0.000531      0.060992  0.087049   \n",
       "downs                  NaN    NaN               NaN           NaN       NaN   \n",
       "thumbnail_height  0.000531    NaN          1.000000      0.098515  0.248920   \n",
       "upvote_ratio      0.060992    NaN          0.098515      1.000000  0.440137   \n",
       "ups               0.087049    NaN          0.248920      0.440137  1.000000   \n",
       "thumbnail_width   0.001603    NaN          0.041744     -0.005284  0.017049   \n",
       "score             0.087049    NaN          0.248920      0.440137  1.000000   \n",
       "created          -0.078723    NaN         -0.119981     -0.563886 -0.412276   \n",
       "num_comments      0.041897    NaN          0.148050      0.206804  0.538785   \n",
       "num_crossposts    0.096210    NaN          0.049409      0.180516  0.376692   \n",
       "\n",
       "                  thumbnail_width     score   created  num_comments  \\\n",
       "gilded                   0.001603  0.087049 -0.078723      0.041897   \n",
       "downs                         NaN       NaN       NaN           NaN   \n",
       "thumbnail_height         0.041744  0.248920 -0.119981      0.148050   \n",
       "upvote_ratio            -0.005284  0.440137 -0.563886      0.206804   \n",
       "ups                      0.017049  1.000000 -0.412276      0.538785   \n",
       "thumbnail_width          1.000000  0.017049 -0.018335      0.016421   \n",
       "score                    0.017049  1.000000 -0.412276      0.538785   \n",
       "created                 -0.018335 -0.412276  1.000000     -0.132865   \n",
       "num_comments             0.016421  0.538785 -0.132865      1.000000   \n",
       "num_crossposts           0.011147  0.376692 -0.214778      0.293982   \n",
       "\n",
       "                  num_crossposts  \n",
       "gilded                  0.096210  \n",
       "downs                        NaN  \n",
       "thumbnail_height        0.049409  \n",
       "upvote_ratio            0.180516  \n",
       "ups                     0.376692  \n",
       "thumbnail_width         0.011147  \n",
       "score                   0.376692  \n",
       "created                -0.214778  \n",
       "num_comments            0.293982  \n",
       "num_crossposts          1.000000  "
      ]
     },
     "execution_count": 10,
     "metadata": {},
     "output_type": "execute_result"
    }
   ],
   "source": [
    "alternative_history_correlation_matrix"
   ]
  },
  {
   "cell_type": "code",
   "execution_count": 11,
   "id": "28771df3-a75e-4df0-b20f-d71d13116d60",
   "metadata": {},
   "outputs": [
    {
     "name": "stdout",
     "output_type": "stream",
     "text": [
      "Correlation between columns 'ups' and 'score' is 1.0\n"
     ]
    }
   ],
   "source": [
    "for i in range(len(history_correlation_matrix.columns)):\n",
    "    for j in range(i+1, len(history_correlation_matrix.columns)):\n",
    "        correlation = history_correlation_matrix.iloc[i, j]\n",
    "        if correlation >= 0.7:\n",
    "            print(f\"Correlation between columns '{history_correlation_matrix.columns[i]}' and '{history_correlation_matrix.columns[j]}' is {correlation}\")"
   ]
  },
  {
   "cell_type": "code",
   "execution_count": 12,
   "id": "0b066547-f569-445e-b8ff-0eec53131240",
   "metadata": {},
   "outputs": [
    {
     "name": "stdout",
     "output_type": "stream",
     "text": [
      "Correlation between columns 'ups' and 'score' is 1.0\n"
     ]
    }
   ],
   "source": [
    "for i in range(len(alternative_history_correlation_matrix.columns)):\n",
    "    for j in range(i+1, len(alternative_history_correlation_matrix.columns)):\n",
    "        correlation = alternative_history_correlation_matrix.iloc[i, j]\n",
    "        if correlation >= 0.7:\n",
    "            print(f\"Correlation between columns '{alternative_history_correlation_matrix.columns[i]}' and '{alternative_history_correlation_matrix.columns[j]}' is {correlation}\")"
   ]
  },
  {
   "cell_type": "markdown",
   "id": "9025088b-be15-44f5-8ed9-04d5f2abf2b9",
   "metadata": {},
   "source": [
    "Next, we examine each column."
   ]
  },
  {
   "cell_type": "markdown",
   "id": "6b30dd91-fade-4412-ad22-f027b1f7f548",
   "metadata": {
    "jp-MarkdownHeadingCollapsed": true
   },
   "source": [
    "## Summary statistics"
   ]
  },
  {
   "cell_type": "code",
   "execution_count": 13,
   "id": "d8b2a305-bb20-4120-ada8-65df981e7d76",
   "metadata": {},
   "outputs": [
    {
     "data": {
      "text/html": [
       "<pre style=\"white-space:pre;overflow-x:auto;line-height:normal;font-family:Menlo,'DejaVu Sans Mono',consolas,'Courier New',monospace\">╭──────────────────────────────────────────────── skimpy summary ─────────────────────────────────────────────────╮\n",
       "│ <span style=\"font-style: italic\">         Data Summary         </span> <span style=\"font-style: italic\">      Data Types       </span>                                                          │\n",
       "│ ┏━━━━━━━━━━━━━━━━━━━┳━━━━━━━━┓ ┏━━━━━━━━━━━━━┳━━━━━━━┓                                                          │\n",
       "│ ┃<span style=\"color: #008080; text-decoration-color: #008080; font-weight: bold\"> dataframe         </span>┃<span style=\"color: #008080; text-decoration-color: #008080; font-weight: bold\"> Values </span>┃ ┃<span style=\"color: #008080; text-decoration-color: #008080; font-weight: bold\"> Column Type </span>┃<span style=\"color: #008080; text-decoration-color: #008080; font-weight: bold\"> Count </span>┃                                                          │\n",
       "│ ┡━━━━━━━━━━━━━━━━━━━╇━━━━━━━━┩ ┡━━━━━━━━━━━━━╇━━━━━━━┩                                                          │\n",
       "│ │ Number of rows    │ 1935   │ │ bool        │ 9     │                                                          │\n",
       "│ │ Number of columns │ 26     │ │ string      │ 7     │                                                          │\n",
       "│ └───────────────────┴────────┘ │ int64       │ 6     │                                                          │\n",
       "│                                │ float64     │ 4     │                                                          │\n",
       "│                                └─────────────┴───────┘                                                          │\n",
       "│ <span style=\"font-style: italic\">                                                    number                                                    </span>  │\n",
       "│ ┏━━━━━━━━━━┳━━━━━┳━━━━━━━┳━━━━━━━━━━┳━━━━━━━━━━┳━━━━━━━━━━┳━━━━━━━━━━┳━━━━━━━━━┳━━━━━━━━━━┳━━━━━━━━━┳━━━━━━━━┓  │\n",
       "│ ┃<span style=\"font-weight: bold\"> column_n </span>┃<span style=\"font-weight: bold\">     </span>┃<span style=\"font-weight: bold\">       </span>┃<span style=\"font-weight: bold\">          </span>┃<span style=\"font-weight: bold\">          </span>┃<span style=\"font-weight: bold\">          </span>┃<span style=\"font-weight: bold\">          </span>┃<span style=\"font-weight: bold\">         </span>┃<span style=\"font-weight: bold\">          </span>┃<span style=\"font-weight: bold\">         </span>┃<span style=\"font-weight: bold\">        </span>┃  │\n",
       "│ ┃<span style=\"font-weight: bold\"> ame      </span>┃<span style=\"font-weight: bold\"> NA  </span>┃<span style=\"font-weight: bold\"> NA %  </span>┃<span style=\"font-weight: bold\"> mean     </span>┃<span style=\"font-weight: bold\"> sd       </span>┃<span style=\"font-weight: bold\"> p0       </span>┃<span style=\"font-weight: bold\"> p25      </span>┃<span style=\"font-weight: bold\"> p50     </span>┃<span style=\"font-weight: bold\"> p75      </span>┃<span style=\"font-weight: bold\"> p100    </span>┃<span style=\"font-weight: bold\"> hist   </span>┃  │\n",
       "│ ┡━━━━━━━━━━╇━━━━━╇━━━━━━━╇━━━━━━━━━━╇━━━━━━━━━━╇━━━━━━━━━━╇━━━━━━━━━━╇━━━━━━━━━╇━━━━━━━━━━╇━━━━━━━━━╇━━━━━━━━┩  │\n",
       "│ │ <span style=\"color: #af87ff; text-decoration-color: #af87ff\">gilded  </span> │ <span style=\"color: #008080; text-decoration-color: #008080\">  0</span> │ <span style=\"color: #008080; text-decoration-color: #008080\">    0</span> │ <span style=\"color: #008080; text-decoration-color: #008080\">   0.068</span> │ <span style=\"color: #008080; text-decoration-color: #008080\">    0.39</span> │ <span style=\"color: #008080; text-decoration-color: #008080\">       0</span> │ <span style=\"color: #008080; text-decoration-color: #008080\">       0</span> │ <span style=\"color: #008080; text-decoration-color: #008080\">      0</span> │ <span style=\"color: #008080; text-decoration-color: #008080\">       0</span> │ <span style=\"color: #008080; text-decoration-color: #008080\">      6</span> │ <span style=\"color: #008000; text-decoration-color: #008000\">  ▇   </span> │  │\n",
       "│ │ <span style=\"color: #af87ff; text-decoration-color: #af87ff\">downs   </span> │ <span style=\"color: #008080; text-decoration-color: #008080\">  0</span> │ <span style=\"color: #008080; text-decoration-color: #008080\">    0</span> │ <span style=\"color: #008080; text-decoration-color: #008080\">       0</span> │ <span style=\"color: #008080; text-decoration-color: #008080\">       0</span> │ <span style=\"color: #008080; text-decoration-color: #008080\">       0</span> │ <span style=\"color: #008080; text-decoration-color: #008080\">       0</span> │ <span style=\"color: #008080; text-decoration-color: #008080\">      0</span> │ <span style=\"color: #008080; text-decoration-color: #008080\">       0</span> │ <span style=\"color: #008080; text-decoration-color: #008080\">      0</span> │ <span style=\"color: #008000; text-decoration-color: #008000\">    ▇ </span> │  │\n",
       "│ │ <span style=\"color: #af87ff; text-decoration-color: #af87ff\">thumbnai</span> │ <span style=\"color: #008080; text-decoration-color: #008080\">702</span> │ <span style=\"color: #008080; text-decoration-color: #008080\">36.28</span> │ <span style=\"color: #008080; text-decoration-color: #008080\">      89</span> │ <span style=\"color: #008080; text-decoration-color: #008080\">      18</span> │ <span style=\"color: #008080; text-decoration-color: #008080\">      26</span> │ <span style=\"color: #008080; text-decoration-color: #008080\">      77</span> │ <span style=\"color: #008080; text-decoration-color: #008080\">     78</span> │ <span style=\"color: #008080; text-decoration-color: #008080\">     100</span> │ <span style=\"color: #008080; text-decoration-color: #008080\">    140</span> │ <span style=\"color: #008000; text-decoration-color: #008000\">  ▇▃▃▁</span> │  │\n",
       "│ │ <span style=\"color: #af87ff; text-decoration-color: #af87ff\">l_height</span> │     │       │          │          │          │          │         │          │         │        │  │\n",
       "│ │ <span style=\"color: #af87ff; text-decoration-color: #af87ff\">upvote_r</span> │ <span style=\"color: #008080; text-decoration-color: #008080\">  0</span> │ <span style=\"color: #008080; text-decoration-color: #008080\">    0</span> │ <span style=\"color: #008080; text-decoration-color: #008080\">     0.9</span> │ <span style=\"color: #008080; text-decoration-color: #008080\">   0.078</span> │ <span style=\"color: #008080; text-decoration-color: #008080\">    0.27</span> │ <span style=\"color: #008080; text-decoration-color: #008080\">    0.88</span> │ <span style=\"color: #008080; text-decoration-color: #008080\">   0.92</span> │ <span style=\"color: #008080; text-decoration-color: #008080\">    0.95</span> │ <span style=\"color: #008080; text-decoration-color: #008080\">      1</span> │ <span style=\"color: #008000; text-decoration-color: #008000\">    ▂▇</span> │  │\n",
       "│ │ <span style=\"color: #af87ff; text-decoration-color: #af87ff\">atio    </span> │     │       │          │          │          │          │         │          │         │        │  │\n",
       "│ │ <span style=\"color: #af87ff; text-decoration-color: #af87ff\">ups     </span> │ <span style=\"color: #008080; text-decoration-color: #008080\">  0</span> │ <span style=\"color: #008080; text-decoration-color: #008080\">    0</span> │ <span style=\"color: #008080; text-decoration-color: #008080\">    4100</span> │ <span style=\"color: #008080; text-decoration-color: #008080\">    5100</span> │ <span style=\"color: #008080; text-decoration-color: #008080\">       0</span> │ <span style=\"color: #008080; text-decoration-color: #008080\">     170</span> │ <span style=\"color: #008080; text-decoration-color: #008080\">   3800</span> │ <span style=\"color: #008080; text-decoration-color: #008080\">    5700</span> │ <span style=\"color: #008080; text-decoration-color: #008080\">  54000</span> │ <span style=\"color: #008000; text-decoration-color: #008000\">  ▇▁  </span> │  │\n",
       "│ │ <span style=\"color: #af87ff; text-decoration-color: #af87ff\">thumbnai</span> │ <span style=\"color: #008080; text-decoration-color: #008080\">702</span> │ <span style=\"color: #008080; text-decoration-color: #008080\">36.28</span> │ <span style=\"color: #008080; text-decoration-color: #008080\">     140</span> │ <span style=\"color: #008080; text-decoration-color: #008080\">     3.5</span> │ <span style=\"color: #008080; text-decoration-color: #008080\">      70</span> │ <span style=\"color: #008080; text-decoration-color: #008080\">     140</span> │ <span style=\"color: #008080; text-decoration-color: #008080\">    140</span> │ <span style=\"color: #008080; text-decoration-color: #008080\">     140</span> │ <span style=\"color: #008080; text-decoration-color: #008080\">    140</span> │ <span style=\"color: #008000; text-decoration-color: #008000\">     ▇</span> │  │\n",
       "│ │ <span style=\"color: #af87ff; text-decoration-color: #af87ff\">l_width </span> │     │       │          │          │          │          │         │          │         │        │  │\n",
       "│ │ <span style=\"color: #af87ff; text-decoration-color: #af87ff\">score   </span> │ <span style=\"color: #008080; text-decoration-color: #008080\">  0</span> │ <span style=\"color: #008080; text-decoration-color: #008080\">    0</span> │ <span style=\"color: #008080; text-decoration-color: #008080\">    4100</span> │ <span style=\"color: #008080; text-decoration-color: #008080\">    5100</span> │ <span style=\"color: #008080; text-decoration-color: #008080\">       0</span> │ <span style=\"color: #008080; text-decoration-color: #008080\">     170</span> │ <span style=\"color: #008080; text-decoration-color: #008080\">   3800</span> │ <span style=\"color: #008080; text-decoration-color: #008080\">    5700</span> │ <span style=\"color: #008080; text-decoration-color: #008080\">  54000</span> │ <span style=\"color: #008000; text-decoration-color: #008000\">  ▇▁  </span> │  │\n",
       "│ │ <span style=\"color: #af87ff; text-decoration-color: #af87ff\">created </span> │ <span style=\"color: #008080; text-decoration-color: #008080\">  0</span> │ <span style=\"color: #008080; text-decoration-color: #008080\">    0</span> │ <span style=\"color: #008080; text-decoration-color: #008080\">16000000</span> │ <span style=\"color: #008080; text-decoration-color: #008080\">89000000</span> │ <span style=\"color: #008080; text-decoration-color: #008080\">14000000</span> │ <span style=\"color: #008080; text-decoration-color: #008080\">15000000</span> │ <span style=\"color: #008080; text-decoration-color: #008080\">1700000</span> │ <span style=\"color: #008080; text-decoration-color: #008080\">17000000</span> │ <span style=\"color: #008080; text-decoration-color: #008080\">1700000</span> │ <span style=\"color: #008000; text-decoration-color: #008000\"> ▃▂▁▁▇</span> │  │\n",
       "│ │          │     │       │ <span style=\"color: #008080; text-decoration-color: #008080\">      00</span> │          │ <span style=\"color: #008080; text-decoration-color: #008080\">      00</span> │ <span style=\"color: #008080; text-decoration-color: #008080\">      00</span> │ <span style=\"color: #008080; text-decoration-color: #008080\">    000</span> │ <span style=\"color: #008080; text-decoration-color: #008080\">      00</span> │ <span style=\"color: #008080; text-decoration-color: #008080\">    000</span> │        │  │\n",
       "│ │ <span style=\"color: #af87ff; text-decoration-color: #af87ff\">num_comm</span> │ <span style=\"color: #008080; text-decoration-color: #008080\">  0</span> │ <span style=\"color: #008080; text-decoration-color: #008080\">    0</span> │ <span style=\"color: #008080; text-decoration-color: #008080\">     320</span> │ <span style=\"color: #008080; text-decoration-color: #008080\">     490</span> │ <span style=\"color: #008080; text-decoration-color: #008080\">       0</span> │ <span style=\"color: #008080; text-decoration-color: #008080\">      20</span> │ <span style=\"color: #008080; text-decoration-color: #008080\">    120</span> │ <span style=\"color: #008080; text-decoration-color: #008080\">     440</span> │ <span style=\"color: #008080; text-decoration-color: #008080\">   6400</span> │ <span style=\"color: #008000; text-decoration-color: #008000\">  ▇   </span> │  │\n",
       "│ │ <span style=\"color: #af87ff; text-decoration-color: #af87ff\">ents    </span> │     │       │          │          │          │          │         │          │         │        │  │\n",
       "│ │ <span style=\"color: #af87ff; text-decoration-color: #af87ff\">num_cros</span> │ <span style=\"color: #008080; text-decoration-color: #008080\">  0</span> │ <span style=\"color: #008080; text-decoration-color: #008080\">    0</span> │ <span style=\"color: #008080; text-decoration-color: #008080\">       1</span> │ <span style=\"color: #008080; text-decoration-color: #008080\">     2.7</span> │ <span style=\"color: #008080; text-decoration-color: #008080\">       0</span> │ <span style=\"color: #008080; text-decoration-color: #008080\">       0</span> │ <span style=\"color: #008080; text-decoration-color: #008080\">      0</span> │ <span style=\"color: #008080; text-decoration-color: #008080\">       1</span> │ <span style=\"color: #008080; text-decoration-color: #008080\">     49</span> │ <span style=\"color: #008000; text-decoration-color: #008000\">  ▇   </span> │  │\n",
       "│ │ <span style=\"color: #af87ff; text-decoration-color: #af87ff\">sposts  </span> │     │       │          │          │          │          │         │          │         │        │  │\n",
       "│ └──────────┴─────┴───────┴──────────┴──────────┴──────────┴──────────┴─────────┴──────────┴─────────┴────────┘  │\n",
       "│ <span style=\"font-style: italic\">                                                     bool                                                     </span>  │\n",
       "│ ┏━━━━━━━━━━━━━━━━━━━━━━━━━━━━━━━━━━━━━━━━━━━━━━━━┳━━━━━━━━━━━━━━┳━━━━━━━━━━━━━━━━━━━━━━━━━┳━━━━━━━━━━━━━━━━━━┓  │\n",
       "│ ┃<span style=\"font-weight: bold\"> column_name                                    </span>┃<span style=\"font-weight: bold\"> true         </span>┃<span style=\"font-weight: bold\"> true rate               </span>┃<span style=\"font-weight: bold\"> hist             </span>┃  │\n",
       "│ ┡━━━━━━━━━━━━━━━━━━━━━━━━━━━━━━━━━━━━━━━━━━━━━━━━╇━━━━━━━━━━━━━━╇━━━━━━━━━━━━━━━━━━━━━━━━━╇━━━━━━━━━━━━━━━━━━┩  │\n",
       "│ │ <span style=\"color: #af87ff; text-decoration-color: #af87ff\">author_premium                                </span> │ <span style=\"color: #008080; text-decoration-color: #008080\">         300</span> │ <span style=\"color: #008080; text-decoration-color: #008080\">                   0.16</span> │ <span style=\"color: #008000; text-decoration-color: #008000\">     ▇    ▁     </span> │  │\n",
       "│ │ <span style=\"color: #af87ff; text-decoration-color: #af87ff\">is_self                                       </span> │ <span style=\"color: #008080; text-decoration-color: #008080\">         624</span> │ <span style=\"color: #008080; text-decoration-color: #008080\">                   0.32</span> │ <span style=\"color: #008000; text-decoration-color: #008000\">     ▇    ▃     </span> │  │\n",
       "│ │ <span style=\"color: #af87ff; text-decoration-color: #af87ff\">allow_live_comments                           </span> │ <span style=\"color: #008080; text-decoration-color: #008080\">         477</span> │ <span style=\"color: #008080; text-decoration-color: #008080\">                   0.25</span> │ <span style=\"color: #008000; text-decoration-color: #008000\">     ▇    ▃     </span> │  │\n",
       "│ │ <span style=\"color: #af87ff; text-decoration-color: #af87ff\">no_follow                                     </span> │ <span style=\"color: #008080; text-decoration-color: #008080\">          12</span> │ <span style=\"color: #008080; text-decoration-color: #008080\">                 0.0062</span> │ <span style=\"color: #008000; text-decoration-color: #008000\">       ▇        </span> │  │\n",
       "│ │ <span style=\"color: #af87ff; text-decoration-color: #af87ff\">over_18                                       </span> │ <span style=\"color: #008080; text-decoration-color: #008080\">           7</span> │ <span style=\"color: #008080; text-decoration-color: #008080\">                 0.0036</span> │ <span style=\"color: #008000; text-decoration-color: #008000\">       ▇        </span> │  │\n",
       "│ │ <span style=\"color: #af87ff; text-decoration-color: #af87ff\">spoiler                                       </span> │ <span style=\"color: #008080; text-decoration-color: #008080\">           1</span> │ <span style=\"color: #008080; text-decoration-color: #008080\">                0.00052</span> │ <span style=\"color: #008000; text-decoration-color: #008000\">       ▇        </span> │  │\n",
       "│ │ <span style=\"color: #af87ff; text-decoration-color: #af87ff\">locked                                        </span> │ <span style=\"color: #008080; text-decoration-color: #008080\">         189</span> │ <span style=\"color: #008080; text-decoration-color: #008080\">                  0.098</span> │ <span style=\"color: #008000; text-decoration-color: #008000\">     ▇    ▁     </span> │  │\n",
       "│ │ <span style=\"color: #af87ff; text-decoration-color: #af87ff\">send_replies                                  </span> │ <span style=\"color: #008080; text-decoration-color: #008080\">        1522</span> │ <span style=\"color: #008080; text-decoration-color: #008080\">                   0.79</span> │ <span style=\"color: #008000; text-decoration-color: #008000\">     ▂    ▇     </span> │  │\n",
       "│ │ <span style=\"color: #af87ff; text-decoration-color: #af87ff\">stickied                                      </span> │ <span style=\"color: #008080; text-decoration-color: #008080\">           2</span> │ <span style=\"color: #008080; text-decoration-color: #008080\">                  0.001</span> │ <span style=\"color: #008000; text-decoration-color: #008000\">       ▇        </span> │  │\n",
       "│ └────────────────────────────────────────────────┴──────────────┴─────────────────────────┴──────────────────┘  │\n",
       "│ <span style=\"font-style: italic\">                                                    string                                                    </span>  │\n",
       "│ ┏━━━━━━━━━━━━━━━━━━━━━━━━━━━━┳━━━━━━━━━━━━┳━━━━━━━━━━━━━┳━━━━━━━━━━━━━━━━━━━━━━━━━━━━┳━━━━━━━━━━━━━━━━━━━━━━━┓  │\n",
       "│ ┃<span style=\"font-weight: bold\"> column_name                </span>┃<span style=\"font-weight: bold\"> NA         </span>┃<span style=\"font-weight: bold\"> NA %        </span>┃<span style=\"font-weight: bold\"> words per row              </span>┃<span style=\"font-weight: bold\"> total words           </span>┃  │\n",
       "│ ┡━━━━━━━━━━━━━━━━━━━━━━━━━━━━╇━━━━━━━━━━━━╇━━━━━━━━━━━━━╇━━━━━━━━━━━━━━━━━━━━━━━━━━━━╇━━━━━━━━━━━━━━━━━━━━━━━┩  │\n",
       "│ │ <span style=\"color: #af87ff; text-decoration-color: #af87ff\">selftext                  </span> │ <span style=\"color: #008080; text-decoration-color: #008080\">      1300</span> │ <span style=\"color: #008080; text-decoration-color: #008080\">      67.18</span> │ <span style=\"color: #008080; text-decoration-color: #008080\">                        68</span> │ <span style=\"color: #008080; text-decoration-color: #008080\">               131597</span> │  │\n",
       "│ │ <span style=\"color: #af87ff; text-decoration-color: #af87ff\">title                     </span> │ <span style=\"color: #008080; text-decoration-color: #008080\">         0</span> │ <span style=\"color: #008080; text-decoration-color: #008080\">          0</span> │ <span style=\"color: #008080; text-decoration-color: #008080\">                        15</span> │ <span style=\"color: #008080; text-decoration-color: #008080\">                28371</span> │  │\n",
       "│ │ <span style=\"color: #af87ff; text-decoration-color: #af87ff\">edited                    </span> │ <span style=\"color: #008080; text-decoration-color: #008080\">         0</span> │ <span style=\"color: #008080; text-decoration-color: #008080\">          0</span> │ <span style=\"color: #008080; text-decoration-color: #008080\">                         1</span> │ <span style=\"color: #008080; text-decoration-color: #008080\">                 1935</span> │  │\n",
       "│ │ <span style=\"color: #af87ff; text-decoration-color: #af87ff\">domain                    </span> │ <span style=\"color: #008080; text-decoration-color: #008080\">         0</span> │ <span style=\"color: #008080; text-decoration-color: #008080\">          0</span> │ <span style=\"color: #008080; text-decoration-color: #008080\">                         1</span> │ <span style=\"color: #008080; text-decoration-color: #008080\">                 1935</span> │  │\n",
       "│ │ <span style=\"color: #af87ff; text-decoration-color: #af87ff\">distinguished             </span> │ <span style=\"color: #008080; text-decoration-color: #008080\">      1920</span> │ <span style=\"color: #008080; text-decoration-color: #008080\">      99.22</span> │ <span style=\"color: #008080; text-decoration-color: #008080\">                    0.0078</span> │ <span style=\"color: #008080; text-decoration-color: #008080\">                   15</span> │  │\n",
       "│ │ <span style=\"color: #af87ff; text-decoration-color: #af87ff\">author                    </span> │ <span style=\"color: #008080; text-decoration-color: #008080\">       130</span> │ <span style=\"color: #008080; text-decoration-color: #008080\">       6.72</span> │ <span style=\"color: #008080; text-decoration-color: #008080\">                      0.93</span> │ <span style=\"color: #008080; text-decoration-color: #008080\">                 1805</span> │  │\n",
       "│ │ <span style=\"color: #af87ff; text-decoration-color: #af87ff\">url                       </span> │ <span style=\"color: #008080; text-decoration-color: #008080\">         0</span> │ <span style=\"color: #008080; text-decoration-color: #008080\">          0</span> │ <span style=\"color: #008080; text-decoration-color: #008080\">                         1</span> │ <span style=\"color: #008080; text-decoration-color: #008080\">                 1935</span> │  │\n",
       "│ └────────────────────────────┴────────────┴─────────────┴────────────────────────────┴───────────────────────┘  │\n",
       "╰────────────────────────────────────────────────────── End ──────────────────────────────────────────────────────╯\n",
       "</pre>\n"
      ],
      "text/plain": [
       "╭──────────────────────────────────────────────── skimpy summary ─────────────────────────────────────────────────╮\n",
       "│ \u001b[3m         Data Summary         \u001b[0m \u001b[3m      Data Types       \u001b[0m                                                          │\n",
       "│ ┏━━━━━━━━━━━━━━━━━━━┳━━━━━━━━┓ ┏━━━━━━━━━━━━━┳━━━━━━━┓                                                          │\n",
       "│ ┃\u001b[1;36m \u001b[0m\u001b[1;36mdataframe        \u001b[0m\u001b[1;36m \u001b[0m┃\u001b[1;36m \u001b[0m\u001b[1;36mValues\u001b[0m\u001b[1;36m \u001b[0m┃ ┃\u001b[1;36m \u001b[0m\u001b[1;36mColumn Type\u001b[0m\u001b[1;36m \u001b[0m┃\u001b[1;36m \u001b[0m\u001b[1;36mCount\u001b[0m\u001b[1;36m \u001b[0m┃                                                          │\n",
       "│ ┡━━━━━━━━━━━━━━━━━━━╇━━━━━━━━┩ ┡━━━━━━━━━━━━━╇━━━━━━━┩                                                          │\n",
       "│ │ Number of rows    │ 1935   │ │ bool        │ 9     │                                                          │\n",
       "│ │ Number of columns │ 26     │ │ string      │ 7     │                                                          │\n",
       "│ └───────────────────┴────────┘ │ int64       │ 6     │                                                          │\n",
       "│                                │ float64     │ 4     │                                                          │\n",
       "│                                └─────────────┴───────┘                                                          │\n",
       "│ \u001b[3m                                                    number                                                    \u001b[0m  │\n",
       "│ ┏━━━━━━━━━━┳━━━━━┳━━━━━━━┳━━━━━━━━━━┳━━━━━━━━━━┳━━━━━━━━━━┳━━━━━━━━━━┳━━━━━━━━━┳━━━━━━━━━━┳━━━━━━━━━┳━━━━━━━━┓  │\n",
       "│ ┃\u001b[1m \u001b[0m\u001b[1mcolumn_n\u001b[0m\u001b[1m \u001b[0m┃\u001b[1m     \u001b[0m┃\u001b[1m       \u001b[0m┃\u001b[1m          \u001b[0m┃\u001b[1m          \u001b[0m┃\u001b[1m          \u001b[0m┃\u001b[1m          \u001b[0m┃\u001b[1m         \u001b[0m┃\u001b[1m          \u001b[0m┃\u001b[1m         \u001b[0m┃\u001b[1m        \u001b[0m┃  │\n",
       "│ ┃\u001b[1m \u001b[0m\u001b[1mame     \u001b[0m\u001b[1m \u001b[0m┃\u001b[1m \u001b[0m\u001b[1mNA \u001b[0m\u001b[1m \u001b[0m┃\u001b[1m \u001b[0m\u001b[1mNA % \u001b[0m\u001b[1m \u001b[0m┃\u001b[1m \u001b[0m\u001b[1mmean    \u001b[0m\u001b[1m \u001b[0m┃\u001b[1m \u001b[0m\u001b[1msd      \u001b[0m\u001b[1m \u001b[0m┃\u001b[1m \u001b[0m\u001b[1mp0      \u001b[0m\u001b[1m \u001b[0m┃\u001b[1m \u001b[0m\u001b[1mp25     \u001b[0m\u001b[1m \u001b[0m┃\u001b[1m \u001b[0m\u001b[1mp50    \u001b[0m\u001b[1m \u001b[0m┃\u001b[1m \u001b[0m\u001b[1mp75     \u001b[0m\u001b[1m \u001b[0m┃\u001b[1m \u001b[0m\u001b[1mp100   \u001b[0m\u001b[1m \u001b[0m┃\u001b[1m \u001b[0m\u001b[1mhist  \u001b[0m\u001b[1m \u001b[0m┃  │\n",
       "│ ┡━━━━━━━━━━╇━━━━━╇━━━━━━━╇━━━━━━━━━━╇━━━━━━━━━━╇━━━━━━━━━━╇━━━━━━━━━━╇━━━━━━━━━╇━━━━━━━━━━╇━━━━━━━━━╇━━━━━━━━┩  │\n",
       "│ │ \u001b[38;5;141mgilded  \u001b[0m │ \u001b[36m  0\u001b[0m │ \u001b[36m    0\u001b[0m │ \u001b[36m   0.068\u001b[0m │ \u001b[36m    0.39\u001b[0m │ \u001b[36m       0\u001b[0m │ \u001b[36m       0\u001b[0m │ \u001b[36m      0\u001b[0m │ \u001b[36m       0\u001b[0m │ \u001b[36m      6\u001b[0m │ \u001b[32m  ▇   \u001b[0m │  │\n",
       "│ │ \u001b[38;5;141mdowns   \u001b[0m │ \u001b[36m  0\u001b[0m │ \u001b[36m    0\u001b[0m │ \u001b[36m       0\u001b[0m │ \u001b[36m       0\u001b[0m │ \u001b[36m       0\u001b[0m │ \u001b[36m       0\u001b[0m │ \u001b[36m      0\u001b[0m │ \u001b[36m       0\u001b[0m │ \u001b[36m      0\u001b[0m │ \u001b[32m    ▇ \u001b[0m │  │\n",
       "│ │ \u001b[38;5;141mthumbnai\u001b[0m │ \u001b[36m702\u001b[0m │ \u001b[36m36.28\u001b[0m │ \u001b[36m      89\u001b[0m │ \u001b[36m      18\u001b[0m │ \u001b[36m      26\u001b[0m │ \u001b[36m      77\u001b[0m │ \u001b[36m     78\u001b[0m │ \u001b[36m     100\u001b[0m │ \u001b[36m    140\u001b[0m │ \u001b[32m  ▇▃▃▁\u001b[0m │  │\n",
       "│ │ \u001b[38;5;141ml_height\u001b[0m │     │       │          │          │          │          │         │          │         │        │  │\n",
       "│ │ \u001b[38;5;141mupvote_r\u001b[0m │ \u001b[36m  0\u001b[0m │ \u001b[36m    0\u001b[0m │ \u001b[36m     0.9\u001b[0m │ \u001b[36m   0.078\u001b[0m │ \u001b[36m    0.27\u001b[0m │ \u001b[36m    0.88\u001b[0m │ \u001b[36m   0.92\u001b[0m │ \u001b[36m    0.95\u001b[0m │ \u001b[36m      1\u001b[0m │ \u001b[32m    ▂▇\u001b[0m │  │\n",
       "│ │ \u001b[38;5;141matio    \u001b[0m │     │       │          │          │          │          │         │          │         │        │  │\n",
       "│ │ \u001b[38;5;141mups     \u001b[0m │ \u001b[36m  0\u001b[0m │ \u001b[36m    0\u001b[0m │ \u001b[36m    4100\u001b[0m │ \u001b[36m    5100\u001b[0m │ \u001b[36m       0\u001b[0m │ \u001b[36m     170\u001b[0m │ \u001b[36m   3800\u001b[0m │ \u001b[36m    5700\u001b[0m │ \u001b[36m  54000\u001b[0m │ \u001b[32m  ▇▁  \u001b[0m │  │\n",
       "│ │ \u001b[38;5;141mthumbnai\u001b[0m │ \u001b[36m702\u001b[0m │ \u001b[36m36.28\u001b[0m │ \u001b[36m     140\u001b[0m │ \u001b[36m     3.5\u001b[0m │ \u001b[36m      70\u001b[0m │ \u001b[36m     140\u001b[0m │ \u001b[36m    140\u001b[0m │ \u001b[36m     140\u001b[0m │ \u001b[36m    140\u001b[0m │ \u001b[32m     ▇\u001b[0m │  │\n",
       "│ │ \u001b[38;5;141ml_width \u001b[0m │     │       │          │          │          │          │         │          │         │        │  │\n",
       "│ │ \u001b[38;5;141mscore   \u001b[0m │ \u001b[36m  0\u001b[0m │ \u001b[36m    0\u001b[0m │ \u001b[36m    4100\u001b[0m │ \u001b[36m    5100\u001b[0m │ \u001b[36m       0\u001b[0m │ \u001b[36m     170\u001b[0m │ \u001b[36m   3800\u001b[0m │ \u001b[36m    5700\u001b[0m │ \u001b[36m  54000\u001b[0m │ \u001b[32m  ▇▁  \u001b[0m │  │\n",
       "│ │ \u001b[38;5;141mcreated \u001b[0m │ \u001b[36m  0\u001b[0m │ \u001b[36m    0\u001b[0m │ \u001b[36m16000000\u001b[0m │ \u001b[36m89000000\u001b[0m │ \u001b[36m14000000\u001b[0m │ \u001b[36m15000000\u001b[0m │ \u001b[36m1700000\u001b[0m │ \u001b[36m17000000\u001b[0m │ \u001b[36m1700000\u001b[0m │ \u001b[32m ▃▂▁▁▇\u001b[0m │  │\n",
       "│ │          │     │       │ \u001b[36m      00\u001b[0m │          │ \u001b[36m      00\u001b[0m │ \u001b[36m      00\u001b[0m │ \u001b[36m    000\u001b[0m │ \u001b[36m      00\u001b[0m │ \u001b[36m    000\u001b[0m │        │  │\n",
       "│ │ \u001b[38;5;141mnum_comm\u001b[0m │ \u001b[36m  0\u001b[0m │ \u001b[36m    0\u001b[0m │ \u001b[36m     320\u001b[0m │ \u001b[36m     490\u001b[0m │ \u001b[36m       0\u001b[0m │ \u001b[36m      20\u001b[0m │ \u001b[36m    120\u001b[0m │ \u001b[36m     440\u001b[0m │ \u001b[36m   6400\u001b[0m │ \u001b[32m  ▇   \u001b[0m │  │\n",
       "│ │ \u001b[38;5;141ments    \u001b[0m │     │       │          │          │          │          │         │          │         │        │  │\n",
       "│ │ \u001b[38;5;141mnum_cros\u001b[0m │ \u001b[36m  0\u001b[0m │ \u001b[36m    0\u001b[0m │ \u001b[36m       1\u001b[0m │ \u001b[36m     2.7\u001b[0m │ \u001b[36m       0\u001b[0m │ \u001b[36m       0\u001b[0m │ \u001b[36m      0\u001b[0m │ \u001b[36m       1\u001b[0m │ \u001b[36m     49\u001b[0m │ \u001b[32m  ▇   \u001b[0m │  │\n",
       "│ │ \u001b[38;5;141msposts  \u001b[0m │     │       │          │          │          │          │         │          │         │        │  │\n",
       "│ └──────────┴─────┴───────┴──────────┴──────────┴──────────┴──────────┴─────────┴──────────┴─────────┴────────┘  │\n",
       "│ \u001b[3m                                                     bool                                                     \u001b[0m  │\n",
       "│ ┏━━━━━━━━━━━━━━━━━━━━━━━━━━━━━━━━━━━━━━━━━━━━━━━━┳━━━━━━━━━━━━━━┳━━━━━━━━━━━━━━━━━━━━━━━━━┳━━━━━━━━━━━━━━━━━━┓  │\n",
       "│ ┃\u001b[1m \u001b[0m\u001b[1mcolumn_name                                   \u001b[0m\u001b[1m \u001b[0m┃\u001b[1m \u001b[0m\u001b[1mtrue        \u001b[0m\u001b[1m \u001b[0m┃\u001b[1m \u001b[0m\u001b[1mtrue rate              \u001b[0m\u001b[1m \u001b[0m┃\u001b[1m \u001b[0m\u001b[1mhist            \u001b[0m\u001b[1m \u001b[0m┃  │\n",
       "│ ┡━━━━━━━━━━━━━━━━━━━━━━━━━━━━━━━━━━━━━━━━━━━━━━━━╇━━━━━━━━━━━━━━╇━━━━━━━━━━━━━━━━━━━━━━━━━╇━━━━━━━━━━━━━━━━━━┩  │\n",
       "│ │ \u001b[38;5;141mauthor_premium                                \u001b[0m │ \u001b[36m         300\u001b[0m │ \u001b[36m                   0.16\u001b[0m │ \u001b[32m     ▇    ▁     \u001b[0m │  │\n",
       "│ │ \u001b[38;5;141mis_self                                       \u001b[0m │ \u001b[36m         624\u001b[0m │ \u001b[36m                   0.32\u001b[0m │ \u001b[32m     ▇    ▃     \u001b[0m │  │\n",
       "│ │ \u001b[38;5;141mallow_live_comments                           \u001b[0m │ \u001b[36m         477\u001b[0m │ \u001b[36m                   0.25\u001b[0m │ \u001b[32m     ▇    ▃     \u001b[0m │  │\n",
       "│ │ \u001b[38;5;141mno_follow                                     \u001b[0m │ \u001b[36m          12\u001b[0m │ \u001b[36m                 0.0062\u001b[0m │ \u001b[32m       ▇        \u001b[0m │  │\n",
       "│ │ \u001b[38;5;141mover_18                                       \u001b[0m │ \u001b[36m           7\u001b[0m │ \u001b[36m                 0.0036\u001b[0m │ \u001b[32m       ▇        \u001b[0m │  │\n",
       "│ │ \u001b[38;5;141mspoiler                                       \u001b[0m │ \u001b[36m           1\u001b[0m │ \u001b[36m                0.00052\u001b[0m │ \u001b[32m       ▇        \u001b[0m │  │\n",
       "│ │ \u001b[38;5;141mlocked                                        \u001b[0m │ \u001b[36m         189\u001b[0m │ \u001b[36m                  0.098\u001b[0m │ \u001b[32m     ▇    ▁     \u001b[0m │  │\n",
       "│ │ \u001b[38;5;141msend_replies                                  \u001b[0m │ \u001b[36m        1522\u001b[0m │ \u001b[36m                   0.79\u001b[0m │ \u001b[32m     ▂    ▇     \u001b[0m │  │\n",
       "│ │ \u001b[38;5;141mstickied                                      \u001b[0m │ \u001b[36m           2\u001b[0m │ \u001b[36m                  0.001\u001b[0m │ \u001b[32m       ▇        \u001b[0m │  │\n",
       "│ └────────────────────────────────────────────────┴──────────────┴─────────────────────────┴──────────────────┘  │\n",
       "│ \u001b[3m                                                    string                                                    \u001b[0m  │\n",
       "│ ┏━━━━━━━━━━━━━━━━━━━━━━━━━━━━┳━━━━━━━━━━━━┳━━━━━━━━━━━━━┳━━━━━━━━━━━━━━━━━━━━━━━━━━━━┳━━━━━━━━━━━━━━━━━━━━━━━┓  │\n",
       "│ ┃\u001b[1m \u001b[0m\u001b[1mcolumn_name               \u001b[0m\u001b[1m \u001b[0m┃\u001b[1m \u001b[0m\u001b[1mNA        \u001b[0m\u001b[1m \u001b[0m┃\u001b[1m \u001b[0m\u001b[1mNA %       \u001b[0m\u001b[1m \u001b[0m┃\u001b[1m \u001b[0m\u001b[1mwords per row             \u001b[0m\u001b[1m \u001b[0m┃\u001b[1m \u001b[0m\u001b[1mtotal words          \u001b[0m\u001b[1m \u001b[0m┃  │\n",
       "│ ┡━━━━━━━━━━━━━━━━━━━━━━━━━━━━╇━━━━━━━━━━━━╇━━━━━━━━━━━━━╇━━━━━━━━━━━━━━━━━━━━━━━━━━━━╇━━━━━━━━━━━━━━━━━━━━━━━┩  │\n",
       "│ │ \u001b[38;5;141mselftext                  \u001b[0m │ \u001b[36m      1300\u001b[0m │ \u001b[36m      67.18\u001b[0m │ \u001b[36m                        68\u001b[0m │ \u001b[36m               131597\u001b[0m │  │\n",
       "│ │ \u001b[38;5;141mtitle                     \u001b[0m │ \u001b[36m         0\u001b[0m │ \u001b[36m          0\u001b[0m │ \u001b[36m                        15\u001b[0m │ \u001b[36m                28371\u001b[0m │  │\n",
       "│ │ \u001b[38;5;141medited                    \u001b[0m │ \u001b[36m         0\u001b[0m │ \u001b[36m          0\u001b[0m │ \u001b[36m                         1\u001b[0m │ \u001b[36m                 1935\u001b[0m │  │\n",
       "│ │ \u001b[38;5;141mdomain                    \u001b[0m │ \u001b[36m         0\u001b[0m │ \u001b[36m          0\u001b[0m │ \u001b[36m                         1\u001b[0m │ \u001b[36m                 1935\u001b[0m │  │\n",
       "│ │ \u001b[38;5;141mdistinguished             \u001b[0m │ \u001b[36m      1920\u001b[0m │ \u001b[36m      99.22\u001b[0m │ \u001b[36m                    0.0078\u001b[0m │ \u001b[36m                   15\u001b[0m │  │\n",
       "│ │ \u001b[38;5;141mauthor                    \u001b[0m │ \u001b[36m       130\u001b[0m │ \u001b[36m       6.72\u001b[0m │ \u001b[36m                      0.93\u001b[0m │ \u001b[36m                 1805\u001b[0m │  │\n",
       "│ │ \u001b[38;5;141murl                       \u001b[0m │ \u001b[36m         0\u001b[0m │ \u001b[36m          0\u001b[0m │ \u001b[36m                         1\u001b[0m │ \u001b[36m                 1935\u001b[0m │  │\n",
       "│ └────────────────────────────┴────────────┴─────────────┴────────────────────────────┴───────────────────────┘  │\n",
       "╰────────────────────────────────────────────────────── End ──────────────────────────────────────────────────────╯\n"
      ]
     },
     "metadata": {},
     "output_type": "display_data"
    }
   ],
   "source": [
    "skim(history)"
   ]
  },
  {
   "cell_type": "code",
   "execution_count": 14,
   "id": "4bd4a330-d29d-4be2-a6b0-df1ac405491e",
   "metadata": {},
   "outputs": [
    {
     "data": {
      "text/html": [
       "<pre style=\"white-space:pre;overflow-x:auto;line-height:normal;font-family:Menlo,'DejaVu Sans Mono',consolas,'Courier New',monospace\">╭──────────────────────────────────────────────── skimpy summary ─────────────────────────────────────────────────╮\n",
       "│ <span style=\"font-style: italic\">         Data Summary         </span> <span style=\"font-style: italic\">      Data Types       </span>                                                          │\n",
       "│ ┏━━━━━━━━━━━━━━━━━━━┳━━━━━━━━┓ ┏━━━━━━━━━━━━━┳━━━━━━━┓                                                          │\n",
       "│ ┃<span style=\"color: #008080; text-decoration-color: #008080; font-weight: bold\"> dataframe         </span>┃<span style=\"color: #008080; text-decoration-color: #008080; font-weight: bold\"> Values </span>┃ ┃<span style=\"color: #008080; text-decoration-color: #008080; font-weight: bold\"> Column Type </span>┃<span style=\"color: #008080; text-decoration-color: #008080; font-weight: bold\"> Count </span>┃                                                          │\n",
       "│ ┡━━━━━━━━━━━━━━━━━━━╇━━━━━━━━┩ ┡━━━━━━━━━━━━━╇━━━━━━━┩                                                          │\n",
       "│ │ Number of rows    │ 1905   │ │ bool        │ 9     │                                                          │\n",
       "│ │ Number of columns │ 26     │ │ string      │ 7     │                                                          │\n",
       "│ └───────────────────┴────────┘ │ int64       │ 6     │                                                          │\n",
       "│                                │ float64     │ 4     │                                                          │\n",
       "│                                └─────────────┴───────┘                                                          │\n",
       "│ <span style=\"font-style: italic\">                                                    number                                                    </span>  │\n",
       "│ ┏━━━━━━━━━━┳━━━━━┳━━━━━━━┳━━━━━━━━━━┳━━━━━━━━━━┳━━━━━━━━━━┳━━━━━━━━━━┳━━━━━━━━━┳━━━━━━━━━━┳━━━━━━━━━┳━━━━━━━━┓  │\n",
       "│ ┃<span style=\"font-weight: bold\"> column_n </span>┃<span style=\"font-weight: bold\">     </span>┃<span style=\"font-weight: bold\">       </span>┃<span style=\"font-weight: bold\">          </span>┃<span style=\"font-weight: bold\">          </span>┃<span style=\"font-weight: bold\">          </span>┃<span style=\"font-weight: bold\">          </span>┃<span style=\"font-weight: bold\">         </span>┃<span style=\"font-weight: bold\">          </span>┃<span style=\"font-weight: bold\">         </span>┃<span style=\"font-weight: bold\">        </span>┃  │\n",
       "│ ┃<span style=\"font-weight: bold\"> ame      </span>┃<span style=\"font-weight: bold\"> NA  </span>┃<span style=\"font-weight: bold\"> NA %  </span>┃<span style=\"font-weight: bold\"> mean     </span>┃<span style=\"font-weight: bold\"> sd       </span>┃<span style=\"font-weight: bold\"> p0       </span>┃<span style=\"font-weight: bold\"> p25      </span>┃<span style=\"font-weight: bold\"> p50     </span>┃<span style=\"font-weight: bold\"> p75      </span>┃<span style=\"font-weight: bold\"> p100    </span>┃<span style=\"font-weight: bold\"> hist   </span>┃  │\n",
       "│ ┡━━━━━━━━━━╇━━━━━╇━━━━━━━╇━━━━━━━━━━╇━━━━━━━━━━╇━━━━━━━━━━╇━━━━━━━━━━╇━━━━━━━━━╇━━━━━━━━━━╇━━━━━━━━━╇━━━━━━━━┩  │\n",
       "│ │ <span style=\"color: #af87ff; text-decoration-color: #af87ff\">gilded  </span> │ <span style=\"color: #008080; text-decoration-color: #008080\">  0</span> │ <span style=\"color: #008080; text-decoration-color: #008080\">    0</span> │ <span style=\"color: #008080; text-decoration-color: #008080\">  0.0073</span> │ <span style=\"color: #008080; text-decoration-color: #008080\">   0.097</span> │ <span style=\"color: #008080; text-decoration-color: #008080\">       0</span> │ <span style=\"color: #008080; text-decoration-color: #008080\">       0</span> │ <span style=\"color: #008080; text-decoration-color: #008080\">      0</span> │ <span style=\"color: #008080; text-decoration-color: #008080\">       0</span> │ <span style=\"color: #008080; text-decoration-color: #008080\">      2</span> │ <span style=\"color: #008000; text-decoration-color: #008000\">  ▇   </span> │  │\n",
       "│ │ <span style=\"color: #af87ff; text-decoration-color: #af87ff\">downs   </span> │ <span style=\"color: #008080; text-decoration-color: #008080\">  0</span> │ <span style=\"color: #008080; text-decoration-color: #008080\">    0</span> │ <span style=\"color: #008080; text-decoration-color: #008080\">       0</span> │ <span style=\"color: #008080; text-decoration-color: #008080\">       0</span> │ <span style=\"color: #008080; text-decoration-color: #008080\">       0</span> │ <span style=\"color: #008080; text-decoration-color: #008080\">       0</span> │ <span style=\"color: #008080; text-decoration-color: #008080\">      0</span> │ <span style=\"color: #008080; text-decoration-color: #008080\">       0</span> │ <span style=\"color: #008080; text-decoration-color: #008080\">      0</span> │ <span style=\"color: #008000; text-decoration-color: #008000\">    ▇ </span> │  │\n",
       "│ │ <span style=\"color: #af87ff; text-decoration-color: #af87ff\">thumbnai</span> │ <span style=\"color: #008080; text-decoration-color: #008080\">323</span> │ <span style=\"color: #008080; text-decoration-color: #008080\">16.96</span> │ <span style=\"color: #008080; text-decoration-color: #008080\">     110</span> │ <span style=\"color: #008080; text-decoration-color: #008080\">      24</span> │ <span style=\"color: #008080; text-decoration-color: #008080\">      36</span> │ <span style=\"color: #008080; text-decoration-color: #008080\">      93</span> │ <span style=\"color: #008080; text-decoration-color: #008080\">    100</span> │ <span style=\"color: #008080; text-decoration-color: #008080\">     140</span> │ <span style=\"color: #008080; text-decoration-color: #008080\">    140</span> │ <span style=\"color: #008000; text-decoration-color: #008000\"> ▁▃▇▁▆</span> │  │\n",
       "│ │ <span style=\"color: #af87ff; text-decoration-color: #af87ff\">l_height</span> │     │       │          │          │          │          │         │          │         │        │  │\n",
       "│ │ <span style=\"color: #af87ff; text-decoration-color: #af87ff\">upvote_r</span> │ <span style=\"color: #008080; text-decoration-color: #008080\">  0</span> │ <span style=\"color: #008080; text-decoration-color: #008080\">    0</span> │ <span style=\"color: #008080; text-decoration-color: #008080\">    0.83</span> │ <span style=\"color: #008080; text-decoration-color: #008080\">    0.17</span> │ <span style=\"color: #008080; text-decoration-color: #008080\">    0.08</span> │ <span style=\"color: #008080; text-decoration-color: #008080\">    0.74</span> │ <span style=\"color: #008080; text-decoration-color: #008080\">    0.9</span> │ <span style=\"color: #008080; text-decoration-color: #008080\">    0.97</span> │ <span style=\"color: #008080; text-decoration-color: #008080\">      1</span> │ <span style=\"color: #008000; text-decoration-color: #008000\">  ▁▂▂▇</span> │  │\n",
       "│ │ <span style=\"color: #af87ff; text-decoration-color: #af87ff\">atio    </span> │     │       │          │          │          │          │         │          │         │        │  │\n",
       "│ │ <span style=\"color: #af87ff; text-decoration-color: #af87ff\">ups     </span> │ <span style=\"color: #008080; text-decoration-color: #008080\">  0</span> │ <span style=\"color: #008080; text-decoration-color: #008080\">    0</span> │ <span style=\"color: #008080; text-decoration-color: #008080\">     230</span> │ <span style=\"color: #008080; text-decoration-color: #008080\">     340</span> │ <span style=\"color: #008080; text-decoration-color: #008080\">       0</span> │ <span style=\"color: #008080; text-decoration-color: #008080\">      12</span> │ <span style=\"color: #008080; text-decoration-color: #008080\">    170</span> │ <span style=\"color: #008080; text-decoration-color: #008080\">     310</span> │ <span style=\"color: #008080; text-decoration-color: #008080\">   3800</span> │ <span style=\"color: #008000; text-decoration-color: #008000\">  ▇▁  </span> │  │\n",
       "│ │ <span style=\"color: #af87ff; text-decoration-color: #af87ff\">thumbnai</span> │ <span style=\"color: #008080; text-decoration-color: #008080\">323</span> │ <span style=\"color: #008080; text-decoration-color: #008080\">16.96</span> │ <span style=\"color: #008080; text-decoration-color: #008080\">     140</span> │ <span style=\"color: #008080; text-decoration-color: #008080\">     1.8</span> │ <span style=\"color: #008080; text-decoration-color: #008080\">      70</span> │ <span style=\"color: #008080; text-decoration-color: #008080\">     140</span> │ <span style=\"color: #008080; text-decoration-color: #008080\">    140</span> │ <span style=\"color: #008080; text-decoration-color: #008080\">     140</span> │ <span style=\"color: #008080; text-decoration-color: #008080\">    140</span> │ <span style=\"color: #008000; text-decoration-color: #008000\">     ▇</span> │  │\n",
       "│ │ <span style=\"color: #af87ff; text-decoration-color: #af87ff\">l_width </span> │     │       │          │          │          │          │         │          │         │        │  │\n",
       "│ │ <span style=\"color: #af87ff; text-decoration-color: #af87ff\">score   </span> │ <span style=\"color: #008080; text-decoration-color: #008080\">  0</span> │ <span style=\"color: #008080; text-decoration-color: #008080\">    0</span> │ <span style=\"color: #008080; text-decoration-color: #008080\">     230</span> │ <span style=\"color: #008080; text-decoration-color: #008080\">     340</span> │ <span style=\"color: #008080; text-decoration-color: #008080\">       0</span> │ <span style=\"color: #008080; text-decoration-color: #008080\">      12</span> │ <span style=\"color: #008080; text-decoration-color: #008080\">    170</span> │ <span style=\"color: #008080; text-decoration-color: #008080\">     310</span> │ <span style=\"color: #008080; text-decoration-color: #008080\">   3800</span> │ <span style=\"color: #008000; text-decoration-color: #008000\">  ▇▁  </span> │  │\n",
       "│ │ <span style=\"color: #af87ff; text-decoration-color: #af87ff\">created </span> │ <span style=\"color: #008080; text-decoration-color: #008080\">  0</span> │ <span style=\"color: #008080; text-decoration-color: #008080\">    0</span> │ <span style=\"color: #008080; text-decoration-color: #008080\">17000000</span> │ <span style=\"color: #008080; text-decoration-color: #008080\">38000000</span> │ <span style=\"color: #008080; text-decoration-color: #008080\">15000000</span> │ <span style=\"color: #008080; text-decoration-color: #008080\">17000000</span> │ <span style=\"color: #008080; text-decoration-color: #008080\">1700000</span> │ <span style=\"color: #008080; text-decoration-color: #008080\">17000000</span> │ <span style=\"color: #008080; text-decoration-color: #008080\">1700000</span> │ <span style=\"color: #008000; text-decoration-color: #008000\">  ▁▂▃▇</span> │  │\n",
       "│ │          │     │       │ <span style=\"color: #008080; text-decoration-color: #008080\">      00</span> │          │ <span style=\"color: #008080; text-decoration-color: #008080\">      00</span> │ <span style=\"color: #008080; text-decoration-color: #008080\">      00</span> │ <span style=\"color: #008080; text-decoration-color: #008080\">    000</span> │ <span style=\"color: #008080; text-decoration-color: #008080\">      00</span> │ <span style=\"color: #008080; text-decoration-color: #008080\">    000</span> │        │  │\n",
       "│ │ <span style=\"color: #af87ff; text-decoration-color: #af87ff\">num_comm</span> │ <span style=\"color: #008080; text-decoration-color: #008080\">  0</span> │ <span style=\"color: #008080; text-decoration-color: #008080\">    0</span> │ <span style=\"color: #008080; text-decoration-color: #008080\">      54</span> │ <span style=\"color: #008080; text-decoration-color: #008080\">      79</span> │ <span style=\"color: #008080; text-decoration-color: #008080\">       0</span> │ <span style=\"color: #008080; text-decoration-color: #008080\">       6</span> │ <span style=\"color: #008080; text-decoration-color: #008080\">     26</span> │ <span style=\"color: #008080; text-decoration-color: #008080\">      68</span> │ <span style=\"color: #008080; text-decoration-color: #008080\">    940</span> │ <span style=\"color: #008000; text-decoration-color: #008000\">  ▇▁  </span> │  │\n",
       "│ │ <span style=\"color: #af87ff; text-decoration-color: #af87ff\">ents    </span> │     │       │          │          │          │          │         │          │         │        │  │\n",
       "│ │ <span style=\"color: #af87ff; text-decoration-color: #af87ff\">num_cros</span> │ <span style=\"color: #008080; text-decoration-color: #008080\">  0</span> │ <span style=\"color: #008080; text-decoration-color: #008080\">    0</span> │ <span style=\"color: #008080; text-decoration-color: #008080\">    0.42</span> │ <span style=\"color: #008080; text-decoration-color: #008080\">       1</span> │ <span style=\"color: #008080; text-decoration-color: #008080\">       0</span> │ <span style=\"color: #008080; text-decoration-color: #008080\">       0</span> │ <span style=\"color: #008080; text-decoration-color: #008080\">      0</span> │ <span style=\"color: #008080; text-decoration-color: #008080\">       0</span> │ <span style=\"color: #008080; text-decoration-color: #008080\">     15</span> │ <span style=\"color: #008000; text-decoration-color: #008000\">  ▇   </span> │  │\n",
       "│ │ <span style=\"color: #af87ff; text-decoration-color: #af87ff\">sposts  </span> │     │       │          │          │          │          │         │          │         │        │  │\n",
       "│ └──────────┴─────┴───────┴──────────┴──────────┴──────────┴──────────┴─────────┴──────────┴─────────┴────────┘  │\n",
       "│ <span style=\"font-style: italic\">                                                     bool                                                     </span>  │\n",
       "│ ┏━━━━━━━━━━━━━━━━━━━━━━━━━━━━━━━━━━━━━━━━━━━━━━━━┳━━━━━━━━━━━━━━┳━━━━━━━━━━━━━━━━━━━━━━━━━┳━━━━━━━━━━━━━━━━━━┓  │\n",
       "│ ┃<span style=\"font-weight: bold\"> column_name                                    </span>┃<span style=\"font-weight: bold\"> true         </span>┃<span style=\"font-weight: bold\"> true rate               </span>┃<span style=\"font-weight: bold\"> hist             </span>┃  │\n",
       "│ ┡━━━━━━━━━━━━━━━━━━━━━━━━━━━━━━━━━━━━━━━━━━━━━━━━╇━━━━━━━━━━━━━━╇━━━━━━━━━━━━━━━━━━━━━━━━━╇━━━━━━━━━━━━━━━━━━┩  │\n",
       "│ │ <span style=\"color: #af87ff; text-decoration-color: #af87ff\">author_premium                                </span> │ <span style=\"color: #008080; text-decoration-color: #008080\">         153</span> │ <span style=\"color: #008080; text-decoration-color: #008080\">                   0.08</span> │ <span style=\"color: #008000; text-decoration-color: #008000\">     ▇    ▁     </span> │  │\n",
       "│ │ <span style=\"color: #af87ff; text-decoration-color: #af87ff\">is_self                                       </span> │ <span style=\"color: #008080; text-decoration-color: #008080\">         370</span> │ <span style=\"color: #008080; text-decoration-color: #008080\">                   0.19</span> │ <span style=\"color: #008000; text-decoration-color: #008000\">     ▇    ▂     </span> │  │\n",
       "│ │ <span style=\"color: #af87ff; text-decoration-color: #af87ff\">allow_live_comments                           </span> │ <span style=\"color: #008080; text-decoration-color: #008080\">         662</span> │ <span style=\"color: #008080; text-decoration-color: #008080\">                   0.35</span> │ <span style=\"color: #008000; text-decoration-color: #008000\">     ▇    ▅     </span> │  │\n",
       "│ │ <span style=\"color: #af87ff; text-decoration-color: #af87ff\">no_follow                                     </span> │ <span style=\"color: #008080; text-decoration-color: #008080\">         177</span> │ <span style=\"color: #008080; text-decoration-color: #008080\">                  0.093</span> │ <span style=\"color: #008000; text-decoration-color: #008000\">     ▇    ▁     </span> │  │\n",
       "│ │ <span style=\"color: #af87ff; text-decoration-color: #af87ff\">over_18                                       </span> │ <span style=\"color: #008080; text-decoration-color: #008080\">           5</span> │ <span style=\"color: #008080; text-decoration-color: #008080\">                 0.0026</span> │ <span style=\"color: #008000; text-decoration-color: #008000\">       ▇        </span> │  │\n",
       "│ │ <span style=\"color: #af87ff; text-decoration-color: #af87ff\">spoiler                                       </span> │ <span style=\"color: #008080; text-decoration-color: #008080\">           2</span> │ <span style=\"color: #008080; text-decoration-color: #008080\">                  0.001</span> │ <span style=\"color: #008000; text-decoration-color: #008000\">       ▇        </span> │  │\n",
       "│ │ <span style=\"color: #af87ff; text-decoration-color: #af87ff\">locked                                        </span> │ <span style=\"color: #008080; text-decoration-color: #008080\">          13</span> │ <span style=\"color: #008080; text-decoration-color: #008080\">                 0.0068</span> │ <span style=\"color: #008000; text-decoration-color: #008000\">       ▇        </span> │  │\n",
       "│ │ <span style=\"color: #af87ff; text-decoration-color: #af87ff\">send_replies                                  </span> │ <span style=\"color: #008080; text-decoration-color: #008080\">        1737</span> │ <span style=\"color: #008080; text-decoration-color: #008080\">                   0.91</span> │ <span style=\"color: #008000; text-decoration-color: #008000\">     ▁    ▇     </span> │  │\n",
       "│ │ <span style=\"color: #af87ff; text-decoration-color: #af87ff\">stickied                                      </span> │ <span style=\"color: #008080; text-decoration-color: #008080\">           1</span> │ <span style=\"color: #008080; text-decoration-color: #008080\">                0.00052</span> │ <span style=\"color: #008000; text-decoration-color: #008000\">       ▇        </span> │  │\n",
       "│ └────────────────────────────────────────────────┴──────────────┴─────────────────────────┴──────────────────┘  │\n",
       "│ <span style=\"font-style: italic\">                                                    string                                                    </span>  │\n",
       "│ ┏━━━━━━━━━━━━━━━━━━━━━━━━━━━━┳━━━━━━━━━━━━┳━━━━━━━━━━━━━┳━━━━━━━━━━━━━━━━━━━━━━━━━━━━┳━━━━━━━━━━━━━━━━━━━━━━━┓  │\n",
       "│ ┃<span style=\"font-weight: bold\"> column_name                </span>┃<span style=\"font-weight: bold\"> NA         </span>┃<span style=\"font-weight: bold\"> NA %        </span>┃<span style=\"font-weight: bold\"> words per row              </span>┃<span style=\"font-weight: bold\"> total words           </span>┃  │\n",
       "│ ┡━━━━━━━━━━━━━━━━━━━━━━━━━━━━╇━━━━━━━━━━━━╇━━━━━━━━━━━━━╇━━━━━━━━━━━━━━━━━━━━━━━━━━━━╇━━━━━━━━━━━━━━━━━━━━━━━┩  │\n",
       "│ │ <span style=\"color: #af87ff; text-decoration-color: #af87ff\">selftext                  </span> │ <span style=\"color: #008080; text-decoration-color: #008080\">      1386</span> │ <span style=\"color: #008080; text-decoration-color: #008080\">      72.76</span> │ <span style=\"color: #008080; text-decoration-color: #008080\">                       120</span> │ <span style=\"color: #008080; text-decoration-color: #008080\">               221071</span> │  │\n",
       "│ │ <span style=\"color: #af87ff; text-decoration-color: #af87ff\">title                     </span> │ <span style=\"color: #008080; text-decoration-color: #008080\">         0</span> │ <span style=\"color: #008080; text-decoration-color: #008080\">          0</span> │ <span style=\"color: #008080; text-decoration-color: #008080\">                        16</span> │ <span style=\"color: #008080; text-decoration-color: #008080\">                30694</span> │  │\n",
       "│ │ <span style=\"color: #af87ff; text-decoration-color: #af87ff\">edited                    </span> │ <span style=\"color: #008080; text-decoration-color: #008080\">         0</span> │ <span style=\"color: #008080; text-decoration-color: #008080\">          0</span> │ <span style=\"color: #008080; text-decoration-color: #008080\">                         1</span> │ <span style=\"color: #008080; text-decoration-color: #008080\">                 1905</span> │  │\n",
       "│ │ <span style=\"color: #af87ff; text-decoration-color: #af87ff\">domain                    </span> │ <span style=\"color: #008080; text-decoration-color: #008080\">         0</span> │ <span style=\"color: #008080; text-decoration-color: #008080\">          0</span> │ <span style=\"color: #008080; text-decoration-color: #008080\">                         1</span> │ <span style=\"color: #008080; text-decoration-color: #008080\">                 1905</span> │  │\n",
       "│ │ <span style=\"color: #af87ff; text-decoration-color: #af87ff\">distinguished             </span> │ <span style=\"color: #008080; text-decoration-color: #008080\">      1904</span> │ <span style=\"color: #008080; text-decoration-color: #008080\">      99.95</span> │ <span style=\"color: #008080; text-decoration-color: #008080\">                   0.00052</span> │ <span style=\"color: #008080; text-decoration-color: #008080\">                    1</span> │  │\n",
       "│ │ <span style=\"color: #af87ff; text-decoration-color: #af87ff\">author                    </span> │ <span style=\"color: #008080; text-decoration-color: #008080\">        70</span> │ <span style=\"color: #008080; text-decoration-color: #008080\">       3.67</span> │ <span style=\"color: #008080; text-decoration-color: #008080\">                      0.96</span> │ <span style=\"color: #008080; text-decoration-color: #008080\">                 1835</span> │  │\n",
       "│ │ <span style=\"color: #af87ff; text-decoration-color: #af87ff\">url                       </span> │ <span style=\"color: #008080; text-decoration-color: #008080\">         0</span> │ <span style=\"color: #008080; text-decoration-color: #008080\">          0</span> │ <span style=\"color: #008080; text-decoration-color: #008080\">                         1</span> │ <span style=\"color: #008080; text-decoration-color: #008080\">                 1905</span> │  │\n",
       "│ └────────────────────────────┴────────────┴─────────────┴────────────────────────────┴───────────────────────┘  │\n",
       "╰────────────────────────────────────────────────────── End ──────────────────────────────────────────────────────╯\n",
       "</pre>\n"
      ],
      "text/plain": [
       "╭──────────────────────────────────────────────── skimpy summary ─────────────────────────────────────────────────╮\n",
       "│ \u001b[3m         Data Summary         \u001b[0m \u001b[3m      Data Types       \u001b[0m                                                          │\n",
       "│ ┏━━━━━━━━━━━━━━━━━━━┳━━━━━━━━┓ ┏━━━━━━━━━━━━━┳━━━━━━━┓                                                          │\n",
       "│ ┃\u001b[1;36m \u001b[0m\u001b[1;36mdataframe        \u001b[0m\u001b[1;36m \u001b[0m┃\u001b[1;36m \u001b[0m\u001b[1;36mValues\u001b[0m\u001b[1;36m \u001b[0m┃ ┃\u001b[1;36m \u001b[0m\u001b[1;36mColumn Type\u001b[0m\u001b[1;36m \u001b[0m┃\u001b[1;36m \u001b[0m\u001b[1;36mCount\u001b[0m\u001b[1;36m \u001b[0m┃                                                          │\n",
       "│ ┡━━━━━━━━━━━━━━━━━━━╇━━━━━━━━┩ ┡━━━━━━━━━━━━━╇━━━━━━━┩                                                          │\n",
       "│ │ Number of rows    │ 1905   │ │ bool        │ 9     │                                                          │\n",
       "│ │ Number of columns │ 26     │ │ string      │ 7     │                                                          │\n",
       "│ └───────────────────┴────────┘ │ int64       │ 6     │                                                          │\n",
       "│                                │ float64     │ 4     │                                                          │\n",
       "│                                └─────────────┴───────┘                                                          │\n",
       "│ \u001b[3m                                                    number                                                    \u001b[0m  │\n",
       "│ ┏━━━━━━━━━━┳━━━━━┳━━━━━━━┳━━━━━━━━━━┳━━━━━━━━━━┳━━━━━━━━━━┳━━━━━━━━━━┳━━━━━━━━━┳━━━━━━━━━━┳━━━━━━━━━┳━━━━━━━━┓  │\n",
       "│ ┃\u001b[1m \u001b[0m\u001b[1mcolumn_n\u001b[0m\u001b[1m \u001b[0m┃\u001b[1m     \u001b[0m┃\u001b[1m       \u001b[0m┃\u001b[1m          \u001b[0m┃\u001b[1m          \u001b[0m┃\u001b[1m          \u001b[0m┃\u001b[1m          \u001b[0m┃\u001b[1m         \u001b[0m┃\u001b[1m          \u001b[0m┃\u001b[1m         \u001b[0m┃\u001b[1m        \u001b[0m┃  │\n",
       "│ ┃\u001b[1m \u001b[0m\u001b[1mame     \u001b[0m\u001b[1m \u001b[0m┃\u001b[1m \u001b[0m\u001b[1mNA \u001b[0m\u001b[1m \u001b[0m┃\u001b[1m \u001b[0m\u001b[1mNA % \u001b[0m\u001b[1m \u001b[0m┃\u001b[1m \u001b[0m\u001b[1mmean    \u001b[0m\u001b[1m \u001b[0m┃\u001b[1m \u001b[0m\u001b[1msd      \u001b[0m\u001b[1m \u001b[0m┃\u001b[1m \u001b[0m\u001b[1mp0      \u001b[0m\u001b[1m \u001b[0m┃\u001b[1m \u001b[0m\u001b[1mp25     \u001b[0m\u001b[1m \u001b[0m┃\u001b[1m \u001b[0m\u001b[1mp50    \u001b[0m\u001b[1m \u001b[0m┃\u001b[1m \u001b[0m\u001b[1mp75     \u001b[0m\u001b[1m \u001b[0m┃\u001b[1m \u001b[0m\u001b[1mp100   \u001b[0m\u001b[1m \u001b[0m┃\u001b[1m \u001b[0m\u001b[1mhist  \u001b[0m\u001b[1m \u001b[0m┃  │\n",
       "│ ┡━━━━━━━━━━╇━━━━━╇━━━━━━━╇━━━━━━━━━━╇━━━━━━━━━━╇━━━━━━━━━━╇━━━━━━━━━━╇━━━━━━━━━╇━━━━━━━━━━╇━━━━━━━━━╇━━━━━━━━┩  │\n",
       "│ │ \u001b[38;5;141mgilded  \u001b[0m │ \u001b[36m  0\u001b[0m │ \u001b[36m    0\u001b[0m │ \u001b[36m  0.0073\u001b[0m │ \u001b[36m   0.097\u001b[0m │ \u001b[36m       0\u001b[0m │ \u001b[36m       0\u001b[0m │ \u001b[36m      0\u001b[0m │ \u001b[36m       0\u001b[0m │ \u001b[36m      2\u001b[0m │ \u001b[32m  ▇   \u001b[0m │  │\n",
       "│ │ \u001b[38;5;141mdowns   \u001b[0m │ \u001b[36m  0\u001b[0m │ \u001b[36m    0\u001b[0m │ \u001b[36m       0\u001b[0m │ \u001b[36m       0\u001b[0m │ \u001b[36m       0\u001b[0m │ \u001b[36m       0\u001b[0m │ \u001b[36m      0\u001b[0m │ \u001b[36m       0\u001b[0m │ \u001b[36m      0\u001b[0m │ \u001b[32m    ▇ \u001b[0m │  │\n",
       "│ │ \u001b[38;5;141mthumbnai\u001b[0m │ \u001b[36m323\u001b[0m │ \u001b[36m16.96\u001b[0m │ \u001b[36m     110\u001b[0m │ \u001b[36m      24\u001b[0m │ \u001b[36m      36\u001b[0m │ \u001b[36m      93\u001b[0m │ \u001b[36m    100\u001b[0m │ \u001b[36m     140\u001b[0m │ \u001b[36m    140\u001b[0m │ \u001b[32m ▁▃▇▁▆\u001b[0m │  │\n",
       "│ │ \u001b[38;5;141ml_height\u001b[0m │     │       │          │          │          │          │         │          │         │        │  │\n",
       "│ │ \u001b[38;5;141mupvote_r\u001b[0m │ \u001b[36m  0\u001b[0m │ \u001b[36m    0\u001b[0m │ \u001b[36m    0.83\u001b[0m │ \u001b[36m    0.17\u001b[0m │ \u001b[36m    0.08\u001b[0m │ \u001b[36m    0.74\u001b[0m │ \u001b[36m    0.9\u001b[0m │ \u001b[36m    0.97\u001b[0m │ \u001b[36m      1\u001b[0m │ \u001b[32m  ▁▂▂▇\u001b[0m │  │\n",
       "│ │ \u001b[38;5;141matio    \u001b[0m │     │       │          │          │          │          │         │          │         │        │  │\n",
       "│ │ \u001b[38;5;141mups     \u001b[0m │ \u001b[36m  0\u001b[0m │ \u001b[36m    0\u001b[0m │ \u001b[36m     230\u001b[0m │ \u001b[36m     340\u001b[0m │ \u001b[36m       0\u001b[0m │ \u001b[36m      12\u001b[0m │ \u001b[36m    170\u001b[0m │ \u001b[36m     310\u001b[0m │ \u001b[36m   3800\u001b[0m │ \u001b[32m  ▇▁  \u001b[0m │  │\n",
       "│ │ \u001b[38;5;141mthumbnai\u001b[0m │ \u001b[36m323\u001b[0m │ \u001b[36m16.96\u001b[0m │ \u001b[36m     140\u001b[0m │ \u001b[36m     1.8\u001b[0m │ \u001b[36m      70\u001b[0m │ \u001b[36m     140\u001b[0m │ \u001b[36m    140\u001b[0m │ \u001b[36m     140\u001b[0m │ \u001b[36m    140\u001b[0m │ \u001b[32m     ▇\u001b[0m │  │\n",
       "│ │ \u001b[38;5;141ml_width \u001b[0m │     │       │          │          │          │          │         │          │         │        │  │\n",
       "│ │ \u001b[38;5;141mscore   \u001b[0m │ \u001b[36m  0\u001b[0m │ \u001b[36m    0\u001b[0m │ \u001b[36m     230\u001b[0m │ \u001b[36m     340\u001b[0m │ \u001b[36m       0\u001b[0m │ \u001b[36m      12\u001b[0m │ \u001b[36m    170\u001b[0m │ \u001b[36m     310\u001b[0m │ \u001b[36m   3800\u001b[0m │ \u001b[32m  ▇▁  \u001b[0m │  │\n",
       "│ │ \u001b[38;5;141mcreated \u001b[0m │ \u001b[36m  0\u001b[0m │ \u001b[36m    0\u001b[0m │ \u001b[36m17000000\u001b[0m │ \u001b[36m38000000\u001b[0m │ \u001b[36m15000000\u001b[0m │ \u001b[36m17000000\u001b[0m │ \u001b[36m1700000\u001b[0m │ \u001b[36m17000000\u001b[0m │ \u001b[36m1700000\u001b[0m │ \u001b[32m  ▁▂▃▇\u001b[0m │  │\n",
       "│ │          │     │       │ \u001b[36m      00\u001b[0m │          │ \u001b[36m      00\u001b[0m │ \u001b[36m      00\u001b[0m │ \u001b[36m    000\u001b[0m │ \u001b[36m      00\u001b[0m │ \u001b[36m    000\u001b[0m │        │  │\n",
       "│ │ \u001b[38;5;141mnum_comm\u001b[0m │ \u001b[36m  0\u001b[0m │ \u001b[36m    0\u001b[0m │ \u001b[36m      54\u001b[0m │ \u001b[36m      79\u001b[0m │ \u001b[36m       0\u001b[0m │ \u001b[36m       6\u001b[0m │ \u001b[36m     26\u001b[0m │ \u001b[36m      68\u001b[0m │ \u001b[36m    940\u001b[0m │ \u001b[32m  ▇▁  \u001b[0m │  │\n",
       "│ │ \u001b[38;5;141ments    \u001b[0m │     │       │          │          │          │          │         │          │         │        │  │\n",
       "│ │ \u001b[38;5;141mnum_cros\u001b[0m │ \u001b[36m  0\u001b[0m │ \u001b[36m    0\u001b[0m │ \u001b[36m    0.42\u001b[0m │ \u001b[36m       1\u001b[0m │ \u001b[36m       0\u001b[0m │ \u001b[36m       0\u001b[0m │ \u001b[36m      0\u001b[0m │ \u001b[36m       0\u001b[0m │ \u001b[36m     15\u001b[0m │ \u001b[32m  ▇   \u001b[0m │  │\n",
       "│ │ \u001b[38;5;141msposts  \u001b[0m │     │       │          │          │          │          │         │          │         │        │  │\n",
       "│ └──────────┴─────┴───────┴──────────┴──────────┴──────────┴──────────┴─────────┴──────────┴─────────┴────────┘  │\n",
       "│ \u001b[3m                                                     bool                                                     \u001b[0m  │\n",
       "│ ┏━━━━━━━━━━━━━━━━━━━━━━━━━━━━━━━━━━━━━━━━━━━━━━━━┳━━━━━━━━━━━━━━┳━━━━━━━━━━━━━━━━━━━━━━━━━┳━━━━━━━━━━━━━━━━━━┓  │\n",
       "│ ┃\u001b[1m \u001b[0m\u001b[1mcolumn_name                                   \u001b[0m\u001b[1m \u001b[0m┃\u001b[1m \u001b[0m\u001b[1mtrue        \u001b[0m\u001b[1m \u001b[0m┃\u001b[1m \u001b[0m\u001b[1mtrue rate              \u001b[0m\u001b[1m \u001b[0m┃\u001b[1m \u001b[0m\u001b[1mhist            \u001b[0m\u001b[1m \u001b[0m┃  │\n",
       "│ ┡━━━━━━━━━━━━━━━━━━━━━━━━━━━━━━━━━━━━━━━━━━━━━━━━╇━━━━━━━━━━━━━━╇━━━━━━━━━━━━━━━━━━━━━━━━━╇━━━━━━━━━━━━━━━━━━┩  │\n",
       "│ │ \u001b[38;5;141mauthor_premium                                \u001b[0m │ \u001b[36m         153\u001b[0m │ \u001b[36m                   0.08\u001b[0m │ \u001b[32m     ▇    ▁     \u001b[0m │  │\n",
       "│ │ \u001b[38;5;141mis_self                                       \u001b[0m │ \u001b[36m         370\u001b[0m │ \u001b[36m                   0.19\u001b[0m │ \u001b[32m     ▇    ▂     \u001b[0m │  │\n",
       "│ │ \u001b[38;5;141mallow_live_comments                           \u001b[0m │ \u001b[36m         662\u001b[0m │ \u001b[36m                   0.35\u001b[0m │ \u001b[32m     ▇    ▅     \u001b[0m │  │\n",
       "│ │ \u001b[38;5;141mno_follow                                     \u001b[0m │ \u001b[36m         177\u001b[0m │ \u001b[36m                  0.093\u001b[0m │ \u001b[32m     ▇    ▁     \u001b[0m │  │\n",
       "│ │ \u001b[38;5;141mover_18                                       \u001b[0m │ \u001b[36m           5\u001b[0m │ \u001b[36m                 0.0026\u001b[0m │ \u001b[32m       ▇        \u001b[0m │  │\n",
       "│ │ \u001b[38;5;141mspoiler                                       \u001b[0m │ \u001b[36m           2\u001b[0m │ \u001b[36m                  0.001\u001b[0m │ \u001b[32m       ▇        \u001b[0m │  │\n",
       "│ │ \u001b[38;5;141mlocked                                        \u001b[0m │ \u001b[36m          13\u001b[0m │ \u001b[36m                 0.0068\u001b[0m │ \u001b[32m       ▇        \u001b[0m │  │\n",
       "│ │ \u001b[38;5;141msend_replies                                  \u001b[0m │ \u001b[36m        1737\u001b[0m │ \u001b[36m                   0.91\u001b[0m │ \u001b[32m     ▁    ▇     \u001b[0m │  │\n",
       "│ │ \u001b[38;5;141mstickied                                      \u001b[0m │ \u001b[36m           1\u001b[0m │ \u001b[36m                0.00052\u001b[0m │ \u001b[32m       ▇        \u001b[0m │  │\n",
       "│ └────────────────────────────────────────────────┴──────────────┴─────────────────────────┴──────────────────┘  │\n",
       "│ \u001b[3m                                                    string                                                    \u001b[0m  │\n",
       "│ ┏━━━━━━━━━━━━━━━━━━━━━━━━━━━━┳━━━━━━━━━━━━┳━━━━━━━━━━━━━┳━━━━━━━━━━━━━━━━━━━━━━━━━━━━┳━━━━━━━━━━━━━━━━━━━━━━━┓  │\n",
       "│ ┃\u001b[1m \u001b[0m\u001b[1mcolumn_name               \u001b[0m\u001b[1m \u001b[0m┃\u001b[1m \u001b[0m\u001b[1mNA        \u001b[0m\u001b[1m \u001b[0m┃\u001b[1m \u001b[0m\u001b[1mNA %       \u001b[0m\u001b[1m \u001b[0m┃\u001b[1m \u001b[0m\u001b[1mwords per row             \u001b[0m\u001b[1m \u001b[0m┃\u001b[1m \u001b[0m\u001b[1mtotal words          \u001b[0m\u001b[1m \u001b[0m┃  │\n",
       "│ ┡━━━━━━━━━━━━━━━━━━━━━━━━━━━━╇━━━━━━━━━━━━╇━━━━━━━━━━━━━╇━━━━━━━━━━━━━━━━━━━━━━━━━━━━╇━━━━━━━━━━━━━━━━━━━━━━━┩  │\n",
       "│ │ \u001b[38;5;141mselftext                  \u001b[0m │ \u001b[36m      1386\u001b[0m │ \u001b[36m      72.76\u001b[0m │ \u001b[36m                       120\u001b[0m │ \u001b[36m               221071\u001b[0m │  │\n",
       "│ │ \u001b[38;5;141mtitle                     \u001b[0m │ \u001b[36m         0\u001b[0m │ \u001b[36m          0\u001b[0m │ \u001b[36m                        16\u001b[0m │ \u001b[36m                30694\u001b[0m │  │\n",
       "│ │ \u001b[38;5;141medited                    \u001b[0m │ \u001b[36m         0\u001b[0m │ \u001b[36m          0\u001b[0m │ \u001b[36m                         1\u001b[0m │ \u001b[36m                 1905\u001b[0m │  │\n",
       "│ │ \u001b[38;5;141mdomain                    \u001b[0m │ \u001b[36m         0\u001b[0m │ \u001b[36m          0\u001b[0m │ \u001b[36m                         1\u001b[0m │ \u001b[36m                 1905\u001b[0m │  │\n",
       "│ │ \u001b[38;5;141mdistinguished             \u001b[0m │ \u001b[36m      1904\u001b[0m │ \u001b[36m      99.95\u001b[0m │ \u001b[36m                   0.00052\u001b[0m │ \u001b[36m                    1\u001b[0m │  │\n",
       "│ │ \u001b[38;5;141mauthor                    \u001b[0m │ \u001b[36m        70\u001b[0m │ \u001b[36m       3.67\u001b[0m │ \u001b[36m                      0.96\u001b[0m │ \u001b[36m                 1835\u001b[0m │  │\n",
       "│ │ \u001b[38;5;141murl                       \u001b[0m │ \u001b[36m         0\u001b[0m │ \u001b[36m          0\u001b[0m │ \u001b[36m                         1\u001b[0m │ \u001b[36m                 1905\u001b[0m │  │\n",
       "│ └────────────────────────────┴────────────┴─────────────┴────────────────────────────┴───────────────────────┘  │\n",
       "╰────────────────────────────────────────────────────── End ──────────────────────────────────────────────────────╯\n"
      ]
     },
     "metadata": {},
     "output_type": "display_data"
    }
   ],
   "source": [
    "skim(alternative_history)"
   ]
  },
  {
   "cell_type": "markdown",
   "id": "4c70b9c3-60e2-4e5f-896a-5d3df98b488c",
   "metadata": {},
   "source": [
    "From our summary statistics, we learn that our distributions may need to be normalized."
   ]
  },
  {
   "cell_type": "markdown",
   "id": "78a9bab6-b1f3-4d37-9918-0c5a4098372f",
   "metadata": {
    "jp-MarkdownHeadingCollapsed": true
   },
   "source": [
    "## Column analysis"
   ]
  },
  {
   "cell_type": "markdown",
   "id": "cc4fd743-e7f5-43ba-b4e1-61f02bde520b",
   "metadata": {
    "jp-MarkdownHeadingCollapsed": true
   },
   "source": [
    "### `ups` and `score`"
   ]
  },
  {
   "cell_type": "markdown",
   "id": "078d1157-d15e-4f8e-8d75-0c40e6ef9295",
   "metadata": {},
   "source": [
    "Since both columns are identical, we decide to only use `score`"
   ]
  },
  {
   "cell_type": "code",
   "execution_count": 15,
   "id": "faa7927e-4d4b-43e3-b098-7174673ba7b4",
   "metadata": {
    "scrolled": true
   },
   "outputs": [
    {
     "name": "stdout",
     "output_type": "stream",
     "text": [
      "[   54 22382  4591 ...  6764  2852 10358]\n",
      "[ 178  198  195  176  317  187  511  566  148   62    0  823  174   32\n",
      "  214  568   15    2   52  280   92  841  299  379  284   13  277  225\n",
      "  384  202  179  304  345  167  467  294    1  308   34   26   16    4\n",
      "  279  832   23  246   10  200    7   11  224    5  319   17   54   14\n",
      "   42  229  492  278  201  565   77  172  296   48  838   81  173   12\n",
      "    3  270  184   20   35  194  688   78  570  183  196  634  234  715\n",
      "  322  180  596  268   47  562    9  346  276  249  654 2700  351  316\n",
      "  182  522  435  723  111   56  264  395  245  282   30  231  641  514\n",
      "   19  129   61   28  451  192   46  320  675  150 2641  438  748  454\n",
      "    6  783    8  321  275  175   18   57  934   31  104   84  215  191\n",
      "  177  273  353   43  269  413  220  226   25   66  589   33  329  238\n",
      "  845  190  212  577  303  484  330  448  849  486  302  408  325  186\n",
      "  430  406  263  441   21   36  288 2012  102  651  101  959  503  477\n",
      " 1334  218  250  137  341  375  189  207  799  181   49  336  254  587\n",
      " 1084  197   70  272  525  501 2188  326  203  369  327  281  239  107\n",
      "  414  457  400  578  613   27  169  373  261  208   88  697  291   72\n",
      "   85  359  523  232   55  756  744  725   29   41   38  360   39  130\n",
      "  331  274  397  622  213  730  581  206  223  411  556 1092   86  405\n",
      "  602  363  259  228  913  461 1985  638 1345  621  236  398  480  533\n",
      "  668  437  532  337  431   83  628  655  185  266  536 1125  340  974\n",
      "  425  372  204  121   37  732  209  471  600  193  117   63  766  364\n",
      "  969  149   64  368  105   22  773  965  381  113   24  210   40  365\n",
      "  584  917   51  382  542  867  323  409 1129  283  136  313 1623  227\n",
      "  706  255 1493   59  347  290  335  463  247  710  310  709  188   98\n",
      "  205 1174  554   95  309  466  607  338  552  252  235   53 1313  667\n",
      "  267  256  358  815  244   75  298  476  482  468  572  344  932  378\n",
      " 1636  164  161  495  603  415  813  157   69  171  237  122  199  444\n",
      "  639  332  109  216   68 1181  583 1060   45  257  339 1608 3029  260\n",
      "  418  445 1771  392 3008  427 1426  956 1452  683  615  357  660 1619\n",
      "  439  611  315  529  524  507  388 2509 3793  350  312   65 1267  307\n",
      "  650  370  143 1019  241 1271  306  496  767  240  922  300 1907 1245\n",
      "  243  221 1737   76  158  569  538 1550  324  355  567  116  694  222\n",
      " 1020  428  367  954  460 3197  420  422 1083  285  147 1006  258  286\n",
      "  153  459  904  262 1082  580  670  512  678  301  119  875  314  100\n",
      "  834  555  645  352  749  380  890 1272  993  521  271  248  452  475\n",
      "  629  110  217  887  631  446  473  416  389  775   67  305  487  385\n",
      "  900 1096  154  394  211 1244   74 1323 1026  731  788  449  387  898\n",
      "   89  396  544  371   58 1649  348  494  219  423 1246  479   90  293\n",
      "  661  708  311  106 1079  765  362 2636  824  151 1379  376 1041  233\n",
      "  265  465 1118  424  918  727  724  128   60  586  462 2987  944 1367\n",
      "  374  848  595  456   50  133  751  108  483  442 2655  485  515  333\n",
      "  399 1434  576  786  502   79  886  605  699  618  500  795  295 1013]\n"
     ]
    }
   ],
   "source": [
    "column = \"score\"\n",
    "print(history[column].unique())\n",
    "print(alternative_history[column].unique())"
   ]
  },
  {
   "cell_type": "markdown",
   "id": "d6b7ce44-97b0-4730-8cbc-ae870050d612",
   "metadata": {},
   "source": [
    "Given this is a numeric column and we can observe some variance in both datasets, we keep it."
   ]
  },
  {
   "cell_type": "markdown",
   "id": "9a967964-6298-438c-9042-2615145560f8",
   "metadata": {
    "jp-MarkdownHeadingCollapsed": true
   },
   "source": [
    "### `selftext`"
   ]
  },
  {
   "cell_type": "code",
   "execution_count": 16,
   "id": "9385c188-7452-4358-8d7b-22691add21c9",
   "metadata": {
    "scrolled": true
   },
   "outputs": [
    {
     "name": "stdout",
     "output_type": "stream",
     "text": [
      "373                                                   NaN\n",
      "160                                                   NaN\n",
      "1179    Hi everybody,\\n\\nWelcome to our weekly book re...\n",
      "1578                                                  NaN\n",
      "194                                                   NaN\n",
      "Name: selftext, dtype: object\n",
      "1710                                                  NaN\n",
      "135                                                   NaN\n",
      "1711    Of all the advances made today, know that none...\n",
      "968                                                   NaN\n",
      "490                                                   NaN\n",
      "Name: selftext, dtype: object\n"
     ]
    }
   ],
   "source": [
    "column = \"selftext\"\n",
    "print(history[column].sample(5))\n",
    "print(alternative_history[column].sample(5))"
   ]
  },
  {
   "cell_type": "code",
   "execution_count": 17,
   "id": "1bbd7dc5-fb26-4872-8204-f8a3c5fbc41d",
   "metadata": {},
   "outputs": [
    {
     "data": {
      "text/plain": [
       "1386"
      ]
     },
     "execution_count": 17,
     "metadata": {},
     "output_type": "execute_result"
    }
   ],
   "source": [
    "history[column].isnull().sum()\n",
    "alternative_history[column].isnull().sum()"
   ]
  },
  {
   "cell_type": "markdown",
   "id": "3c0e354f-ed8e-4c2c-90b3-8ea5b517333d",
   "metadata": {},
   "source": [
    "`selftext` is a crucial column. We can use NLP techniques to help us distill this data into an accurate subreddit categorization. However, do note that many posts do not have `selftext`s. In those cases, other columns, including the mandatory `title` will help us determine a post's category."
   ]
  },
  {
   "cell_type": "markdown",
   "id": "5aef0054-6d53-4e3f-a3ed-3762c81ef5d6",
   "metadata": {
    "jp-MarkdownHeadingCollapsed": true
   },
   "source": [
    "### `gilded`"
   ]
  },
  {
   "cell_type": "code",
   "execution_count": 18,
   "id": "93ec1598-6ad7-4066-bc61-25fcdf164921",
   "metadata": {},
   "outputs": [
    {
     "name": "stdout",
     "output_type": "stream",
     "text": [
      "[0 1 3 2 4 5 6]\n",
      "[0 2 1]\n"
     ]
    }
   ],
   "source": [
    "column = \"gilded\"\n",
    "print(history[column].unique())\n",
    "print(alternative_history[column].unique())"
   ]
  },
  {
   "cell_type": "code",
   "execution_count": 19,
   "id": "c4d75a2c-7432-4cb4-9284-d71f837a5cce",
   "metadata": {},
   "outputs": [
    {
     "name": "stdout",
     "output_type": "stream",
     "text": [
      "gilded\n",
      "0    1842\n",
      "1      77\n",
      "2       6\n",
      "5       4\n",
      "3       3\n",
      "4       2\n",
      "6       1\n",
      "Name: count, dtype: int64\n",
      "gilded\n",
      "0    1893\n",
      "1      10\n",
      "2       2\n",
      "Name: count, dtype: int64\n"
     ]
    }
   ],
   "source": [
    "print(history[column].value_counts())\n",
    "print(alternative_history[column].value_counts())"
   ]
  },
  {
   "cell_type": "markdown",
   "id": "b7bad22f-fe48-4a4f-924f-a058f85a34db",
   "metadata": {},
   "source": [
    "Given this is a numeric column and we can observe some variance in both datasets, we keep it."
   ]
  },
  {
   "cell_type": "markdown",
   "id": "fc009eb1-6d6d-4a0a-81d0-856cae75247d",
   "metadata": {
    "jp-MarkdownHeadingCollapsed": true
   },
   "source": [
    "### `title`"
   ]
  },
  {
   "cell_type": "code",
   "execution_count": 20,
   "id": "82ac64d1-a2ec-4149-a7f9-da4dd748300c",
   "metadata": {},
   "outputs": [
    {
     "name": "stdout",
     "output_type": "stream",
     "text": [
      "['A lecture of the Assyrian Empire'\n",
      " 'With the surprising number of commenters in various subreddits that continue to confidently assert that the Holocaust is a hoax, it’s worth reviewing the prosecution and conviction of Adolf Eichmann.'\n",
      " '18 min Video Documentary: Life in Germany after WWII. Produced by the US government to explain to the American people the situation in Germany and how America was driving reconstruction.'\n",
      " ... 'Over 2,000 Mummified Sheep Heads Unearthed In Egypt Temple'\n",
      " 'Excavations carried out in Iraqi Kurdistan have revealed an ancient city that stood at the heart of an unknown kingdom: that of the mountain people, who had until then remained in the shadow of their powerful Mesopotamian neighbours.'\n",
      " \"Why Julius Caesar's Year of Confusion was the longest year in history\"]\n",
      "[\"Workers celebrating the establishment of the Australian People's Republic at Sydney Harbour, Oct 7th 1960.\"\n",
      " 'Mysterious structure found at bottom of ancient lake in 2013. Possibly 12,000 years old and weighing approximately 60,000 tons.'\n",
      " 'New Evidence Americas Settled At Least 31,000 Years Ago - ROBERT SEPEHR'\n",
      " ...\n",
      " '5,000-Year-Old Temple Emerges from Underwater in Spain After Drought (Guadalperal/Spanish Stonehenge)'\n",
      " 'Two Lost Cities Hidden For Centuries Were Just Discovered In Bolivia'\n",
      " 'Egyptian Eye of Horus hieroglyph mirrors cranial nerve, Advanced anatomical knowledge']\n"
     ]
    }
   ],
   "source": [
    "column = \"title\"\n",
    "print(history[column].unique())\n",
    "print(alternative_history[column].unique())"
   ]
  },
  {
   "cell_type": "markdown",
   "id": "09fec2e4-b321-4302-9928-05efabe56a8c",
   "metadata": {},
   "source": [
    "Like `selftext`, `title` is also crucial. The words in `title` could greatly help our classificator. To simplify our preprocessing, we could feature engineer a column by appending `title` to `selftext`."
   ]
  },
  {
   "cell_type": "markdown",
   "id": "e2d5668a-d822-4233-9ea0-3c32be688173",
   "metadata": {
    "jp-MarkdownHeadingCollapsed": true
   },
   "source": [
    "### `downs`"
   ]
  },
  {
   "cell_type": "code",
   "execution_count": 21,
   "id": "cff9f1e2-5749-45ed-823c-ccb30d003401",
   "metadata": {
    "scrolled": true
   },
   "outputs": [
    {
     "name": "stdout",
     "output_type": "stream",
     "text": [
      "[0]\n",
      "[0]\n"
     ]
    }
   ],
   "source": [
    "column = \"downs\"\n",
    "print(history[column].unique())\n",
    "print(alternative_history[column].unique())"
   ]
  },
  {
   "cell_type": "markdown",
   "id": "07049b20-fc5d-4af9-8273-1f08e73f698e",
   "metadata": {},
   "source": [
    "We will not use the `downs` column because there it has a single value in both datasets."
   ]
  },
  {
   "cell_type": "markdown",
   "id": "2bccc734-7b72-4450-b310-77f74d1c840c",
   "metadata": {
    "jp-MarkdownHeadingCollapsed": true
   },
   "source": [
    "### `thumbnail_height`"
   ]
  },
  {
   "cell_type": "code",
   "execution_count": 22,
   "id": "f5066ba7-019c-4a3b-bb7d-e09edf08382f",
   "metadata": {
    "scrolled": true
   },
   "outputs": [
    {
     "name": "stdout",
     "output_type": "stream",
     "text": [
      "[105.  nan 107. 140.  73.  68.  84.  78.  93.  92.  87.  83. 128.  89.\n",
      " 101.  72.  74.  71.  80.  95. 100.  86.  98.  62.  97.  70.  91. 131.\n",
      "  94.  79. 104.  65. 110. 114. 111. 102.  90.  67.  88.  81. 113.  66.\n",
      " 106. 122.  69.  77. 120.  26. 103.  99.  82. 123.  75. 109.  33.  28.\n",
      "  64. 115. 112. 116.  53. 127.  51.  59.  40. 108.  46.  76. 119.  36.\n",
      "  85.  56. 125.  43.  50.  49. 121.  96.  48.  44. 134. 139.]\n",
      "[140.  78. 105.  56.  51.  75.  nan 108.  63. 100.  36.  64.  72. 131.\n",
      "  73.  93. 123. 112. 139.  65.  71.  85.  88. 104.  89. 129.  87. 122.\n",
      "  70. 125. 133. 107.  91.  67.  84.  79. 120.  58.  80.  97. 137.  99.\n",
      " 124.  92. 117.  94.  90.  68.  98.  76. 128.  96. 106. 126. 118. 109.\n",
      "  83.  81.  95. 102.  82. 113.  74. 134. 115. 114. 101.  61. 119. 135.\n",
      "  59. 103.  77.  60.  66. 110. 138. 121.  86. 136.  52.  62.  44. 111.\n",
      " 132.  57.  47.]\n"
     ]
    }
   ],
   "source": [
    "column = \"thumbnail_height\"\n",
    "print(history[column].unique())\n",
    "print(alternative_history[column].unique())"
   ]
  },
  {
   "cell_type": "markdown",
   "id": "02d5a321-14ad-4a03-8dba-4591387e7359",
   "metadata": {},
   "source": [
    "Given this is a numeric column and we can observe some variance in both datasets, we keep it. However, note the nan values. We must address them in the preprocessing stage."
   ]
  },
  {
   "cell_type": "markdown",
   "id": "6d7ec1ca-eb06-42c8-8243-608014cff522",
   "metadata": {
    "jp-MarkdownHeadingCollapsed": true
   },
   "source": [
    "### `thumbnail_width`"
   ]
  },
  {
   "cell_type": "code",
   "execution_count": 23,
   "id": "55398e50-6fbc-4bd4-b05f-9f3ab031dd54",
   "metadata": {
    "scrolled": true
   },
   "outputs": [
    {
     "name": "stdout",
     "output_type": "stream",
     "text": [
      "[140.  nan  70.]\n",
      "[140.  nan  70.]\n"
     ]
    }
   ],
   "source": [
    "column = \"thumbnail_width\"\n",
    "print(history[column].unique())\n",
    "print(alternative_history[column].unique())"
   ]
  },
  {
   "cell_type": "code",
   "execution_count": 24,
   "id": "32a21e9f-f242-4a1c-81af-1094da9e9ced",
   "metadata": {},
   "outputs": [
    {
     "name": "stdout",
     "output_type": "stream",
     "text": [
      "thumbnail_width\n",
      "140.0    1230\n",
      "70.0        3\n",
      "Name: count, dtype: int64\n",
      "thumbnail_width\n",
      "140.0    1581\n",
      "70.0        1\n",
      "Name: count, dtype: int64\n"
     ]
    }
   ],
   "source": [
    "print(history[column].value_counts())\n",
    "print(alternative_history[column].value_counts())"
   ]
  },
  {
   "cell_type": "markdown",
   "id": "a72dcc9f-4b4e-4bc8-bb23-105182d88af5",
   "metadata": {},
   "source": [
    "This is a nominal feature and all categories are present in both datasets. However, we drop it because almost 100% of posts with thumbnails have the same width."
   ]
  },
  {
   "cell_type": "markdown",
   "id": "5dbad3aa-be01-49c0-aaac-3678df9fe886",
   "metadata": {
    "jp-MarkdownHeadingCollapsed": true
   },
   "source": [
    "### `upvote_ratio`"
   ]
  },
  {
   "cell_type": "code",
   "execution_count": 25,
   "id": "2964b0bf-ad85-44a5-94c0-891af62c7244",
   "metadata": {
    "scrolled": true
   },
   "outputs": [
    {
     "name": "stdout",
     "output_type": "stream",
     "text": [
      "[0.92 0.86 0.95 0.93 0.87 0.91 0.88 0.9  0.79 0.89 0.83 0.97 0.84 0.96\n",
      " 0.74 0.85 0.78 0.75 0.94 0.73 1.   0.77 0.98 0.82 0.81 0.8  0.7  0.38\n",
      " 0.76 0.63 0.62 0.27 0.72 0.66 0.68 0.6  0.64 0.99 0.56 0.35 0.71 0.45\n",
      " 0.34 0.37 0.65 0.5  0.57 0.31 0.55 0.69 0.52 0.41 0.43 0.58 0.59 0.51]\n",
      "[0.95 0.94 0.98 0.97 0.99 0.86 0.74 0.71 0.33 0.84 0.9  0.96 0.76 0.62\n",
      " 0.64 0.77 0.82 1.   0.41 0.32 0.91 0.53 0.56 0.6  0.48 0.69 0.83 0.5\n",
      " 0.87 0.92 0.63 0.78 0.88 0.73 0.8  0.51 0.49 0.54 0.93 0.59 0.38 0.42\n",
      " 0.67 0.89 0.72 0.4  0.85 0.81 0.75 0.26 0.36 0.61 0.68 0.45 0.43 0.31\n",
      " 0.65 0.58 0.27 0.66 0.7  0.57 0.46 0.08 0.79 0.55 0.39 0.47 0.22 0.44\n",
      " 0.29 0.35 0.52 0.14 0.3  0.37 0.19 0.24 0.13 0.34]\n"
     ]
    }
   ],
   "source": [
    "column = \"upvote_ratio\"\n",
    "print(history[column].unique())\n",
    "print(alternative_history[column].unique())"
   ]
  },
  {
   "cell_type": "markdown",
   "id": "ae8bee60-a742-4f11-b13d-53e7df975906",
   "metadata": {},
   "source": [
    "Given this is a numeric column and we can observe some variance in both datasets, we keep it."
   ]
  },
  {
   "cell_type": "markdown",
   "id": "48e9912b-229d-4bb6-a615-fd833cd6fe00",
   "metadata": {
    "jp-MarkdownHeadingCollapsed": true
   },
   "source": [
    "### `author_premium`"
   ]
  },
  {
   "cell_type": "code",
   "execution_count": 26,
   "id": "6c05bb7c-5086-4cb3-959e-59fd443e2ddf",
   "metadata": {
    "scrolled": true
   },
   "outputs": [
    {
     "name": "stdout",
     "output_type": "stream",
     "text": [
      "[False nan True]\n",
      "[False nan True]\n"
     ]
    }
   ],
   "source": [
    "column = \"author_premium\"\n",
    "print(history[column].unique())\n",
    "print(alternative_history[column].unique())"
   ]
  },
  {
   "cell_type": "code",
   "execution_count": 27,
   "id": "d0239cec-a048-4e68-8cc6-256cf224b2ec",
   "metadata": {},
   "outputs": [
    {
     "name": "stdout",
     "output_type": "stream",
     "text": [
      "author_premium\n",
      "False    1635\n",
      "True      170\n",
      "Name: count, dtype: int64\n",
      "author_premium\n",
      "False    1752\n",
      "True       83\n",
      "Name: count, dtype: int64\n"
     ]
    }
   ],
   "source": [
    "print(history[column].value_counts())\n",
    "print(alternative_history[column].value_counts())"
   ]
  },
  {
   "cell_type": "markdown",
   "id": "5ad088f7-ea2e-4cb7-ad65-568b87f95dd3",
   "metadata": {
    "jp-MarkdownHeadingCollapsed": true
   },
   "source": [
    "This is a nominal feature and all categories are present in both datasets. However, there is no documentation available that explains what the null values are, meaning we cannot accurately impute them. Hence, we do not use `author_premium`."
   ]
  },
  {
   "cell_type": "markdown",
   "id": "afe6a6fe-ca5a-4117-9edb-d1c0097046e1",
   "metadata": {
    "jp-MarkdownHeadingCollapsed": true
   },
   "source": [
    "### `edited`"
   ]
  },
  {
   "cell_type": "code",
   "execution_count": 28,
   "id": "0bf5d13a-3940-494c-9a16-954197b043c4",
   "metadata": {
    "scrolled": true
   },
   "outputs": [
    {
     "name": "stdout",
     "output_type": "stream",
     "text": [
      "['False' '1525287103.0' '1499089255.0' '1490490634.0' '1554923443.0'\n",
      " '1705976665.0' '1589006419.0' '1496032043.0' '1541718365.0'\n",
      " '1585516697.0' '1555075822.0' '1602628810.0' '1510237520.0'\n",
      " '1676498687.0' '1541365072.0' '1469134982.0' '1591194069.0'\n",
      " '1517337000.0' '1498694041.0' '1589873210.0' '1541633808.0'\n",
      " '1700672347.0' '1499103091.0' '1468162376.0' '1550097001.0'\n",
      " '1548878107.0' '1547654031.0' '1511285780.0' '1514763328.0'\n",
      " '1478535018.0' '1492021117.0' '1473533262.0' '1702511983.0'\n",
      " '1588682038.0' '1488099790.0' '1589414285.0' '1490554625.0'\n",
      " '1539606915.0' '1516579863.0' '1640368541.0' '1566336064.0'\n",
      " '1441505383.0' '1553270204.0' '1553025666.0' '1582488869.0'\n",
      " '1499447998.0' '1518723093.0' '1503360658.0' '1512881638.0'\n",
      " '1475666354.0' '1679735124.0' '1561741573.0' '1705984905.0'\n",
      " '1692737887.0' '1526755500.0' '1471948866.0' '1529352314.0'\n",
      " '1547744138.0' '1554236829.0' '1478869026.0' '1462033654.0'\n",
      " '1431904731.0' '1474555207.0' '1563894278.0' '1584621182.0'\n",
      " '1491653092.0' '1510312822.0' '1691768088.0' '1494976958.0'\n",
      " '1489545212.0' '1605807621.0' '1556249080.0' '1699631900.0'\n",
      " '1511980377.0' '1503687016.0' '1698258983.0' '1488747597.0'\n",
      " '1543615019.0' '1587761687.0' '1548130290.0' '1473928254.0'\n",
      " '1489202421.0' '1591462746.0' '1514423210.0' '1506815063.0'\n",
      " '1582232442.0' '1691274269.0' '1584402282.0' '1573088291.0'\n",
      " '1467034709.0' '1590783631.0' '1507946517.0' '1491848935.0'\n",
      " '1555263027.0' '1509309399.0' '1482269949.0' '1489425055.0'\n",
      " '1476129024.0' '1486717332.0' '1573169465.0' '1511832890.0'\n",
      " '1540080980.0' '1543191743.0' '1592802491.0' '1507741020.0'\n",
      " '1471400380.0' '1505307956.0' '1571904363.0' '1494797690.0'\n",
      " '1498753926.0' '1523914304.0' '1481298941.0' '1544006460.0'\n",
      " '1475440050.0' '1506470164.0' '1535569654.0' '1522692792.0'\n",
      " '1473432120.0' '1471187782.0' '1505862971.0' '1594142714.0'\n",
      " '1710543090.0' '1600884194.0' '1521092785.0' '1510084516.0'\n",
      " '1524074484.0' '1599232351.0' '1515952950.0' '1493056300.0'\n",
      " '1543154781.0' '1468287800.0' '1501250482.0' '1492769494.0'\n",
      " '1694683346.0' '1499799906.0' '1709151902.0' '1520875589.0'\n",
      " '1579554925.0' '1515577583.0' '1587213271.0' '1528381449.0'\n",
      " '1709341334.0' '1542148843.0' '1604078931.0' '1502796778.0'\n",
      " '1525427301.0' '1578932454.0' '1475870430.0' '1447675578.0'\n",
      " '1583504586.0' '1552473105.0' '1580948673.0' '1624349388.0'\n",
      " '1494741817.0' '1702501929.0' '1528918634.0' '1684357434.0'\n",
      " '1573442980.0' '1545929248.0' '1523038636.0' '1541527997.0'\n",
      " '1514905889.0' '1482069569.0' '1490375172.0' '1471975403.0'\n",
      " '1505920404.0' '1497469873.0' '1483120174.0' '1684511045.0'\n",
      " '1564058019.0' '1585245926.0' '1527532714.0' '1504612326.0'\n",
      " '1547238284.0' '1675447842.0' '1484253703.0' '1553132162.0'\n",
      " '1523483067.0' '1574806903.0' '1445040417.0' '1564497836.0'\n",
      " '1518550339.0' '1547149939.0' '1549898732.0' '1517519675.0'\n",
      " '1692266292.0' '1558508680.0' '1555642724.0' '1589568386.0'\n",
      " '1502386273.0' '1499385329.0' '1539728246.0' '1490130524.0'\n",
      " '1576722360.0' '1496348467.0' '1488048026.0' '1527980484.0'\n",
      " '1516978049.0' '1505404851.0' '1540248662.0' '1419111302.0'\n",
      " '1543299918.0' '1512741087.0' '1495936934.0' '1498760887.0'\n",
      " '1495042388.0' '1503098465.0' '1482891835.0' '1686918486.0'\n",
      " '1516914305.0' '1517943648.0' '1498439787.0' '1491758957.0'\n",
      " '1483992815.0' '1524608443.0' '1514287961.0' '1486518699.0'\n",
      " '1544902826.0' '1528213768.0' '1705614986.0' '1477244596.0']\n",
      "['False' '1709149319.0' '1713183426.0' '1704227901.0' '1701519779.0'\n",
      " '1712921406.0' '1710456041.0' '1702863808.0' '1697724945.0'\n",
      " '1694432411.0' '1700547166.0' '1702750761.0' '1706190354.0'\n",
      " '1707874311.0' '1703907959.0' '1697329156.0' '1712125818.0'\n",
      " '1707904506.0' '1699589695.0' '1603080058.0' '1691725469.0'\n",
      " '1676883269.0' '1622816338.0' '1667051423.0' '1707594836.0'\n",
      " '1703271396.0' '1698579045.0' '1701545198.0' '1697724786.0'\n",
      " '1703114289.0' '1693329793.0' '1712690073.0' '1709083386.0'\n",
      " '1669658052.0' '1702208045.0' '1708610308.0' '1699992965.0'\n",
      " '1622050270.0' '1712309810.0' '1668637695.0' '1694735311.0'\n",
      " '1703955316.0' '1711582790.0' '1699656997.0' '1706144489.0'\n",
      " '1698184585.0' '1698336426.0' '1706223615.0' '1707675034.0'\n",
      " '1712120356.0' '1613565992.0' '1709082157.0' '1703954684.0'\n",
      " '1699238334.0' '1708656122.0' '1709989513.0' '1706754504.0'\n",
      " '1703148382.0' '1708808068.0' '1707699417.0' '1698644959.0'\n",
      " '1713835990.0' '1706178792.0' '1701026432.0' '1702989530.0'\n",
      " '1703834820.0' '1596377980.0' '1692120198.0' '1711121317.0'\n",
      " '1698081574.0' '1698674812.0' '1697725080.0' '1699822064.0'\n",
      " '1706481532.0' '1706476972.0' '1697725186.0' '1699183991.0'\n",
      " '1703526531.0' '1709674265.0' '1668373211.0' '1702972143.0'\n",
      " '1705287454.0' '1693516076.0' '1699789250.0' '1699994802.0'\n",
      " '1707869434.0' '1708035545.0' '1702703049.0' '1698783621.0'\n",
      " '1706939283.0']\n"
     ]
    }
   ],
   "source": [
    "column = \"edited\"\n",
    "print(history[column].unique())\n",
    "print(alternative_history[column].unique())"
   ]
  },
  {
   "cell_type": "markdown",
   "id": "4184c17d-6846-4f49-9ca5-20e5a0605e68",
   "metadata": {},
   "source": [
    "This is a hybrid column, which appears to log `False` is a post was not edited or an UNIX time metric if it was. We decided to keep and use this column for feature engineering."
   ]
  },
  {
   "cell_type": "markdown",
   "id": "c678db77-b68a-4542-a82d-72e7dc7e8aa2",
   "metadata": {
    "jp-MarkdownHeadingCollapsed": true
   },
   "source": [
    "### `is_self`"
   ]
  },
  {
   "cell_type": "code",
   "execution_count": 29,
   "id": "11673b84-b878-4032-9c73-92fec7900a10",
   "metadata": {
    "scrolled": true
   },
   "outputs": [
    {
     "name": "stdout",
     "output_type": "stream",
     "text": [
      "[False  True]\n",
      "[False  True]\n"
     ]
    }
   ],
   "source": [
    "column = \"is_self\"\n",
    "print(history[column].unique())\n",
    "print(alternative_history[column].unique())"
   ]
  },
  {
   "cell_type": "code",
   "execution_count": 30,
   "id": "a2c1261f-b36e-4064-80c4-3c3911ba6b25",
   "metadata": {},
   "outputs": [
    {
     "name": "stdout",
     "output_type": "stream",
     "text": [
      "is_self\n",
      "False    1311\n",
      "True      624\n",
      "Name: count, dtype: int64\n",
      "is_self\n",
      "False    1535\n",
      "True      370\n",
      "Name: count, dtype: int64\n"
     ]
    }
   ],
   "source": [
    "print(history[column].value_counts())\n",
    "print(alternative_history[column].value_counts())"
   ]
  },
  {
   "cell_type": "markdown",
   "id": "1728e879-6dba-470e-8625-3ee6ec44e600",
   "metadata": {},
   "source": [
    "Given this is a nominal feature and all categories are present in both datasets, we keep it."
   ]
  },
  {
   "cell_type": "markdown",
   "id": "7b06426c-7aad-4de4-b3ce-1cb33f966471",
   "metadata": {
    "jp-MarkdownHeadingCollapsed": true
   },
   "source": [
    "### `created`"
   ]
  },
  {
   "cell_type": "code",
   "execution_count": 31,
   "id": "4c1e74f7-c8f1-49d2-b2e8-cac04e55b0a5",
   "metadata": {
    "scrolled": true
   },
   "outputs": [
    {
     "name": "stdout",
     "output_type": "stream",
     "text": [
      "[1.68519530e+09 1.52526470e+09 1.56897747e+09 ... 1.67984531e+09\n",
      " 1.55343405e+09 1.70922532e+09]\n",
      "[1.60492640e+09 1.68267237e+09 1.59562903e+09 ... 1.58781678e+09\n",
      " 1.65505511e+09 1.70692313e+09]\n"
     ]
    }
   ],
   "source": [
    "column = \"created\"\n",
    "print(history[column].unique())\n",
    "print(alternative_history[column].unique())"
   ]
  },
  {
   "cell_type": "markdown",
   "id": "0c5497eb-01fe-474a-9542-8eed4c729554",
   "metadata": {},
   "source": [
    "Given this is a numeric column and we can observe some variance in both datasets, we keep it. Furthermore, we could use `created` to feature engineer the times in which the posts were created. We may find something interesting."
   ]
  },
  {
   "cell_type": "markdown",
   "id": "e8ccfd5d-ad64-4936-9159-511630a87e27",
   "metadata": {
    "jp-MarkdownHeadingCollapsed": true
   },
   "source": [
    "### `domain`"
   ]
  },
  {
   "cell_type": "code",
   "execution_count": 32,
   "id": "5faca960-63a5-411a-b581-d567f510499e",
   "metadata": {
    "scrolled": true
   },
   "outputs": [
    {
     "name": "stdout",
     "output_type": "stream",
     "text": [
      "['youtube.com' 'self.history' 'youtu.be' 'historytoday.com'\n",
      " 'viking.ucla.edu' 'theverge.com' 'theconversation.com' 'nautil.us'\n",
      " 'cardiff.ac.uk' 'frommers.com' 'msn.com' 'theguardian.com'\n",
      " '63percentscottish.com' 'telegraph.co.uk' '1stalabamacavalryusv.com'\n",
      " 'bbc.com' 'arkeonews.net' 'canadiangeographic.ca' 'english.ahram.org.eg'\n",
      " 'mentalfloss.com' 'oceanofwisdom.in' 'bbc.co.uk' 'nytimes.com' 'hrw.org'\n",
      " 'cnn.com' 'zmescience.com' 'sciencemag.org' '27thtankbattalion.com'\n",
      " 'en.mercopress.com' 'open.spotify.com' 'mymodernmet.com'\n",
      " 'sciencenewsjournal.com' 'heritagedaily.com' 'mpg.de'\n",
      " 'clickondetroit.com' 'time.com' 'newsinteractives.cbc.ca'\n",
      " 'theophthalmologist.com' 'web.archive.org' 'academia.edu'\n",
      " 'news-artnet-com.cdn.ampproject.org' 'purdue.edu' 'thediplomat.com'\n",
      " 'phys.org' 'scientificamerican.com' 'magazine.uc.edu'\n",
      " 'smithsonianmag.com' 'washingtonpost.com' 'livescience.com'\n",
      " 'edition.cnn.com' 'vice.com' 'nbcnews.com' 'mused.org'\n",
      " 'huffingtonpost.co.uk' 'aeon.co' 'thecollector.com' 'nature.com'\n",
      " 'stuff.co.nz' 'greekreporter.com' 'theatlantic.com' 'worldatlas.com'\n",
      " 'archaeologyworldnews.com' 'oyc.yale.edu' 'qub.ac.uk' 'science.org'\n",
      " 'sciencedaily.com' 'history.com' 'wzzm13.com' 'gothepodcast.com'\n",
      " 'news.artnet.com' 'drewexmachina.com' 'aljazeera.com' 'manchester.ac.uk'\n",
      " 'laphamsquarterly.org' 'happynews.com' 'news.harvard.edu'\n",
      " 'militaryhistorychronicles.org' 'highontop.blog' 'aleteia.org'\n",
      " 'e-ir.info' 'mercianexplorer.com' 'uni-konstanz.de' 'newscientist.com'\n",
      " 'washingtonblade.com' 'sci-news.com' 'mexiconewsdaily.com'\n",
      " 'timesofisrael.com' 'news.bbc.co.uk' 'blog.sciencemuseum.org.uk'\n",
      " 'montrealgazette.com' 'abc.net.au' 'dailysabah.com' 'link.springer.com'\n",
      " 'nypost.com' 'easy-history.com' 'thenationalnews.com' 'historyextra.com'\n",
      " 'sciencenorway.no' 'labrujulaverde.com' 'motherboard.vice.com'\n",
      " 'nos-nl.translate.goog' 'openculture.com'\n",
      " 'heritagesciencejournal.springeropen.com' 'pursuit.unimelb.edu.au'\n",
      " 'npr.org' 'thelocal.es' 'dw.com' 'archaeology.org' 'worksinprogress.co'\n",
      " 'historicengland.org.uk' 'earth.com' 'scienceinter.com'\n",
      " 'english.elpais.com' 'angrystaffofficer.com' 'rbth.com' 'newsok.com'\n",
      " 'polarstories.ca' 'acoup.blog' 'france24.com' 'newlinesmag.com'\n",
      " 'apnews.com' 'euronews.com' 'classicsforall.org.uk' 'nps.gov'\n",
      " 'news.cnrs.fr' 'wltribune.com' 'warhistoryonline.com' 'news.mit.edu'\n",
      " 'blogs.loc.gov' 'ucl.ac.uk' 'archive.org' 'madefrom.com' 'csic.es'\n",
      " 'cbsnews.com' 'cam.ac.uk' 'founders.archives.gov' 'ananova.news'\n",
      " 'pnas.org' 'breakingnews.ie' 'whitehousehistory.org'\n",
      " 'reporter.anu.edu.au' 'lsu.edu' 'news.griffith.edu.au' 'english.radio.cz'\n",
      " 'researchgate.net' 'kpbs.org' 'independent.co.uk' 'businessinsider.com'\n",
      " 'uni-tuebingen.de' 'classicalassociationni.wordpress.com'\n",
      " 'egypttoday.com' 'nymag.com' 'narratively.com' 'theartnewspaper.com'\n",
      " 'nerdyinfo.com' 'maritime-executive.com' 'cnbc.com'\n",
      " 'kathylovesphysics.com' 'messynessychic.com' 'nowarchaeology.com'\n",
      " 'anatolianarchaeology.net' 'nationalinterest.org' 'hms.harvard.edu'\n",
      " 'danmarkshistorien.dk' 'spiegel.de' 'al.com'\n",
      " 'germanhistorydocs.ghi-dc.org' 'sciencenews.org' 'nsarchive.gwu.edu'\n",
      " 'thehistoryville.com' 'silentworldfoundation.org.au' 'kyushu-u.ac.jp'\n",
      " 'newsweek.com' 'blog.nationalmuseum.ch' 'en.as.com' 'middleeasteye.net'\n",
      " 'peoplingthepast.com' 'news.nationalgeographic.com' 'doi.org'\n",
      " 'egyptindependent.com' 'traveltalkmag.com.au' 'architecturaldigest.com'\n",
      " 'watch-saga.com' 'nmaahc.si.edu' 'theparisreview.org' 'rferl.org'\n",
      " 'inqld.com.au' 'somme-battlefields.com' 'nationalgeographic.com'\n",
      " 'damninteresting.com' 'news.sky.com' 'ltu.se' 'thepenngazette.com'\n",
      " 'history.co.uk' 'ulukayin.org' 'abcnews.go.com' 'academic.oup.com'\n",
      " 'kucb.org' 'southampton.ac.uk' 'aao.org' 'lmu.de' 'laskerfoundation.org'\n",
      " 'senate.gov' 'oxfordmail.co.uk' 'onlinelibrary.wiley.com' 'nowiknow.com'\n",
      " 'whoi.edu' 'ancient.eu' 'icelandmonitor.mbl.is' 'apmreports.org'\n",
      " 'neh.gov' 'archive.voice-online.co.uk' 'historyhustle.com'\n",
      " 'crisis-medicine.com' 'cambridge.org' 'daily.jstor.org'\n",
      " 'libraryofarabicliterature.org' 'boston.cbslocal.com' 'historic-uk.com'\n",
      " 'the-past.com' 'scitechdaily.com' 'koreajoongangdaily.joins.com'\n",
      " 'classics.ox.ac.uk' 'historyofyesterday.com' 'uq.edu.au'\n",
      " 'mola-newsroom.prgloo.com' 'scrollprize.org' 'news.yahoo.com'\n",
      " 'hmd.org.uk' 'haverford.edu' 'rnz.co.nz' 'themappamundi.co.uk'\n",
      " 'paxbritannica.info' 'rfi.fr' 'antigonejournal.com' 'digitaljournal.com'\n",
      " 'frockflicks.com' 'news.berkeley.edu' 'mirror.co.uk' 'thehistoryblog.com'\n",
      " 'i.imgur.com' 'bmeia.gv.at' 'arstechnica.com' 'sciencetimes.com'\n",
      " 'armstronginstitute.org' 'arcticanthropology.org' 'wtoc.com'\n",
      " 'imperiumromanum.pl' 'talesoftimesforgotten.com' 'nasa.gov'\n",
      " 'qnews.com.au' 'rarehistoricalphotos.com' 'lithub.com' 'shh.mpg.de'\n",
      " 'haaretz.com' 'cosmosmagazine.com' 'wowktv.com' 'ncbi.nlm.nih.gov'\n",
      " 'archaeologymag.com' 'kansascity.com' 'talesofceylon.com'\n",
      " 'britishmuseum.org' 'blog.english-heritage.org.uk' 'inews.co.uk'\n",
      " 'news.yale.edu' 'pressofatlanticcity.com' 'reuters.com' 'historyhit.com'\n",
      " 'brentnongbri.com' 'lpi.usra.edu' 'ansa.it' 'thefirstnews.com'\n",
      " 'maximumprogress.substack.com' 'dailyminnesota.com' 'reddit.com'\n",
      " 'swansea.ac.uk' 'news.com.au' 'unionprogress.com' 'qz.com' 'ualberta.ca'\n",
      " 'brienne.org' 'politico.com' 'jpost.com' 'muckrock.com' 'digi.vatlib.it'\n",
      " 'newyorker.com' 'irishtimes.com' 'ktvq.com' 'militaryhistorynow.com'\n",
      " 'wondriumdaily.com' 'mashable.com' 'story.californiasunday.com' 'vox.com'\n",
      " 'slate.com' 'buzzsprout.com' 'jacobin.com' 'whiningpast.com'\n",
      " 'dinosaurpictures.org' 'fortune.com' 'humanworkhistory.substack.com'\n",
      " 'firstpost.com' 'sci.news' 'allthatsinteresting.com' 'realmofhistory.com'\n",
      " 'nos.nl' 'foreignpolicy.com' 'historicenvironment.scot'\n",
      " 'blog.frontiersin.org' 'observer.com' 'forbes.com' 'astronomy.com'\n",
      " 'themarginalian.org' 'northernpublicradio.org' 'ruralhistoria.com'\n",
      " 'novum.substack.com' 'the-scientist.com' 'worldhistory.org'\n",
      " 'walesonline.co.uk' 'condottieridiventura.it'\n",
      " 'kiwihellenist.blogspot.com' 'postandcourier.com' 'dagboekvankokolijn.nl'\n",
      " 'senado.leg.br' 'irishcentral.com' 'loc.gov' 'msa.maryland.gov'\n",
      " 'niemanreports.org' '1news.co.nz' 'thestranger.com' 'yesweekly.com'\n",
      " 'them.us' 'culturalsurvival.org' 'today.tamu.edu' 'strath.ac.uk'\n",
      " 'metrocosm.com' 'ibtimes.com' 'inquirer.com' 'csmonitor.com'\n",
      " 'indiatimes.com' 'nhm.ac.uk' 'presidentlincoln.illinois.gov' 'mcgill.ca'\n",
      " 'noemamag.com' 'smh.com.au' 'spectrum.ieee.org' 'royalacademy.org.uk'\n",
      " '9news.com.au' 'egyptian-gazette.com' 'sciencealert.com'\n",
      " 'courier-journal.com' 'wpxi.com' 'notesfrompoland.com' 'telex.hu'\n",
      " 'thedial.world' 'wbur.org' 'bigthink.com' 'zonnews.com'\n",
      " 'journals.plos.org' 'wmht.org' 'medievalists.net' 'magazine.caltech.edu'\n",
      " 'hud.ac.uk' 'science.sciencemag.org' '99percentinvisible.org'\n",
      " 'koreatimes.co.kr' 'meduza.io' 'blogs.lse.ac.uk' 'penntoday.upenn.edu'\n",
      " 'eurasianet.org' 'en.majalla.com' 'thereader.mitpress.mit.edu' 'cbc.ca'\n",
      " 'maajournal.com' 'yahoo.com' 'unseenjapan.com' 'kyotojournal.org'\n",
      " 'smb.museum' 'latimes.com' 'auckland.ac.nz' 'discovermagazine.com'\n",
      " 'coca-colacompany.com' 'inhabitat.com' 'thedrive.com'\n",
      " 'idahostatesman.com' 'spectrumlocalnews.com' 'militarymaps.rct.uk'\n",
      " 'aktuelles.uni-frankfurt.de' 'sitn.hms.harvard.edu' 'amusingplanet.com'\n",
      " 'miamiherald.com' 'oeaw.ac.at' 'antiquebox.org' 'nrk.no' 'asahi.com'\n",
      " 'sa-kuva.fi' 'insider.com' 'iflscience.com' 'popsci.com'\n",
      " 'pilotonline.com' 'usatoday.com' 'archive.wul.waseda.ac.jp'\n",
      " 'unseenhistories.com' 'alphahistory.com' 'digitescgr.hypotheses.org'\n",
      " 'hyperallergic.com' 'tenochtitlan.thomaskole.nl' 'arkeolojikhaber.com'\n",
      " 'uk.news.yahoo.com' 'democracynow.org' 'lrb.co.uk' 'ecns.cn'\n",
      " 'antiquipop.hypotheses.org' 'irisharchaeology.ie' 'arabnews.com'\n",
      " 'middleeastmonitor.com' 'wsj.com' 'greekcitytimes-com.cdn.ampproject.org'\n",
      " 'zenger.news' 'eclecticlight.co' 'juliamartins.co.uk' 'cairoscene.com'\n",
      " 'en.uncounted.ual.ua' 'pagef30.com' 'timeline.com' 'nautiluslive.org'\n",
      " 'humanities.uci.edu' 'australiangeographic.com.au' 'pastemagazine.com'\n",
      " 'outlooktraveller.com' 'timesofmalta.com' 'connecticuthistory.org'\n",
      " 'macleans.ca' 'biography.com' 'tate.org.uk' '3ders.org' 'gfx.nrk.no'\n",
      " 'eurekalert.org' 'ua-magazine.com' 'szru.gov.ua' 'su.se'\n",
      " 'hwcdn.libsyn.com' 'singaporewarcrimestrials.com' 'ndtv.com']\n",
      "['i.redd.it' 'edition.cnn.com' 'youtube.com' 'sciencealert.com'\n",
      " 'reddit.com' 'v.redd.it' 'self.AlternativeHistory' 'youtu.be'\n",
      " 'i.imgur.com' 'ancient-code.com' 'self.WelcomingTheUnknown'\n",
      " 'thelivingmoon.com' 'pyramidsinamerica.com' 'beyondenigma.com'\n",
      " 'adhi.link' 'phys.org' 'io9.gizmodo.com' 'starmythworld.com'\n",
      " 'theturkisheconomy.com' 'hamburgercountryblues.substack.com' 'yahoo.com'\n",
      " 'scitechdaily.com' 'amnh.org' 'npr.org' 'en.wikipedia.org'\n",
      " 'thunderbirdphoto.com' 'theguardian.com' 'bbc.co.uk'\n",
      " 'breakingnewsstreams.com' 'imgur.com' 'infogalactic.com'\n",
      " 'self.conspiracy' 'arkeonews.net' 'dailygrail.com' 'journals.plos.org'\n",
      " 'open.spotify.com' 'smithsonianmag.com' 'm.youtube.com' 'aeon.co'\n",
      " 'livescience.com' 'anatolianarchaeology.net' 'web.archive.org'\n",
      " 'tumblr.com' 'self.Archaeology_Plus' 'curiosmos.com' 'daily.jstor.org'\n",
      " 'vice.com' 'upload.wikimedia.org' 'images.nationalgeographic.org'\n",
      " 'self.numerology' 'ancient-origins.net' 'anomalien.com' 'maps.nls.uk'\n",
      " 'archaeologynewsnetwork.blogspot.com' '2.bp.blogspot.com' 'tiktok.com'\n",
      " 'self.ElectricUniverse' 'odysee.com' 'pnas.org' 'howandwhys.com'\n",
      " 'open.substack.com' 'grahamhancock.com' 'philarchive.org'\n",
      " 'image.slidesharecdn.com' 'thedebrief.org' 'self.ConsciousRun6137'\n",
      " 'self.Tartaria' 'popsci.com' 'bibliotecapleyades.net' 'kickstarter.com'\n",
      " 'en.m.wikipedia.org' 'endtimebibleprophecy.files.wordpress.com'\n",
      " 'news.harvard.edu' 'bbc.com' 'wolfenhaas.com' 'akjournals.com'\n",
      " 'anoxfordhistorian.com' 'rovasirasforrai.hu' 'jayasrilanka.info'\n",
      " 'famouswonders.com' 'archive.org' 'dailymail.co.uk' 'wired.com'\n",
      " 'archaeology-world.com' 'self.BeforeOrion' 'nhm.ac.uk'\n",
      " 'lazyhistorianunknown.co.uk' 'unherd.com' 'allthatsinteresting.com'\n",
      " 'brehonacademy.org' 'news.artnet.com' 'helenastales.weebly.com'\n",
      " 'self.abovethenormnews' 'science-news.co' 'metro.co.uk'\n",
      " 'independent.co.uk' 'self.CulturalLayer' 'self.HighStrangeness'\n",
      " 'dailymotion.com' 'archaeologymag.com' 'dailyoddsandends.wordpress.com'\n",
      " 'news.yahoo.com' 'thearchaeologist.org'\n",
      " 'prairielandparanormalpodcast.com' 'self.TheAnkhKey'\n",
      " 'questionablehandle.github.io' 'self.StrangeEarth' 'nytimes.com'\n",
      " 'nationalpost.com' 'theatlantic.com' 'self.conspiracytheories'\n",
      " 'images-wixmp-ed30a86b8c4ca887773594c2.wixmp.com' 'davidrumsey.com'\n",
      " 'wealthofgeeks.com' 'nypost.com' 'ancient-archeology.com'\n",
      " 'myjewishlearning.com' 'raremaps.com' 'atlanteangardens.blogspot.com'\n",
      " 'lorelibrarymyth.com' 'novoscriptorium.com' 'orderyoni.com' 'pbs.org'\n",
      " 'thevintagenews.com' 'medium.com' 'gfycat.com' 'limitlane.com'\n",
      " 'washingtontimes.com' 'azquotes.com' 'bigthink.com' 'mymodernmet.com'\n",
      " 'netflix.com' 'ultra-unlimited.com' 'msn.com' 'telegraph.co.uk'\n",
      " 'khou.com' 'yo.fan' 'gaia.com' 'self.EdgarCayce' 'metricviews.uk'\n",
      " 'www-verdadeufo-com-br.translate.goog' 'self.aliens' 'express.co.uk'\n",
      " 'kgov.com' 'nyu.edu' 'twitter.com' 'arstechnica.com' 'astronomy.com'\n",
      " 'mahabharata-research.com' 'humansarefree.com' 'cosmosmagazine.com'\n",
      " 'newscientist.com' 'faculty.ucr.edu' 'unsigned.io' 'discovermagazine.com'\n",
      " 'worldzznews.com' 'lost-colony.com' 'heritagedaily.com' 'bringside.me'\n",
      " 'thechroniclesofhistory.com']\n"
     ]
    }
   ],
   "source": [
    "column = \"domain\"\n",
    "print(history[column].unique())\n",
    "print(alternative_history[column].unique())"
   ]
  },
  {
   "cell_type": "code",
   "execution_count": 33,
   "id": "f3723f22-c64d-4c9f-b70c-b65f8dcc06ff",
   "metadata": {},
   "outputs": [
    {
     "name": "stdout",
     "output_type": "stream",
     "text": [
      "0\n",
      "0\n"
     ]
    }
   ],
   "source": [
    "print(history[column].isna().sum())\n",
    "print(alternative_history[column].isna().sum())"
   ]
  },
  {
   "cell_type": "markdown",
   "id": "241aac3b-4479-4e85-b8e3-c419e979b3cc",
   "metadata": {},
   "source": [
    "This information may help us make more accurate predictions. Hence, we keep it."
   ]
  },
  {
   "cell_type": "markdown",
   "id": "086de68a-1a18-4c5f-9f12-26740f8e4dfe",
   "metadata": {
    "jp-MarkdownHeadingCollapsed": true
   },
   "source": [
    "### `allow_live_comments`"
   ]
  },
  {
   "cell_type": "code",
   "execution_count": 34,
   "id": "2e1af666-b719-4960-ade4-9ab3240e318e",
   "metadata": {
    "scrolled": true
   },
   "outputs": [
    {
     "name": "stdout",
     "output_type": "stream",
     "text": [
      "[False  True]\n",
      "[False  True]\n"
     ]
    }
   ],
   "source": [
    "column = \"allow_live_comments\"\n",
    "print(history[column].unique())\n",
    "print(alternative_history[column].unique())"
   ]
  },
  {
   "cell_type": "code",
   "execution_count": 35,
   "id": "50a0be7e-080d-4442-a0b9-641c7faa6328",
   "metadata": {},
   "outputs": [
    {
     "name": "stdout",
     "output_type": "stream",
     "text": [
      "allow_live_comments\n",
      "False    1458\n",
      "True      477\n",
      "Name: count, dtype: int64\n",
      "allow_live_comments\n",
      "False    1243\n",
      "True      662\n",
      "Name: count, dtype: int64\n"
     ]
    }
   ],
   "source": [
    "print(history[column].value_counts())\n",
    "print(alternative_history[column].value_counts())"
   ]
  },
  {
   "cell_type": "markdown",
   "id": "f5783235-1b3c-4cba-a4e3-86608db939d9",
   "metadata": {},
   "source": [
    "Given this is a nominal feature and all categories are present in both datasets, we keep it."
   ]
  },
  {
   "cell_type": "markdown",
   "id": "4b5f4dde-ece7-4096-b46c-79c49cb1d77e",
   "metadata": {
    "jp-MarkdownHeadingCollapsed": true
   },
   "source": [
    "### `no_follow`"
   ]
  },
  {
   "cell_type": "code",
   "execution_count": 36,
   "id": "be932736-3006-470b-bd06-62d4337738ff",
   "metadata": {
    "scrolled": true
   },
   "outputs": [
    {
     "name": "stdout",
     "output_type": "stream",
     "text": [
      "[False  True]\n",
      "[False  True]\n"
     ]
    }
   ],
   "source": [
    "column = \"no_follow\"\n",
    "print(history[column].unique())\n",
    "print(alternative_history[column].unique())"
   ]
  },
  {
   "cell_type": "code",
   "execution_count": 37,
   "id": "326f48e9-1ac0-4a12-9083-5ebd77c38d8b",
   "metadata": {},
   "outputs": [
    {
     "name": "stdout",
     "output_type": "stream",
     "text": [
      "no_follow\n",
      "False    1923\n",
      "True       12\n",
      "Name: count, dtype: int64\n",
      "no_follow\n",
      "False    1728\n",
      "True      177\n",
      "Name: count, dtype: int64\n"
     ]
    }
   ],
   "source": [
    "print(history[column].value_counts())\n",
    "print(alternative_history[column].value_counts())"
   ]
  },
  {
   "cell_type": "markdown",
   "id": "e7748e6c-7965-4458-955f-f77ad19a2858",
   "metadata": {},
   "source": [
    "Given this is a nominal feature and all categories are present in both datasets, we keep it."
   ]
  },
  {
   "cell_type": "markdown",
   "id": "9eff01a1-9129-4fd8-b9ff-11fd57d97543",
   "metadata": {
    "jp-MarkdownHeadingCollapsed": true
   },
   "source": [
    "### `over_18`"
   ]
  },
  {
   "cell_type": "code",
   "execution_count": 38,
   "id": "987243cc-dabf-434a-90e8-09ee630ed8a7",
   "metadata": {
    "scrolled": true
   },
   "outputs": [
    {
     "name": "stdout",
     "output_type": "stream",
     "text": [
      "[False  True]\n",
      "[False  True]\n"
     ]
    }
   ],
   "source": [
    "column = \"over_18\"\n",
    "print(history[column].unique())\n",
    "print(alternative_history[column].unique())"
   ]
  },
  {
   "cell_type": "code",
   "execution_count": 39,
   "id": "a63d4c93-78e7-40d4-b138-0b7c9c6a7407",
   "metadata": {},
   "outputs": [
    {
     "name": "stdout",
     "output_type": "stream",
     "text": [
      "over_18\n",
      "False    1928\n",
      "True        7\n",
      "Name: count, dtype: int64\n",
      "over_18\n",
      "False    1900\n",
      "True        5\n",
      "Name: count, dtype: int64\n"
     ]
    }
   ],
   "source": [
    "print(history[column].value_counts())\n",
    "print(alternative_history[column].value_counts())"
   ]
  },
  {
   "cell_type": "markdown",
   "id": "d83ef1dc-63dc-40b4-be67-c09328dfc2d5",
   "metadata": {},
   "source": [
    "This is a nominal feature and all categories are present in both datasets. However, we drop it because almost 100% of posts are not spoilers."
   ]
  },
  {
   "cell_type": "markdown",
   "id": "68eca101-49a6-4a4f-b0b3-d59aa515c18e",
   "metadata": {
    "jp-MarkdownHeadingCollapsed": true
   },
   "source": [
    "### `spoiler`"
   ]
  },
  {
   "cell_type": "code",
   "execution_count": 40,
   "id": "5b9aad02-79d6-44df-a9f8-18d5f782a493",
   "metadata": {
    "scrolled": true
   },
   "outputs": [
    {
     "name": "stdout",
     "output_type": "stream",
     "text": [
      "[False  True]\n",
      "[False  True]\n"
     ]
    }
   ],
   "source": [
    "column = \"spoiler\"\n",
    "print(history[column].unique())\n",
    "print(alternative_history[column].unique())"
   ]
  },
  {
   "cell_type": "code",
   "execution_count": 41,
   "id": "8289fa5e-50ad-46ce-9ef4-482229535697",
   "metadata": {},
   "outputs": [
    {
     "name": "stdout",
     "output_type": "stream",
     "text": [
      "spoiler\n",
      "False    1934\n",
      "True        1\n",
      "Name: count, dtype: int64\n",
      "spoiler\n",
      "False    1903\n",
      "True        2\n",
      "Name: count, dtype: int64\n"
     ]
    }
   ],
   "source": [
    "print(history[column].value_counts())\n",
    "print(alternative_history[column].value_counts())"
   ]
  },
  {
   "cell_type": "markdown",
   "id": "6a7ca1c3-e790-4f9a-9f6f-6bfde89dc6e0",
   "metadata": {},
   "source": [
    "This is a nominal feature and all categories are present in both datasets. However, we drop it because almost 100% of posts are not spoilers."
   ]
  },
  {
   "cell_type": "markdown",
   "id": "9425e72d-1e78-4a0f-bdf6-dacd70fdbac3",
   "metadata": {
    "jp-MarkdownHeadingCollapsed": true
   },
   "source": [
    "### `locked`"
   ]
  },
  {
   "cell_type": "code",
   "execution_count": 42,
   "id": "d0186f1e-da8c-4c78-a0dd-76154691da70",
   "metadata": {
    "scrolled": true
   },
   "outputs": [
    {
     "name": "stdout",
     "output_type": "stream",
     "text": [
      "[False  True]\n",
      "[False  True]\n"
     ]
    }
   ],
   "source": [
    "column = \"locked\"\n",
    "print(history[column].unique())\n",
    "print(alternative_history[column].unique())"
   ]
  },
  {
   "cell_type": "code",
   "execution_count": 43,
   "id": "d86fd5e0-9480-4713-a98e-8144d57b3fa3",
   "metadata": {},
   "outputs": [
    {
     "name": "stdout",
     "output_type": "stream",
     "text": [
      "locked\n",
      "False    1746\n",
      "True      189\n",
      "Name: count, dtype: int64\n",
      "locked\n",
      "False    1892\n",
      "True       13\n",
      "Name: count, dtype: int64\n"
     ]
    }
   ],
   "source": [
    "print(history[column].value_counts())\n",
    "print(alternative_history[column].value_counts())"
   ]
  },
  {
   "cell_type": "markdown",
   "id": "cb74506c-7467-412d-8747-64bd73803fde",
   "metadata": {},
   "source": [
    "Given this is a nominal feature and all categories are present in both datasets, we keep it."
   ]
  },
  {
   "cell_type": "markdown",
   "id": "366f2541-4e92-4b2e-bba6-24ba7a98ae56",
   "metadata": {
    "jp-MarkdownHeadingCollapsed": true
   },
   "source": [
    "### `distinguished`"
   ]
  },
  {
   "cell_type": "code",
   "execution_count": 44,
   "id": "474fa065-17b5-4087-90cf-155c882dfa7f",
   "metadata": {
    "scrolled": true
   },
   "outputs": [
    {
     "name": "stdout",
     "output_type": "stream",
     "text": [
      "[nan 'moderator']\n",
      "[nan 'moderator']\n"
     ]
    }
   ],
   "source": [
    "column = \"distinguished\"\n",
    "print(history[column].unique())\n",
    "print(alternative_history[column].unique())"
   ]
  },
  {
   "cell_type": "code",
   "execution_count": 45,
   "id": "9480e674-ff0a-400c-af1e-a26948779c62",
   "metadata": {},
   "outputs": [
    {
     "name": "stdout",
     "output_type": "stream",
     "text": [
      "distinguished\n",
      "moderator    15\n",
      "Name: count, dtype: int64\n",
      "distinguished\n",
      "moderator    1\n",
      "Name: count, dtype: int64\n"
     ]
    }
   ],
   "source": [
    "print(history[column].value_counts())\n",
    "print(alternative_history[column].value_counts())"
   ]
  },
  {
   "cell_type": "markdown",
   "id": "534e7cb2-27d6-4450-97d1-3801a59939b6",
   "metadata": {},
   "source": [
    "This is a nominal feature and all categories are present in both datasets. However, we drop it because almost 100% of posts are not from moderators."
   ]
  },
  {
   "cell_type": "markdown",
   "id": "2df4615b-0ed8-414b-9e00-ed84f5c26fb1",
   "metadata": {
    "jp-MarkdownHeadingCollapsed": true
   },
   "source": [
    "### `author`"
   ]
  },
  {
   "cell_type": "code",
   "execution_count": 46,
   "id": "37d793b0-a415-4fdd-8fca-6ef54a6e26ab",
   "metadata": {
    "scrolled": true
   },
   "outputs": [
    {
     "name": "stdout",
     "output_type": "stream",
     "text": [
      "['ByzantineBasileus' nan 'windigo9' 'Nurgleschampion'\n",
      " 'Extra_Mechanic_2750' 'jamboamericano' 'flobota' 'LifeOfTheUnparty'\n",
      " 'AutoModerator' 'lalablahblahhaha' 'Justwonderingwhyitis'\n",
      " 'TheBitcoinShill' 'hanburgundy' 'marketrent' 'Welshhoppo' 'dominiquec'\n",
      " 'CardiffUni' 'Gurdy0714' 'shotgunsmitty' 'MusicStanMan' 'JDHoare'\n",
      " 'kdawg_thetruth' 'empalmerro' 'wildeastmofo' 'drinkin_an_stinkin'\n",
      " 'Prime-Factor' 'QUILTBAGs' 'Agmm-cr' 'AnCanadianHistorian' 'grepnork'\n",
      " 'Jariiari7' 'Illustrious_Tutor441' 'Commander_Hannibal' 'PooTeeWeet5'\n",
      " 'Hiversitize' 'cdnhistorystudent' 'BarKnight' 'Tartan_Samurai'\n",
      " 'paxinfernum' 'AirSky_MC' 'Aryionas' 'FillsYourNiche' 'darrenjyc'\n",
      " 'Canuhere' 'Gavertamer_' 'Georgy_K_Zhukov' 'eorld' 'InvisibleLemons'\n",
      " 'ArtOak' 'disse_' 'frostsid' 'chubachus' 'MeatballDom' 'suntzu124'\n",
      " 'silveryfeather208' 'bak3n3ko' 'vwarb' 'Telecom_VoIP_Fan' 'TainanBoy'\n",
      " 'detroitbadboy2' 'Diazepam' 'Fun-Engineering761' 'hod_cement_edifices'\n",
      " 'Demderdemden' 'dittybopper_05H' 'goodoneforyou' 'franticfrenetic2'\n",
      " 'KeyAward3' 'Molire' 'Hero_Doses' 'cargo_run_rust' 'Mictlantecuhtli'\n",
      " 'David_Lo_Pan007' 'Rifletree' 'KerberosPanzerCop' 'ImportantReaction260'\n",
      " 'drock45' 'marquis_of_chaos' 'Medical_Officer' 'Crusaders1992' 'Xeluc'\n",
      " 'AugustWolf22' 'Magister_Xehanort' 'TwistedSandle' 'tempranov'\n",
      " 'egg_static5' 'IvyGold' 'Battle4Seattle' 'redbitumen'\n",
      " 'shrimplypibbles20932' 'WIwindson' 'Aboveground_Plush' 'mycarisorange'\n",
      " 'lipoczy' 'SirNoodlehe' 'Hot-Expression3441' 'Novel_Finger2370'\n",
      " 'Convenience21' 'whangadude' 'danishistorian' 'omri1526' 'GullyShotta'\n",
      " 'Hstrat' 'illadave' 'Surprise_Institoris' 'RedditIsFascinating'\n",
      " 'JoeParkerDrugSeller' 'bballissick' 'SilentWalrus92' 'DifficultAd7382'\n",
      " 'hhyyerr' 'Cyrusthegreat18' 'creesch' 'LeeBoi94' 'unheated1' 'sk941'\n",
      " 'AugustWolf-22' 'That-Situation-4262' 'Passervore' 'spark8000'\n",
      " 'SirAceBear' 'mza420' 'KeriEPearson' 'dawonn' 'Fieri2016'\n",
      " 'Gurney_Halleck_' 'Galileos_grandson' 'shyleader' 'Cozret' 'AnguisMors'\n",
      " 'Philipp_Dase' 'Pizza_Monger' 'TheColorOfDeadMen' 'ThatOneDudeFromIowa'\n",
      " 'SanguiNations' 'overload1525' 'mikepetroff' 'solarflare64' 'StarFuryG7'\n",
      " 'HouseOfYass' 'Capten_G' 'readwiteandblu' 'GriffonsChainsaw' 'couentine'\n",
      " 'Powerful_Bathroom915' 'Culturedecanted' 'BurstYourBubbles' 'Riptor5417'\n",
      " 'ctyates' 'Character-Ad8382' 'wrath_of_grunge' 'tta2013' 'Free_Swimming'\n",
      " 'Kyle-Is-My-Name' 'mrhouse95' 'LockeProposal' 'StephenFalkenPhD' 'lct200'\n",
      " 'Vio_' 'Kethlak' 'nwidis' 'Quouar' 'thebigeverybody' 'UnusualAd7417'\n",
      " 'Novel_Idea' 'newjab' 'youbenchbro' 'TheOriginalCMac' 'droyster'\n",
      " 'Texas_Rockets' 'AChubbyCalledKLove' 'tnick771' 'Buffalo_wander'\n",
      " 'Geek-Haven888' 'LackFundsPleaseHelp' 'WuTangIsrael' 'Programatician'\n",
      " 'nfre' 'aceraspire8920' 'bepseh' 'harryyy7' 'Sinbad_Lot7s' 'ilay-'\n",
      " 'Enheduannas' 'rzwart' 'Mike_ZzZzZ' 'Rear-gunner' 'Weywoht' 'Huxxo'\n",
      " 'Awkward-Action2853' 'nationalgeographic' 'Maxwellsdemon17' 'leposava'\n",
      " 'Nuclearfacemelt' 'MrShineTheDiamond' 'Mevakel' 'endmoor' 'Carhart7'\n",
      " 'No_Name_Is_Left' 'demonofsarila' '-introuble2' 'JesseBricks'\n",
      " 'OptimalCrew7992' 'Jacksonteague' 'Rustofcarcosa' 'SpookyFarts'\n",
      " 'EricFromOuterSpace' 'porkchop_d_clown' 'Zised' 'PhiliDips' 'Orpreia2'\n",
      " 'kyno1' 'thebruno12' 'Visual_Side_312' 'KibboKift' 'adhmrb321'\n",
      " 'Urban-Nomad' 'Karvier' 'thatlegendjpb' 'cubpride17' 'MooseFandango'\n",
      " 'TEMPLERTV' 'craigdahlke' 'fullersam' 'creemetismami' 'Seiko007'\n",
      " 'Shjoddy' 'Ratatoskr_' 'izzwizzwoo' 'mxzr86' 'davidreiss666'\n",
      " 'Machiavelli1480' 'rafico25' 'STNP' 'AntibacterialEast' 'loups'\n",
      " 'Generaphic' 'MarshmellowNinja' 'joefurry' 'ploploplo' 'pipsdontsqueak'\n",
      " 'Typical_Viking' 'sunwinegirl' 'exloser' 'peterlikesthis' 'NerdyNae'\n",
      " 'spaceghoti' 'cleopatra_philopater' 'FalseNihilist'\n",
      " 'Educational_Sector98' 'anthropology_nerd' 'FoxyMoxi' 'The_sun_comes_up'\n",
      " 'Facius_Cardan' 'omnipresent_sailfish' 'xxzzyzzyxx' 'Zee2A'\n",
      " '5_Frog_Margin' 'jaka018' 'EquivalentSphere' 'waynetogo' 'woody313'\n",
      " 'ParliamentOfRookies' 'DrPantaleon' 'ethanfez45' 'VanHawk81'\n",
      " 'longshot24fps' 'el870715' 'iOS_Android_Beat_Win' 'spinaltap540' 'pgm123'\n",
      " 'Silent_Jager' 'Particular-Second-84' 'Messianiclegacy' 'chrstianelson'\n",
      " 'DrBillyHarford' 'sumocomputers' 'TupacSchwartzODoyle' 'hvacguy525'\n",
      " 'drak0bsidian' 'Mer-fishy' 'aldotcom' 'OdysseusofIthaca1174'\n",
      " 'Uncle_Price' 'nemo_to_zero' 'Mrk2d' 'meme_stealing_bandit'\n",
      " 'RainbowFanatic' 'Nemacolin' 'Illuminated_Squirtle' 'madrid987'\n",
      " 'Darnok15' 'stratohornet' 'pier4r' 'madcowga' 'arselona' 'rishcast'\n",
      " 'Sanlear' 'haberveriyo' 'zhuquanzhong' 'nasa' 'Drabbestplayer'\n",
      " 'whenthethingscollide' 'bema_adytum' 'Joke-Fast' 'Olympus___Mons'\n",
      " 'Alex09464367' 'Toaster_79' 'The_Danish_Dane' 'fahd2626' 'mattpiv'\n",
      " 'washingtonpost' 'Bergwein' 'PIGFOOF' 'OniAndy2' 'greghw2' 'marc-kd'\n",
      " 'Julia_G_Martins' 'Accomplished_Bar_96' 'chivestheconquerer' 'Caedus'\n",
      " 'entropy0x0' 'MontanaIsabella' 'Jackster227' 'its__alright' 'Kaizerio'\n",
      " 'EconHacker' 'gobrowns1' 'authentic010' 'katiem50' '187Shotta'\n",
      " 'KingShitFuckMountain' 'Renderclippur' 'LemonTechnician' 'jham1022'\n",
      " 'Dr_Zhivago6' 'Original-SEN' 'bmckinleywv' 'swissnationalmuseum'\n",
      " 'SCHEME015' 'JayStoner420' 'Zealousideal-Sun-387' 'Advenwor'\n",
      " 'DisabledCantaloupe' 'Billybobbojack' 'relightit' 'CREST_BD' 'qtx'\n",
      " 'MejaTheVelociraptor' 'random_digital' 'akskigirl' 'Gcflames' 'anutensil'\n",
      " 'fchung' 'altmorty' 'wenchette' 'Dufils' 'ProteusFinnerty' 'MarioZagreb'\n",
      " 'Sauerteig' 'frasiera' 'mossikan' 'Matthew212' 'pixeldorff' 'Cooker_32'\n",
      " 'thismansmagic' '-Pipe_dreamer-' 'TH3G0DF47H3R' 'theCroc' 'TotalFC'\n",
      " 'NotTRYINGtobeLame' 'PantySniffers' 'ExileInCle19' 'greatscott20'\n",
      " 'MarcusScythiae' 'janjinx' 'NomadityStudio' 'astrath' 'bothrops'\n",
      " 'bearswarm' 'No_Road7230' 'Cransrax' 'ballistic-bitflip' 'lemontolha'\n",
      " 'ObadiahTheEmperor' 'MrDNL' 'LegendofWeevil17' 'wisestassintheland'\n",
      " 'pmp22' 'ullnvrguess' 'Ainsley-Sorsby' 'SolutionsCBT' 'God_Wills_It_'\n",
      " 'raptorman556' 'Jonaathann' 'readet' 'Beyond_Amsterdam' 'vulcan_on_earth'\n",
      " 'IwearOLDMANsweaters' 'CDfm' 'TapiocaTuesday' 'thisisinsider' 'ptupper'\n",
      " 'fake_zack' 'junius_' 'jmaxmiller' 'Intranetusa' 'thereasonyousuffer'\n",
      " 'MedicalCabinet7879' 'Profanion' 'CryptoPeacock' 'johnnylines' 'QtotheM'\n",
      " 'IndigenousJustice23' 'nalpas' 'bfloblizzard' 'findwyer' 'lanson15'\n",
      " 'Felix_Sonderkammer' 'Fire_Break_158' 'papoose76' 'Zeekawla99ii'\n",
      " 'FreedomDesigner' 'IslandChillin' 'TransMississippian' 'LinkyDink69'\n",
      " 'hhhhhab' 'og_sandiego' 'NativeEuropeas' 'ChariotOfFire' 'VanSpade'\n",
      " 'SneakySniper456' 'mileslfc7' 'Zeroshame14' 'finalfinial' 'Bluehorsesho3'\n",
      " 'yourbasicgeek' 'PM_YOUR_BAKING_PICS' 'Brattonismybae' 'Douxaire'\n",
      " 'simmocar' 'Gustomaximus' 'R390452' 'JormaKrebs' 'Rob-Study-8562'\n",
      " 'H-H-H-H-H-H' 'Blue-Soldier' 'UCBerkeley' 'HeThicc' 'Cairo126'\n",
      " 'nloramartinez' 'Pablogelo' 'oldspice75' 'SpooneyToe11240'\n",
      " 'Apprehensive-Ad6212' 'Bathysmal10' 'strawbaeri' 'badnewsmaracas'\n",
      " 'kayGrim' 'Vico1730' 'ScottEAuthor' 'thenewyorktimes' 'Twoafros'\n",
      " 'MrBowls' 'InsobrietiveMagic' 'SintagmaNominalMan' 'Double_Round_8103'\n",
      " 'BreezyEpicface' 'Jumpy_Kick' 'wisi_eu' 'NotUrDadiBlameUrMoma'\n",
      " 'MJSchooley' 'Stake1009' 'Breab1' 'iamWash' 'fussnik' 'JudgeAwayBitches'\n",
      " 'PerpetualWinter' 'Richard2468' 'Xingua92' 'ernyc3777' 'LotusCobra'\n",
      " 'spiralringnotebooks' '_THX_1138_' 'eigenvectorseven' '-Mothman_'\n",
      " 'dontfollowthesheeple' 'gyffindor' 'Red4141' 'TravellingBeard'\n",
      " 'blonderengel' 'AshleyDGray' 'foxorfaux' 'Stiggystummel' 'kevlarbuns'\n",
      " 'louis11' 'ChrisOntario' 'doofgeek401' 'Dlatrex' 'Sabrejimmy' 'dooloo'\n",
      " 'jlaycock' 'jalapenomunich' 'oooRagnellooo' 'IndyNeidell'\n",
      " 'sedentary_position' 'videki_man' 'anotherlost-one' 'Leftlightreftright'\n",
      " 'woweed' 'jimintoronto' 'alChemist_07' 'TheKFiles' 'BlGRockCandyMountain'\n",
      " 'andiforget' 'live_resin_rooster' 'Jerommeke66' 'ChelseaSchreiber'\n",
      " 'somnum_osseus' 'workedmisty' 'Dreamday17' 'weezleweez' 'Wastelander108'\n",
      " 'smokesmagoats' 'MTabarrok' 'i-like-learning' 'EasternBlitz'\n",
      " 'MrMiddledoor' 'llordlloyd' 'TonyQuark' 'Ebadd' 'InTerraVeritas'\n",
      " 'ILikeNeurons' 'TolkienFansMod' 'movedback' 'BlankVerse'\n",
      " 'spacebardidntwork' 'kingofkartli' 'wishywashy9101' 'teaperson' 'Sewblon'\n",
      " 'Neutral_Fellow' 'Skookum_J' 'maoiguy' 'Janiththa' 'jetRink' '_Ilker'\n",
      " 'Buffythevapingslayer' 'tom2091' 'Surrendernuts' 'ShortysTRM'\n",
      " 'FirmWerewolf1216' 'hellfire_kit' 'orihh' 'Grfen911' 'eleemosynary'\n",
      " 'rataface' 'I-Make-Maps91' 'RickSanchezIII' 'Tomahawkin95'\n",
      " 'PenisBeautyCream' 'ajed9037' 'AlchemistEdward' 'sheldonator' 'Udzu'\n",
      " 'arcowank' 'thatsocrates' 'HistoryMarche' 'optingforalalalaland'\n",
      " 'ThePenningtonLens' 'nedjer1' 'fishnetdiver' 'whyenn' 'Mrsrhea'\n",
      " 'SpuriusKenyon' 'collid-o-scope' 'CactusBoyScout' 'recessbadger45'\n",
      " 'LemonMobster' 'Bin_Jin' 'lonelady75' 'gbake13' 'creedofwheat'\n",
      " 'pass-the-butter' 'melm00se' 'TK622' 'Devmax1868' 'DonCaliente'\n",
      " 'wordslikethither' 'jonnyah' 'PM_ME_YOUR_BUTTplz' 'fauxRealzy'\n",
      " 'MonarchistParty' 'Elzelreth' 'Fevercrumb1848' 'Perseus73'\n",
      " 'CrakAndJaxter' 'Direct_Solution_2590' 'Mike_Duncan' 'bostonstrong781'\n",
      " 'a_sentient_potatooo' 'Kotruljevic1458' 'MrAlexander18' 'rich97'\n",
      " 'jimmc414' 'arjitraj_' 'Nuka-Cola97' 'udupa82' 'anon6702'\n",
      " 'Professional_Bite725' 'aditulaudis' 'geos59' 'dreamsforsale'\n",
      " '24kocylinder' 'Epyx911' 'alternateaccountZ' 'Lordvoldecourt' 'Turbohair'\n",
      " 'GoldenSpaghettiHoop' 'compromiseisfutile' 'hallodarkguitar'\n",
      " '_SteeringWheel' 'PreviousCoast2' 'TheIrishCrumpet'\n",
      " 'Affectionate_Run_799' 'GoCardinal07' 'UndercutRapunzel'\n",
      " 'Blueberryknight' 'UnholyDemigod' 'DrogDrill' 'aokaga' 'AngelaMotorman'\n",
      " 'Snarblox' 'SAT0725' 'UsAsani' 'clayt6' 'YUNGBRICCNOLACCIN' 'Zeewulfeh'\n",
      " 'ReadIndividual5241' 'Govika' 'sylvyrfyre' 'LikesBlake' 'VoloNoscere'\n",
      " 'carrierfive' 'CantoLog' 'PalindromicUsername' 'subsonico' 'EnergyBus'\n",
      " 'Confusum' 'baroqueen1755' 'a010101' 'LockStockNL' 'MichaelMoniker'\n",
      " 'chutneyglazefan' 'Zampierre_Br' 'International_Bee653' 'andreysolovev'\n",
      " 'Kryssmus' 'AnAspidistra' 'thinkB4WeSpeak' 'throwitawaybhai'\n",
      " 'zedudedaniel' 'eeeking' 'Super-Election8409' '_Muckle' 'Sulde'\n",
      " 'hlltp_chevalier' 'joshshepperd' 'Krdth' 'making_mischief'\n",
      " 'ShortTermPlans' 'bellybuttonmykol98' 'FerdinandTheGiant' 'falafel4220'\n",
      " 'ClosingDownSummer' 'MaccabiOMavet' 'williamb100' 'rytis'\n",
      " 'Yazan_Research' 'kratos2025' 'Petrobyas' 'DrTralfamador541'\n",
      " 'sustentabletech' 'hlake' 'RabbleLowder' 'Karawahn' 'MegavirusOfDoom'\n",
      " 'jspenc12' 'DoctorNose' 'owlpolka' 'NordyNed' 'Madbrad200'\n",
      " 'mithril_mayhem' 'ckinealy' 'Chiththarthan' 'GuyTriesInternet' 'RaiiDzz'\n",
      " 'XxxKillerxxxxx3' 'ghunt81' 'Chad_the_Bad1357' 'maxitobonito'\n",
      " 'Capital-Monk-6503' 'Snowmittromney' 'timeforknowledge' 'MardyBastard'\n",
      " 'chamaelleon' 'Roselunaryie38' 'sissyphus___' 'halfbloodfool' 'landdon'\n",
      " 'news_doge' 'reliable_information' 'here_for_some_tea' 'dmanbiker'\n",
      " 'globehater' 'deputy_doo_doo' 'Kollegi12' 'jawhitz' 'OrigamiTrash'\n",
      " 'towandatexan' 'Notprestigiousfoot' '502louisville' 'Mediocre_Heart_3032'\n",
      " 'puckerfactoralpha' 'Davin900' 'agreea' 'MasterOfNap' 'mells4956'\n",
      " 'ykickamoocow111' 'behjeh' 'SerkTheJerk' 'Irohscar' 'Zzyzzy_Zzyzzyson'\n",
      " 'SirajZafar00' 'BubsyFanboy' 'thesquarerootof1' 'thenervouslistener'\n",
      " 'gottaherd' 'EEdwardNigma' 'Bali4n' 'tokeywookie' 'roybz99' 'KSPReptile'\n",
      " 'BalticsFox' 'dsanzone8' 'Chipdoc' 'Sherlupin' 'TastyStructure' 'NMW'\n",
      " 'GonzoVeritas' 'vitruv' 'ClockworkEyes' 'NoConnections' 'AnivaBay'\n",
      " 'supman0' 'ayazfarooque' 'seedycharacter' 'Benjiven' 'Woogle'\n",
      " 'IPostSwords' 'BarakudaB' 'candidateHundred' 'exlarson' 'ZumoDeApple'\n",
      " 'TheOneWhoKnoxs' 'Elissa_of_Carthage' 'Greedy-Mistake-5154' '49Gold'\n",
      " 'domthedumb' 'TRHess' 'flocraig' 'Chimpwick' 'AsparagusSuch2154'\n",
      " 'LeMonde_en' 'the_mit_press' 'B0ssc0' 'triviafrenzy' 'PhillipCrawfordJr'\n",
      " 'Alantha' 'TheGreatNargacuga' 'Corgi214' 'ElumenoPee' 'fevredream'\n",
      " 'SiteTall' 'teamworldunity' 'monis6344' 'MeNameSRB' 'ghostofpennwast'\n",
      " 'Liutasiun' 'ChestOfWheat' 'ShubhamBadal' 'ffoboomstick' 'philthehippy'\n",
      " 'ELPOEPETIHWKCUFEYA' 'Intvis' 'JohnWilliamStrutt' 'Denten'\n",
      " 'TotallyBullshiting' 'ceristo' 'Funtimessubs' 'bcatrek'\n",
      " 'TheWallBreakers2017' 'MonoLoupe' 'vitt72' 'HalfCutJones' 'royaleadvisor'\n",
      " 'ergotpoisoning' 'yonkon' 'Tiako' 'R0GERTHEALIEN' 'ABitChewie'\n",
      " 'FowelBallz' 'Aiseadai' 'ledim35' 'arnedh' 'unfriendlyskies'\n",
      " 'Thepeterborian' 'SofiaGold' 'kashluk' 'ribby420' 'drewhunter1981'\n",
      " 'Crk416' 'elinordash' 'boxer_dogs_dance' 'Lighting' 'Soupy_Soup'\n",
      " 'Tesg9029' 'cwk415' 'SpecificRedditName' 'rikerion' 'photojacker'\n",
      " 'DrJCFord' 'Nachtschrecken12' 'Books_Of_Jeremiah' 'mikedub9er'\n",
      " 'GiantRobotAttack' 'deadsite22' 'jhartley2016' 'spaceman425'\n",
      " 'rainbowarriorhere' 'Dreadsin' 'Superb_Boss289' 'apocalypse_later_'\n",
      " 'Maxcactus' 'kochikame' 'AllHailTheWinslow' 'InsecureDuelist'\n",
      " 'vibraniumchancla' 'Matthew1J' 'Shamic' 'lowsodiummonkey'\n",
      " 'Left-Plant2717' 'princetonwu' 'likeitmagic' 'DarrylSnozzberry'\n",
      " 'indieGenies' 'mulberryocean' 'mhkwar56' 'IAmRotagilla' 'SnooMaps5911'\n",
      " 'Grudge_' 'PullThisFinger' 'Eagle4523' 'Jack1715' 'asoka_maurya'\n",
      " 'Hey-Prague' 'Bloomsey' 'wsj' 'OwnProfessor4785' 'ImKnotVaryCreative'\n",
      " 'LeighSF' 'jpbragatti' 'iaxeuanswerme' 'pinoyathletics' 'grumd'\n",
      " 'Dhghomon' 'mickelkes13' 'KindaSortaSuccinct' 'PostapocCelt' 'Barffff97'\n",
      " 'Crunkbutter' 'Accidentally_Upvotes' 'Arcmyst' 'TheBurningEmu'\n",
      " 'johntentaquake' 'AVC095' 'stickypad1' 'Sikkersoq' 'podaerprime'\n",
      " 'AhbarjietMalta' 'historymodbot' 'Rit832144' 'Jon_Snow_51'\n",
      " 'GreatBritishPounds' 'Unibrow69' 'The_Sun_Serpent' 'No_Prompt6454'\n",
      " 'spelling_ok' 'schizm98' 'JMA_ZF' 'I_saw_Will_smacking' 'jacamacho'\n",
      " 'Falsh12' 'Worldly-Talk-7978' 'Outrageous-Ad-9019' 'Double-Fun-1526'\n",
      " 'deaner45' 'mazsa' 'dengorilla1' 'BobbyCock' 'Dollarist' 'zkinny'\n",
      " 'Wsofii004W' 'osaba_mozkorra' 'monet_420' 'ninjatune' 'ashbyashbyashby'\n",
      " 'What_A_Idiot' 'dto7v3' 'kayabutter' 'roffler' 'Educational_Copy_140']\n",
      "['ZicarxTheGreat' 'Garbettron' 'Putin_loves_cats' 'SnailProphet'\n",
      " 'irrelevantappelation' 'LadyZoidberg' 'WatchersTalk1' 'tr3k'\n",
      " 'abusinessnoob' 'MedicineLanky9622' 'jamesofthedrum'\n",
      " 'Numerous-Sherbert838' '-Cheebus-' nan 'Myztic-Seeker' 'FreedomBoners'\n",
      " '-PumpKyn-' '_-Moya-_' 'watermelon-club' 'Frankiboi1'\n",
      " 'YardAccomplished5952' 'rnagy2346' 'Keywhole' 'itokolover' 'Teth_1963'\n",
      " 'maylam018' 'OddityHive' 'According_Try_9843' 'smurfin101'\n",
      " 'ancientobsession' 'ManBrearPigIsReal' 'Ok-Signal4744'\n",
      " 'MartianXAshATwelve' 'ayezek67' 'sandywenzel' 'quetzalcosiris'\n",
      " '12TribesQuest' 'Adventurous-Ear9433' 'nice_mushroom1' 'gringoswag20'\n",
      " 'maxy_werner' 'Unlikely_Relation656' 'Cholovaquero661'\n",
      " 'UnifiedQuantumField' 'redandgreencowboy' 'CrushMyCamel' 'JointLevi'\n",
      " 'patrixxxx' 'Express_Librarian538' 'Anonymouse207212' 'ViG701'\n",
      " 'samwong01' '99Tinpot' 'Expert-Afternoon-501' 'haberveriyo'\n",
      " 'WastedTimeForCharlie' 'INCREDHISTORY' 'Vib_ration'\n",
      " 'AdGroundbreaking1870' 'AsleepExtreme9594' 'Chinggis_H_Christ' 'Gatadat'\n",
      " 'Wonderful_Radish793' 'Oh-TheHumanity' 'ehomer0815' 'yk3344vc'\n",
      " 'Lord_Sports' 'Dapper_Dillinger' 'Theagenes1' 'juliandorey'\n",
      " 'AsianSpicePotpourri' 'GM-OK' 'trebeck_x' 'cammyboom' 'dr3adlock'\n",
      " 'SpaceBrigadeVHS' 'FeynmansRazor' '12TribesUnite' 'pergatorystory'\n",
      " 'team-spartans' 'hashslingingsasher' 'Richard_archeologist'\n",
      " 'DetectiveFork' 'CopperViolette' 'Modern_Explorer' 'FactCheckYou'\n",
      " 'WuDangIsrael' 'imaginelol69' 'Math_denier' '1memeskeet' 'AppalachianUFO'\n",
      " 'Dmans99' 'bananarepublic2021_' 'icalistus' 'Capon3' '5jsj'\n",
      " 'whyisamibutandstuff' 'Disastrous-Crow-1634' 'Familiar_Ad_4885'\n",
      " 'mrcalebjones' 'weaponizedinsights' 'ylmzzge' 'JoeMegalith' 'B_Rush'\n",
      " 'GlitchyGurl' 'rafikievergreen' 'jrockton' 'Weak_Fig8925' 'crnygora'\n",
      " 'olddru' 'Yappanagony' 'fragenkostetn1chts' 'Personal-Use-7321'\n",
      " 'Broderick211' 'Waymar_Royce' 'nygdan' 'MFNDevil' 'Sanetosane'\n",
      " 'ImEshkacheich' 'astralrocker2001' 'Pajama_Man_42' 'Mundo_Enigma-5313'\n",
      " 'MaNoitLing' 'gerkletoss' 'theswervepodcast' 'NectarineDue8903'\n",
      " 'Gengarmon_0413' 'twiztramam' 'Mike_n_Maurice' 'Altruism7'\n",
      " 'Entire_Brother2257' 'OhTuni' 'Mattau93' 'cretincreatures' 'Lumpy-Ad8824'\n",
      " 'IllAcanthopterygii19' 'distraingotnobrakes' 'Fisherman386' '1roOt'\n",
      " 'Unable-Hunter-9384' 'Dazzling_Obsidian' 'MDK___' 'ConsciousRun6137'\n",
      " 'itloggedmeoutofzid' 'TFS_YT' 'matt2001' 'wally1974'\n",
      " 'Revolutionary_Elk345' 'ApricotPractical9244' 'Eder_Cheddar'\n",
      " 'LarryWord33' 'National_Direction_1' 'potted' 'wonderlarma'\n",
      " 'WanderingWolf-Travel' 'cosmiccraphounder' 'Existential_Psych'\n",
      " 'Accomplished_Swan505' 'Feeling-Department14' 'Gates9' 'mcotter12'\n",
      " 'Ascarpino96' 'LewiRock' 'SnowballtheSage' 'JacobSpitzack_Author'\n",
      " 'BeforeOrion' 'brodytothemax' 'Diengine' '6downunder9' 'BrightInsight'\n",
      " 'Jest_Kidding420' 'bearcat_77' 'Flat_Confusion7177' 'Nicat_95'\n",
      " 'MasculineGoldenMan2' 'NewOldResearch' 'ingloriousbastard85' 'Mar-wuan'\n",
      " 'ModifiedGas' '1bir' 'gateparagate' 'tool-94' 'scribbyshollow'\n",
      " 'MarinoMani' 'weareIF' 'henyweed' 'ephemeralbear' 'Conspiranut' 'Maasauu'\n",
      " 'chazmosaur' 'MemoryTrap' 'Upset-Adeptness-6796' 'D_bake' 'bossmanA'\n",
      " 'tonirakihara' 'TemplarTV' 'ligdk' 'Capable_Share_7257' '6SPACE4GOD7'\n",
      " 'Oekcmmckk' 'EstablishmentOne2459' 'lionsoftorah' 'ChangeToday222'\n",
      " 'Sand-Witch111' 'Ragecommie' 'Anyextee' 'twoscoops4america'\n",
      " 'Few-Try-2056' 'Astrowizard7' 'ireallyhateturtles' '_trump_isnt_that_bad'\n",
      " 'LukeCaverns_' 'OB1_kenobi' 'exstaticj' 'alphaquail10' 'pawkorozrabiaka'\n",
      " 'meerkle' 'rupertthecactus' 'Careful_Elephant_488' 'TheCrowMoon'\n",
      " 'CaunArachas' 'NewMexicanTwilight' 'pavlokandyba' 'Wise_Reaction3281'\n",
      " 'ItsHellBoy' 'ARTofDiNoandDART' 'MoneyMan824' 'WillingLanguage'\n",
      " 'VisibleSplit1401' 'G-man200281' 's0nder369thOughts' 'HiddenAmuraKa369'\n",
      " 'MPCourvilleA' 'archaeologylife' 'psychoticshroomboi' 'Gareth7015'\n",
      " 'No_Bag5346' 'JaladinTanagra' 'littlespacemochi' 'The_Cultured_Jinni'\n",
      " 'Unique-Estimate-5081' 'ColinVoyager' 'jophy98' 'Joe-Ferriss'\n",
      " 'NarcoticSlug' 'MehrKnowsItAll' 'Old-Entertainment-19' 'blan442'\n",
      " 'RickGrimes13' 'Redshift_1' 'brats699' 'siredwardh' 'Kremgest10'\n",
      " '11ForeverAlone11' 'John_Dark33' 'No-Acanthaceae-6707' 'Drewbus'\n",
      " 'Valuable_Disaster_60' 'Library_of_Gnosis' 'LoganXx360xX' 'NippinRoger'\n",
      " 'No_Pea326' 'Mythical-Rose' 'cs_legend_93' 'LetsHackReality' 'Fossana'\n",
      " 'GizanimTipshimKulam' 'fiverrah' 'dammitichanged-again' 'Megalith_aya'\n",
      " 'ZeeLiDoX' 'number9no9' 'Principality0fGood' 'fluentinimagery'\n",
      " 'New_Statistician_973' 'DannyMannyYo' 'dan5183' 'tylerdurd8n'\n",
      " 'HistorianBirb' 'Expensive-Waltz6672' 'nasyo90' 'Annual-Copy-5063'\n",
      " 'mcmalloy' 'Tolgium23' 'TheDoeTheJohn' 'BhargavasDRamus'\n",
      " 'TheUDontKnowMeGuy' 'musicsexual13' 'BennettChappy' 'JesterRaiin'\n",
      " 'Aliswrldsskrd' 'ArtRoomWindow' 'Pewisms' 'carlospangea'\n",
      " 'Limp-Advisor8924' 'y0ung_slug' 'Scarcity_Pleasant' 'Picards__Flute'\n",
      " 'rock_lobsterrr' 'teller-of-stories' 'deli1129' 'Bigboybong'\n",
      " 'theREALlackattack' 'LiberalKiwi' 'SmokingTanuki' 'RhymesoftheTimes'\n",
      " 'burningpet' 'Gal_Axy' 'DoNotPetTheSnake' 'NikitaZaitcev' 'Lord_darkwind'\n",
      " 'LionHeart_CA' 'bejammin075' 'Spikeybear' 'Snowzg' 'americanantiquesMTD'\n",
      " 'AlitaBattlePringleTM' 'youGottaBeKiddink' 'Curious-Sir-6998'\n",
      " 'GalileosTele' 'Empow3r3d' 'StrokeThreeDefending' 'ace250674' 'etherd0t'\n",
      " 'AllYouNeedIsTruth' 'Tuxhanka' 'warrior_for_truth' 'Pupperschmit'\n",
      " 'Acplay' 'Faust_TSFL' 'WonWop' 'WayneFable' 'notlostbutwondering'\n",
      " 'C0llege0fCle0patra' 'LuckNovachrono' 'nimrod--' 'zenona_motyl'\n",
      " 'Travelsthroughnature' 'Proudhon1980' 'Skipperdogs' 'SnooHobbies75'\n",
      " 'imishtenko' 'AbheekG' 'AfromAlabama' 'EggEaterWifeBeater' 'Amelia_Janes'\n",
      " 'curiosfinds' 'Unknownbadger4444' 'HolgerIsenberg' 'ufohunterr'\n",
      " 'TheCIASellsDrugs' 'Liaoningornis' 'kquinn00' '2_Large_Regulahs'\n",
      " 'ringspanner3' 'Technoho' 'hassusas' 'truthstrongerthanbs' 'michealc94'\n",
      " 'WasThisAtlantis' 'RonSwazy' 'mental_atrophy2023' 'dailymail'\n",
      " 'dopenheart' 'c0ntr0ll3dsubstance' 'Dense_Flamingo2593' 'markantony2021'\n",
      " 'IsisAgent420' 'DashyDixon' 'NewJerseyCPA' 'PassengerMindless729'\n",
      " 'Jwrangl3r' 'trvpmstrflx' 'Obvious_Factor7103' 'ktempest' 'ExodusMovment'\n",
      " 'desensitize_terror' 'Jennaright' 'thefutureisugly' 'silent_woo' '3choez'\n",
      " 'CEHParrot' 'hypotheticallyhigh' 'Altruistic-Piece-975' 'threetogetready'\n",
      " 'Muted-Incident7802' 'rampzn' 'pilgrim_souldier33' 'DavidM47'\n",
      " 'GroundbreakingNewt11' 'PoFFy_da_Furry' 'Hailtotheking88'\n",
      " 'JackieChan1600' 'zlaxy' 'dvjutecvkklvf' 'Low_Mall_7869' 'alexbigshid'\n",
      " 'BetaKeyTakeaway' 'SPsychologyResearch' 'Specialist-Debate664'\n",
      " 'Oxfordcom' 'ProfundaExco' 'MuuaadDib' 'soothsayer3' 'Adamaniel000'\n",
      " 'GlobalUfoChannel' 'MasterOfMindz420' '0000111100002' 'atenne10'\n",
      " 'AhuraApollyon' 'insignificantsea' 'ArmenianArmenoid' 'JesseBBrown'\n",
      " 'JohnnyDeLorean' 'anotherintelanalyst' 'Hakai8523' 'iptv_inquirer'\n",
      " 'Nikto75' 'Beef_turbo' 'TheKotoExperiencrrr' 'lorankv' 'TheAngryHippii'\n",
      " 'Oakthrees' 'Ness-' 'saint-seniores' 'LegendsUnveiled1' 'bumbles1290'\n",
      " 'doctornemo' 'wrestlethewalrus' 'Shotgun_jimmy' 'BubblyPage6719'\n",
      " 'SimsStudiosLLC' 'TheBuddhistTraveler' 'Lt_Bear13' 'OkClothes1875'\n",
      " 'Yanbou79' 'freeearlplease' 'LegoMyAlterEgo' 'SatansSch1ong'\n",
      " 'mclovin314159' 'prairieparapod' 'Better-Peanut8207' 'Truthseeker_23'\n",
      " 'DirtDolphin666' 'vinetwiner' 'stabaho' 'bartroberts2003' 'xive22'\n",
      " 'Spirited-Bit9673' 'Thorlongus' 'ZioDOLAN' 'jojojoy'\n",
      " 'ShaqsSmirkingRevenge' 'Sorry_Company_466' 'KanDats' 'Kaleidokobe'\n",
      " 'Positive_Move_3984' 'Technical-Till-6417' 'consciuoslydone' 'LTYD99'\n",
      " 'YosephusMaximus0' 'rikijimi' 'ShreevathsaGP' 'Archives-of-Creation'\n",
      " 'LAiens' 'ThothTheMagicDragon' 'INTHEMIDSTOFLIONS' 'I_am_levitating'\n",
      " 'larry_the_loving' 'renegade4eva' 'A_Wise_Mans_Fear' 'MoonBapple'\n",
      " 'Gainsgoham' 'Impressive_Essay8167' 'c0sminX' 'Prana-Central' 'JDWired'\n",
      " 'Traditional-Town3040' 'ValiantThor07' 'DecisionGrouchy9695' 'FrogJarKun'\n",
      " 'JefOgb' 'AncientBasque' 'Vo_Sirisov' 'MaxBrainSizeAchieved'\n",
      " 'pthecarrotmaster' 'HomoChadilus' 'elcooksta' 'Expert-Desk7492'\n",
      " 'isRandyMarsh' 'thisisntsean310' 'The_Deuteragonist' 'PotNoodlez'\n",
      " 'd00000med' 'Typical_Season_2296' '_Lus' 'SadHistorianUkr'\n",
      " 'CherryKrisKross' 'DirtieHarry' 'ansh4050' 'Certain-Cut-3806'\n",
      " 'KindheartednessIll97' 'TheBig900' 'Cool_Alternative_374'\n",
      " 'LeoLittlebook6' 'Ashamed_Proof471' 'jsgui' 'suleymansahburgazli'\n",
      " 'cnidianvenus' 'zoinks_zoinks' 'AdSweaty5570' 'X88B88X88B88'\n",
      " 'WonderWizWon' 'Ad-3646' 'sosabeendrippin' 'dingykaren' 'squiggla'\n",
      " 'kinger90210' 'rashidrush' 'Collective1985' 'velvet_satan'\n",
      " 'Third-World-Memes' 'ChiefOfficerWhite' 'ahowls' 'Scroofinator'\n",
      " 'hereforUFOdisclosure' 'ghostinthemachine93' 'Crafty-Cartoonist461'\n",
      " 'christchex91' 'BracerCrane' 'Global-Honey-9026' 'parrire' 'tlawtlawtlaw'\n",
      " 'Romario_Mimore' 'Timelord1000' 'KoporoInsight' 'Richard_Amb'\n",
      " 'canadian-weed' 'FlammenwerferBBQ' 'papapercy69' 'speakhyroglyphically'\n",
      " 'Earth7051' 'anon12347356' 'TimeTravelX11' 'KoanicSoul' 'aidan_slug'\n",
      " 'CuntyAlice' 'rocco2121' 'e_Seeker' '_margiela' 'NoGood5040'\n",
      " 'intofarlands' 'Illustrious_Blood460' 'APensiveMonkey'\n",
      " 'Healthy-Garlic3412' 'HyggeHoney' 'phyto123' 'physiotheraputics'\n",
      " 'Shamino79' 'reddituser870870' 'Prgjdsaewweoidsm' 'TrivetteNation'\n",
      " 'Robeaux89' 'Meryrehorakhty' 'sunheadforest' '13kerem' 'fnrptr'\n",
      " 'ZestycloseTurnover48' 'elijahollison' 'No_Nefariousness8879' 'machoov'\n",
      " 'chillyjr' 'HomeRelic' 'Difficult_Counter449' 'mataka54321'\n",
      " 'Alarming_Breath_3110' 'nonoohnoohno' 'Own_Assistant_2511' 'sober_cow'\n",
      " 'Competitive-Cycle-38' 'Campanerut' 'Ubud_bamboo_ninja'\n",
      " 'Patient_Leg_9647' 'coolnavigator' 'TheHouseofOne' 'iChase666' 'kfelovi'\n",
      " 'ProjectDebunked' 'iLikePsychedelics' 'Pure-Drop-5145' 'BogWizard'\n",
      " 'Thoth187' 'verma2470' 'Wooden-Education-686' 'SnooFoxes5433'\n",
      " 'liminaljerk' 'Beneficial-Scale3600' 'Lyrebird_korea' 'ItsYaBoiDatBoi'\n",
      " 'Sinnert123' 'lucentdz' 'MickTrickster' 'DifficultAd7382'\n",
      " 'Traditional_Tree7749' 'KridusThings' 'Mycrows20' 'mw8912a' 'Curieuxctv'\n",
      " 'logan14309' 'Alien__Yes' 'Ok_Golf_760' 'Ok-Imagination-2308'\n",
      " 'SassafrassRomance' 'Rebelcast' 'TheLegend2T' 'TeslaPyramids' 'SisRob'\n",
      " 'wdb108' 'complexbillions' 'DrThack' 'takalua' 'rtmcder'\n",
      " 'SILV3RAWAK3NING76' 'MacCyp_1985' 'ZenDragon' 'GrowErethang'\n",
      " 'LumpyGravy21' 'iNeedToBeInFlorida' 'ameyms' 'Curious-Intention169'\n",
      " 'WukuAndrew' 'TaToten' 'modswhocensorsuck' 'bipptybopptyboovvbvv'\n",
      " 'Successful_Quail' 'mrmadness79' 'Fatmeat7890' 'Nascent_Ascension'\n",
      " 'the_antics' 'jessiyvonne' 'buttnuggs4269' 'Due_Understanding748'\n",
      " 'geniusmindbeats' 'jackosan' 'nicely_sedated' 'Beneficial_Post5260'\n",
      " 'stohqu' 'unsignedmark' 'rstrp' 'rocky41118' 'Dry-Giraffe-9556'\n",
      " 'LongSong333' 'xwzt' 'jayasrilanka' 'Canuda' 'fiftyfourette'\n",
      " 'BillieBoJangers' 'TN_Egyptologist' 'scrupulous_oik' 'ByeLizardScum'\n",
      " 'Joec87' 'Vardath' '1servethebase' 'PossessionNo146' 'UnaAlmaPerdida'\n",
      " 'Alcheringa_Fall' 'Gullible-Branch-5230' 'BeautifulNibiru' 'awakened97'\n",
      " 'foxyed-']\n"
     ]
    }
   ],
   "source": [
    "column = \"author\"\n",
    "print(history[column].unique())\n",
    "print(alternative_history[column].unique())"
   ]
  },
  {
   "cell_type": "markdown",
   "id": "46ffd931-47d8-4752-984d-9b1a4ef31606",
   "metadata": {},
   "source": [
    "This information may help us make more accurate predictions. Hence, we keep it."
   ]
  },
  {
   "cell_type": "markdown",
   "id": "18c7f196-a526-4d47-82bd-8c6582ab359b",
   "metadata": {
    "jp-MarkdownHeadingCollapsed": true
   },
   "source": [
    "### `num_comments`"
   ]
  },
  {
   "cell_type": "code",
   "execution_count": 47,
   "id": "465b9313-8cb9-47a2-9d54-b5caedfaaf7f",
   "metadata": {
    "scrolled": true
   },
   "outputs": [
    {
     "name": "stdout",
     "output_type": "stream",
     "text": [
      "[   6 1171  392  854   67  743  407  475  103   22  610  428  882   32\n",
      " 1032   45  680  170    4   35  343  784  289   14  158 1128  733   28\n",
      "  405  458   20 1286  173   13   47  142    8  145  224  122 6403   10\n",
      "    2   15    5  119   34   23   31 1191  109  225  150  235 1314  233\n",
      "  262   41   89  526  324  260   98   24  419  546   58  247  698    9\n",
      "  549  298  518  390    0  374  308  345   21  474   25  745   76  640\n",
      "  271  202  416   18   73  404   16  401  444 1405  556  508 1088   11\n",
      "    7 1321   19  164  632 2008   94    3  988  685  577    1  423   43\n",
      "  218  101   36   95  901  238  741  381  978  633  422  578  568  151\n",
      "  141  502   53  138   78  599   77   26  754  134  297  200  239  450\n",
      "   42 1165  582  766  534  172   39  349 2282  606 1052  264  818   54\n",
      " 1261  429   91  136 1107  984  670  230  459  133  908  220 1064  836\n",
      " 1871   37  601   59  307  530  507  167  999  476   30   97 1502  157\n",
      "  424  683  148  585 1980   71  259 2904   66  140  831   72  187  182\n",
      " 1530  162  531 1477   17 1790 1227  443   48 1937  282  154   12  189\n",
      "  674  622  126  152  153   29  346  679  533  672  309  725  503  146\n",
      "  387  279  630   93   85  625  116   79  764 1615  196   62  120  960\n",
      "  195   27  366  567  337  328  302  638  597  686  897  495   64  208\n",
      "   90 1189  849  206   69   75  315  867  383  232  253  532  675  864\n",
      "  371  744 1454  270  105  204  222   52  341 3021 1012  244  889 1508\n",
      "  489  161 1217   96  277 1906  499  205  399  301 3379  868  375  351\n",
      " 1480 1092   51  386 1138  617  334  111  318  687  241 1624  300  223\n",
      "  198  591  243  955  884 2648  186  118  537  460  219 1011  462 2248\n",
      "  576 4504  983   83  213  573  564  787   74 2385  438  753  127  620\n",
      "  100  981   70  357 2876  108   82  110   50  873  982 2280  461  439\n",
      "   49  321 2378  402  274  667   55  234 1103  923  415  563   84  697\n",
      " 1226  848 1030  342   33 1521  312  185  956  455  879  377 1274 1202\n",
      "  496  175  393  559  124  113  548  155   46  770  370  359 1130  865\n",
      "  737  840  258  191  228  171 1587  207 1047  863  677 1233  268 1322\n",
      "  958  648  149  739  846  932  902 1016  354  699  275  403  284  135\n",
      "   87 1459 1500 1628  197  903   88  177 1599  430  358  338   65  930\n",
      "  586 2039  217  483   44   99  634  325  510   56  886  845   63 1127\n",
      "  360  265  477  647  273  112  658  517 1218  417   92  541  193  662\n",
      "  951  457 1510 3483  132  501  561  272  788  676  435  242  964 1467\n",
      "  957  362  376  181  492  129  995  125 1483  650  147 1104  525 1094\n",
      "  910  304  783  166   40  327  412  480  944  214  626  114  174  367\n",
      "  990  762  447  280  246  746   61 1079 1450  524  339  931  190  819\n",
      "  751 1853 1123   57  287  139   80  319  373  210  730  395 1838  557\n",
      " 1253  332 2323  261  611  183  917  123  893  590 1256  160  102  463\n",
      " 2596  523  938 1453  431  316  759  575  352  482  355  941  608   38\n",
      "  637  333  494  742 1203  619  758 1252  107  322  690  977  128  829\n",
      "  924  729   68 2356  326  839  281  361  696  115  442  691  837   60\n",
      "  252  827  379  384  693  872 1067 1023  464  735  117 3163  639 1501\n",
      "  305  420 2789  179  912  571  165  199  791  143 1159  194  808  391\n",
      " 1297 1418 1461 1541 1116  466  285 1205  562  880  574  584  356  203\n",
      "  635 1004  673 1633 1489  810  899  276  756  921  656  278 1497  201\n",
      "  505 1070  368  710  329  251  288 1114  812  445  436  805  453  353\n",
      " 1350  905  451  434  695 3582  692  653 1021   86  269  440 2368 1133\n",
      " 3144  669  418  331  372  159 1693  914  254  452  335  176 1213 1524\n",
      "  922  441  486  465 1566  927  892  306  825  456  184 1248  229  425\n",
      "  121 1806  168  509 1122 1229  540  310 1859  826 1653  719  560 1049\n",
      " 1935 1081  188 2551  513  793  290  163 1549 2784  317 2104  479  256\n",
      " 1151  881 1135  519  527  237 1000 3556 1706 1721 1010  255 1144  888\n",
      "  602 1093  487  340  209 1170  400 1190  320  926  296  130 1328  446\n",
      "  651  212  580  178  708  231  106]\n",
      "[ 21  27   3  23  25  36 170 173 294   9   1 321  47  28  17   8   2  88\n",
      " 145 113  56  58   5  39  29  82  11   4 123  18 114  48   0  31 140  51\n",
      "  76  34  98  13 129  10  37  84  14 232  22   6  62  46  35 250 155 132\n",
      "  67  55 239  57  43 153 137  33 219 120 138 106  69 550  64  41  12  53\n",
      " 221  61  50 124  59 244 125  60  26 118  94 254  80 122  93  16  44 405\n",
      "  66  32  72  15  40 161  45  54   7 119  19  71 395 128  74  86  42  30\n",
      " 207  90 103 131 151  38  49  79 112  52 176 174 159 431 156 285 135 258\n",
      " 126  24 235 191 101  20  68 247 279  75  77 264 102 100 141 230  85 315\n",
      " 116  73 229 178 210 236 188 192  70 108 107  95 158  83 414 257 209 298\n",
      " 160 144 165 202 198 169  91  89 806 220  92 197 105 152 450 133  97  78\n",
      " 115 231 211  65 203 171 216 110 347 148 273 127  96  81 134 291 223 149\n",
      " 401 259  63 147 183 179 186 196 193 109 277 117 406 518  99 157 121 262\n",
      " 537 200 272 180 111 139 260 628 346 604 392 228 255 190 201 194 142 143\n",
      " 167 322 217 168 314 269 398 287 225 326 104 293  87 130 208 199 358 213\n",
      " 270 491 163 943 832 206 212 227 204 146 136 266]\n"
     ]
    }
   ],
   "source": [
    "column = \"num_comments\"\n",
    "print(history[column].unique())\n",
    "print(alternative_history[column].unique())"
   ]
  },
  {
   "cell_type": "markdown",
   "id": "081af63d-0d79-4e0f-85d0-ecff3934c944",
   "metadata": {},
   "source": [
    "Given this is a numeric column and we can observe some variance in both datasets, we keep it."
   ]
  },
  {
   "cell_type": "markdown",
   "id": "d9e023d8-292c-47ac-9fd7-6c127de0c774",
   "metadata": {
    "jp-MarkdownHeadingCollapsed": true
   },
   "source": [
    "### `send_replies`"
   ]
  },
  {
   "cell_type": "code",
   "execution_count": 48,
   "id": "cfb70f9b-fb8f-449b-9d34-666c5908cc34",
   "metadata": {
    "scrolled": true
   },
   "outputs": [
    {
     "name": "stdout",
     "output_type": "stream",
     "text": [
      "[ True False]\n",
      "[ True False]\n"
     ]
    }
   ],
   "source": [
    "column = \"send_replies\"\n",
    "print(history[column].unique())\n",
    "print(alternative_history[column].unique())"
   ]
  },
  {
   "cell_type": "code",
   "execution_count": 49,
   "id": "da9ae3bd-b2d3-41ac-a0b9-33767a4bc85c",
   "metadata": {},
   "outputs": [
    {
     "name": "stdout",
     "output_type": "stream",
     "text": [
      "send_replies\n",
      "True     1522\n",
      "False     413\n",
      "Name: count, dtype: int64\n",
      "send_replies\n",
      "True     1737\n",
      "False     168\n",
      "Name: count, dtype: int64\n"
     ]
    }
   ],
   "source": [
    "print(history[column].value_counts())\n",
    "print(alternative_history[column].value_counts())"
   ]
  },
  {
   "cell_type": "markdown",
   "id": "56530f32-6919-4771-891e-8c089348c02c",
   "metadata": {},
   "source": [
    "Given this is a nominal feature and all categories are present in both datasets, we keep it."
   ]
  },
  {
   "cell_type": "markdown",
   "id": "b32466be-0676-4e79-be73-b78986c501aa",
   "metadata": {
    "jp-MarkdownHeadingCollapsed": true
   },
   "source": [
    "### `stickied`"
   ]
  },
  {
   "cell_type": "code",
   "execution_count": 50,
   "id": "e57476b8-d245-436a-8baa-7d8095ce14de",
   "metadata": {
    "scrolled": true
   },
   "outputs": [
    {
     "name": "stdout",
     "output_type": "stream",
     "text": [
      "[False  True]\n",
      "[False  True]\n"
     ]
    }
   ],
   "source": [
    "column = \"stickied\"\n",
    "print(history[column].unique())\n",
    "print(alternative_history[column].unique())"
   ]
  },
  {
   "cell_type": "code",
   "execution_count": 51,
   "id": "afe7716f-f1aa-428a-b93a-b74e8ac0566a",
   "metadata": {},
   "outputs": [
    {
     "name": "stdout",
     "output_type": "stream",
     "text": [
      "stickied\n",
      "False    1933\n",
      "True        2\n",
      "Name: count, dtype: int64\n",
      "stickied\n",
      "False    1904\n",
      "True        1\n",
      "Name: count, dtype: int64\n"
     ]
    }
   ],
   "source": [
    "print(history[column].value_counts())\n",
    "print(alternative_history[column].value_counts())"
   ]
  },
  {
   "cell_type": "markdown",
   "id": "a209f74b-5bf3-4a41-adb2-437bde08c538",
   "metadata": {},
   "source": [
    "This is a nominal feature and all categories are present in both datasets. However, we drop it because almost 100% of posts are not stickied."
   ]
  },
  {
   "cell_type": "markdown",
   "id": "b69af319-4533-4918-846e-d724005a3d74",
   "metadata": {
    "jp-MarkdownHeadingCollapsed": true
   },
   "source": [
    "### `url`"
   ]
  },
  {
   "cell_type": "code",
   "execution_count": 52,
   "id": "d5b41bb6-fb62-484b-9dc7-a420ff00cc8a",
   "metadata": {
    "scrolled": true
   },
   "outputs": [
    {
     "name": "stdout",
     "output_type": "stream",
     "text": [
      "['https://www.youtube.com/watch?v=GnRNWyf1Rtw'\n",
      " 'https://www.reddit.com/r/history/comments/8gh2ju/with_the_surprising_number_of_commenters_in/'\n",
      " 'https://youtu.be/I2arAuvNZYg' ...\n",
      " 'https://www.ndtv.com/world-news/over-2-000-mummified-sheep-heads-unearthed-in-egypt-temple-3894644/amp/1'\n",
      " 'https://news.cnrs.fr/articles/a-historical-treasure-bordering-ancient-mesopotamia'\n",
      " 'https://www.bbc.com/future/article/20240227-how-julius-caesar-made-the-longest-year-in-history-and-brought-us-leap-years']\n",
      "['https://i.redd.it/wmdvbuqno7y51.jpg'\n",
      " 'https://edition.cnn.com/2013/04/19/world/meast/israel-ancient-structure-mystery/'\n",
      " 'https://www.youtube.com/watch?v=yUJGLf2OUT4' ...\n",
      " 'https://i.redd.it/wm4h2ovsgyu41.jpg'\n",
      " 'https://thechroniclesofhistory.com/2022/06/12/lost-cities-hidden-for-centuries-were-just-discovered-in-bolivia/'\n",
      " 'https://www.reddit.com/r/AlternativeHistory/comments/1ahjylj/egyptian_eye_of_horus_hieroglyph_mirrors_cranial/']\n"
     ]
    }
   ],
   "source": [
    "column = \"url\"\n",
    "print(history[column].unique())\n",
    "print(alternative_history[column].unique())"
   ]
  },
  {
   "cell_type": "markdown",
   "id": "c23547a5-e647-4bb2-801d-683062eafbda",
   "metadata": {},
   "source": [
    "This is an interesting column. Unlike `domain`, `url` offers a way to scrape more text for a post with a non-null `url`. This does add more complexity to the model--like expired links and different html templates--but may be worthy to examine in the future. For now, we decide not to use `url`."
   ]
  },
  {
   "cell_type": "markdown",
   "id": "30816665-7218-47b8-8b4e-984c34764128",
   "metadata": {
    "jp-MarkdownHeadingCollapsed": true
   },
   "source": [
    "### `num_crossposts`"
   ]
  },
  {
   "cell_type": "code",
   "execution_count": 53,
   "id": "c21e4756-c0fb-47d0-9cde-8ec9075ade42",
   "metadata": {
    "scrolled": true
   },
   "outputs": [
    {
     "name": "stdout",
     "output_type": "stream",
     "text": [
      "[ 3  7  1  0  4  2  5  6  8 10 31 14 21  9 12 11 28 15 42 13 49 25 17]\n",
      "[ 0  1  2  3  4  5  6  8  7 15  9 11]\n"
     ]
    }
   ],
   "source": [
    "column = \"num_crossposts\"\n",
    "print(history[column].unique())\n",
    "print(alternative_history[column].unique())"
   ]
  },
  {
   "cell_type": "markdown",
   "id": "4866bb25-233f-4111-a962-7647f3862546",
   "metadata": {},
   "source": [
    "Given this is a numeric column and we can observe some variance in both datasets, we keep it.\n",
    "<br>\n",
    "Note, from this feature we learn that history posts have much higher outreach than alternative history posts."
   ]
  }
 ],
 "metadata": {
  "kernelspec": {
   "display_name": "Python 3 (ipykernel)",
   "language": "python",
   "name": "python3"
  },
  "language_info": {
   "codemirror_mode": {
    "name": "ipython",
    "version": 3
   },
   "file_extension": ".py",
   "mimetype": "text/x-python",
   "name": "python",
   "nbconvert_exporter": "python",
   "pygments_lexer": "ipython3",
   "version": "3.11.8"
  }
 },
 "nbformat": 4,
 "nbformat_minor": 5
}
